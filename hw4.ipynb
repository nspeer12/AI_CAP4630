{
  "nbformat": 4,
  "nbformat_minor": 0,
  "metadata": {
    "colab": {
      "name": "Untitled0.ipynb",
      "provenance": [],
      "collapsed_sections": [],
      "toc_visible": true,
      "authorship_tag": "ABX9TyNHdIViARh0f081ovppGGWD",
      "include_colab_link": true
    },
    "kernelspec": {
      "name": "python3",
      "display_name": "Python 3"
    }
  },
  "cells": [
    {
      "cell_type": "markdown",
      "metadata": {
        "id": "view-in-github",
        "colab_type": "text"
      },
      "source": [
        "<a href=\"https://colab.research.google.com/github/nspeer12/AI_CAP4630/blob/master/hw4.ipynb\" target=\"_parent\"><img src=\"https://colab.research.google.com/assets/colab-badge.svg\" alt=\"Open In Colab\"/></a>"
      ]
    },
    {
      "cell_type": "code",
      "metadata": {
        "id": "gAPaWYrj_iE5",
        "colab_type": "code",
        "colab": {}
      },
      "source": [
        "import numpy as np"
      ],
      "execution_count": 0,
      "outputs": []
    },
    {
      "cell_type": "markdown",
      "metadata": {
        "id": "BVEpa1Dz_jiq",
        "colab_type": "text"
      },
      "source": [
        "### Homework 4\n",
        "\n",
        "**Problem 1**\n",
        "\n",
        "Using only ```numpy```, implement the function ```conv2d```.  It takes as input ```input_mat``` and ```kernel_mat``` and outputs ```output_mat```.  All variables \n",
        "are square matrices.  It should compute the convolution of ```input_mat``` with the kernel ```kernel_mat``` using valid padding.\n",
        "\n"
      ]
    },
    {
      "cell_type": "markdown",
      "metadata": {
        "id": "PcUBsrc6B8JH",
        "colab_type": "text"
      },
      "source": [
        "kernel slides over the input matrix, performs multiplication for each element, and then adds them up to produce the output"
      ]
    },
    {
      "cell_type": "code",
      "metadata": {
        "id": "MKzKihRQ_s_o",
        "colab_type": "code",
        "colab": {}
      },
      "source": [
        "def conv2d(input_mat, kernel_mat):\n",
        "  # get the dimensions of the output layer\n",
        "  n = input_mat.shape[0] - kernel_mat.shape[0] + 1\n",
        "  m = kernel_mat.shape[0]\n",
        "  print(m)\n",
        "  output_mat = np.zeros((n, n))\n",
        "\n",
        "  for i in range(n):\n",
        "    for k in range(n):\n",
        "      # multiply by filter\n",
        "      conv = np.dot(input_mat[i:i+m, k:k+m], kernel_mat)\n",
        "      # sum all elements\n",
        "      output_mat[i,k] = np.sum(conv)\n",
        "\n",
        "  return output_mat"
      ],
      "execution_count": 0,
      "outputs": []
    },
    {
      "cell_type": "code",
      "metadata": {
        "id": "jBT9qkSJCdm6",
        "colab_type": "code",
        "colab": {
          "base_uri": "https://localhost:8080/",
          "height": 87
        },
        "outputId": "fd3f9667-0db2-4ed8-f851-9d6374627102"
      },
      "source": [
        "input_mat = np.random.rand(4,4)\n",
        "kernel_mat = np.random.rand(2,2)\n",
        "output_mat = conv2d(input_mat, kernel_mat)\n",
        "print(output_mat)"
      ],
      "execution_count": 62,
      "outputs": [
        {
          "output_type": "stream",
          "text": [
            "2\n",
            "[[1.97233939 1.64429784 2.41160713]\n",
            " [3.19981996 2.58710472 2.53681168]\n",
            " [2.83504724 1.79239426 1.43536859]]\n"
          ],
          "name": "stdout"
        }
      ]
    },
    {
      "cell_type": "markdown",
      "metadata": {
        "id": "9_tzSYEr_kN4",
        "colab_type": "text"
      },
      "source": [
        "**Problem 2**\n",
        "\n",
        "Using only ```numpy```, implement the function ```maxpooling2d```. It takes as input ```input_mat``` and ```s``` and outputs ```output_mat```.\n",
        "The variables ```input_mat``` and ```output_mat``` are square matrices and ```s``` is an integer.  It should compute the maxpooling operation \n",
        "on ```input_mat``` using window of shape ```s``` times ```s```.\n",
        "\n"
      ]
    },
    {
      "cell_type": "code",
      "metadata": {
        "id": "gojANPkWHBqa",
        "colab_type": "code",
        "colab": {}
      },
      "source": [
        ""
      ],
      "execution_count": 0,
      "outputs": []
    },
    {
      "cell_type": "markdown",
      "metadata": {
        "id": "xhOHayng_kVs",
        "colab_type": "text"
      },
      "source": [
        "**Problem 3**\n",
        "\n",
        "You will adapt the notebook [using VGG16 conv base for feature extraction, using data augmentation, not using dropout, fine-tuning](https://colab.research.google.com/drive/1F-RWvoxH8MmT7c1UmNy41iuOp-ejiLoF).\n",
        "You will have to replace the VGG16 conv base by new conv bases. You should not use VGG19.\n",
        "\n",
        "You should create two notebooks.  Both should use the same conv base, unfreeze the same number of layers of the conv_base, \n",
        "but use different classifiers."
      ]
    }
  ]
}