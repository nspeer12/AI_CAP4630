{
  "nbformat": 4,
  "nbformat_minor": 0,
  "metadata": {
    "colab": {
      "name": "hw3.ipynb",
      "provenance": [],
      "collapsed_sections": [],
      "authorship_tag": "ABX9TyNUfd0q6BqUaXOSMeY0d7K9",
      "include_colab_link": true
    },
    "kernelspec": {
      "name": "python3",
      "display_name": "Python 3"
    }
  },
  "cells": [
    {
      "cell_type": "markdown",
      "metadata": {
        "id": "view-in-github",
        "colab_type": "text"
      },
      "source": [
        "<a href=\"https://colab.research.google.com/github/nspeer12/AI_CAP4630/blob/master/hw3.ipynb\" target=\"_parent\"><img src=\"https://colab.research.google.com/assets/colab-badge.svg\" alt=\"Open In Colab\"/></a>"
      ]
    },
    {
      "cell_type": "code",
      "metadata": {
        "id": "2Yd7IjbAu-_C",
        "colab_type": "code",
        "colab": {
          "base_uri": "https://localhost:8080/",
          "height": 35
        },
        "outputId": "26751445-8c21-4790-9097-4858b7c86f74"
      },
      "source": [
        "import numpy as np\n",
        "import tensorflow.keras as keras\n",
        "%tensorflow_version 2.x\n",
        "import matplotlib.pyplot as plt\n",
        "from sklearn.model_selection import train_test_split"
      ],
      "execution_count": 4,
      "outputs": [
        {
          "output_type": "stream",
          "text": [
            "TensorFlow is already loaded. Please restart the runtime to change versions.\n"
          ],
          "name": "stdout"
        }
      ]
    },
    {
      "cell_type": "markdown",
      "metadata": {
        "id": "q7AmdX8GvbAM",
        "colab_type": "text"
      },
      "source": [
        "Implement the function get_random_data(w, b, mu, sigma, m) that generates random data for logisitic regression with two features features x_1 and x_2. This function should return the array data of shape (m, 2) and the array labels of shape (m, 1).\n",
        "\n",
        "The entries of the arrays should be generated as follows. For each row i in {0, 1, ..., m-1}:\n",
        "\n",
        "Choose class label c=0 with probability 1/2 and c=1 with probability 1/2.\n",
        "Choose the first feature x_1 uniformly at random in the interval [0, 1).\n",
        "Set the second feature x_2 to be x_2 = w * x_1 + b + (-1)^c * n, where the \"noise\" n is chosen according to the normal distribution with mean mu and standard deviation sigma.\n",
        "The ith row of the array data consists of the features x_1 and x_2.\n",
        "The ith entry of the vector labels is the class label c.\n",
        "Implement the function display_random_data that takes as input the above two arrays labels and data. It should create scatter plot of the 2D points stored in data. Use red dots to plot the points whose labels are 1 and blue dots to plot the points whose labels are 0.\n",
        "\n",
        "Hints: You should see that the 2D points (feature vectors) corresponding to different classes are approximately separated by the line y = w * x + b, where w and b are the parameters that you used to generate the data. Note that the smaller the parameter mu, the closer the points are to this line. Also, the larger the parameter sigma, the more points can be on the wrong side of this line.\n",
        "\n",
        "Experiment with different values of mu and sigma. Make sure that the parameter m is large enough so you have enough data points.\n",
        "\n",
        "Split the data/labels into a training set (80%) and a test set (20%).\n",
        "\n",
        "Links to the numpy documentation of the functions that can be used to draw samples according to the uniform and normal distributions:\n",
        "\n",
        "Normal distribution\n",
        "Uniform distribution\n",
        "You can learn more about the normal distribution on https://en.wikipedia.org/wiki/Normal_distribution. To gain some intuition, it would be helpful to plot the Gaussian function for different parameters mu and sigma in a seperate notebook (that you do not have to submit). Later in the semester, you will need to work with normal distribution to understand variational autoencoders.\n"
      ]
    },
    {
      "cell_type": "code",
      "metadata": {
        "id": "PxmywQ7WvRCC",
        "colab_type": "code",
        "colab": {}
      },
      "source": [
        "np.random.seed(999)\n",
        "\n",
        "def get_random_data(w, b, mu, sigma, m):\n",
        "  c = [0 if np.random.rand(1) < .5 else 1 for x in range(m)]\n",
        "  alt_c = [(-1)**i for i in c]\n",
        "\n",
        "  x_1 = np.random.uniform(low=0, high=1, size=m)\n",
        "  x_2 = np.add(w * x_1, np.add(b, np.dot(alt_c, np.random.normal(loc=mu, scale=sigma, size=m))))\n",
        "\n",
        "  colors = [None] * m\n",
        "  for x in range(len(colors)):\n",
        "    colors[x] = ('blue' if c[x] == 1 else 'red')\n",
        "\n",
        "  return x_1, x_2, c"
      ],
      "execution_count": 0,
      "outputs": []
    },
    {
      "cell_type": "code",
      "metadata": {
        "id": "ajKZIqjLvsba",
        "colab_type": "code",
        "outputId": "efd857f4-e4bd-4ed2-df5f-80a0cc724111",
        "colab": {
          "base_uri": "https://localhost:8080/",
          "height": 320
        }
      },
      "source": [
        "def graph_random_data():\n",
        "  x_1, x_2, c = get_random_data(5,1,5,100,100)\n",
        "  fig, ax = plt.subplots(figsize=(5,5))\n",
        "\n",
        "  cmap = ['red' if k == 1 else 'blue' for k in c]\n",
        "  ax.scatter(x_1, x_2, c=cmap)\n",
        "  plt.show()\n",
        "\n",
        "graph_random_data()"
      ],
      "execution_count": 16,
      "outputs": [
        {
          "output_type": "display_data",
          "data": {
            "image/png": "[encoded data removed]",
            "text/plain": [
              "<Figure size 360x360 with 1 Axes>"
            ]
          },
          "metadata": {
            "tags": []
          }
        }
      ]
    },
    {
      "cell_type": "code",
      "metadata": {
        "id": "rGMo8dKDwbfq",
        "colab_type": "code",
        "colab": {}
      },
      "source": [
        ""
      ],
      "execution_count": 0,
      "outputs": []
    },
    {
      "cell_type": "markdown",
      "metadata": {
        "id": "FcoboTTZCcb6",
        "colab_type": "text"
      },
      "source": [
        "**Problem 2**\n",
        "\n",
        "Create a Keras to implement logistic regression with two features and train it with the data generated in Problem 1. The loss should be the binary cross entropy loss. \n",
        "\n",
        "How well does the trained model separate the red and blue dots?  You can obtain the separating line determined by the model by extracting the weights from the dense layer using the function ```get_weights```. See [https://keras.io/layers/about-keras-layers/](https://keras.io/layers/about-keras-layers/).  \n",
        "\n",
        "Create a plot showing the random data, the true line used to generate the data, and the separating line of the trained model. Make sure that you describe in detail in your notebook how you proceed to obtain the separating line.\n",
        "\n",
        "Note that you have to carry out some simple steps to obtain the separating line from the model weights (the two weights and the bias term of the dense layer).  This is not immediately obvious.  It maybe helpful to take a look at the heatmap below.\n",
        "\n",
        "The trained model realizes function ```f : R^2 -> R``` that takes two features as input and outputs a number in the interval ```[0, 1]```. Use a heatmap to visualize this function.  \n",
        "\n",
        "---"
      ]
    },
    {
      "cell_type": "code",
      "metadata": {
        "id": "oqmnBwlzCdd2",
        "colab_type": "code",
        "colab": {
          "base_uri": "https://localhost:8080/",
          "height": 1000
        },
        "outputId": "14244728-bf82-48a7-99a9-d3b8c601442e"
      },
      "source": [
        "import numpy as np\n",
        "from keras.models import Sequential\n",
        "from keras.layers import Dense\n",
        "from keras.regularizers import L1L2\n",
        "\n",
        "x_1, x_2, y = get_random_data(5,5,5,5,100)\n",
        "X = np.array([x_1, x_2]).T\n",
        "x_train, x_test, y_train, y_test = train_test_split(X, y)\n",
        "\n",
        "model = Sequential()\n",
        "model.add(Dense(1, activation='softmax', input_dim=X.shape[1]))\n",
        "\n",
        "model.compile(optimizer='rmsprop', loss='binary_crossentropy', metrics=['accuracy'])\n",
        "\n",
        "model.fit(x_train, y_train, epochs=100, validation_data=(x_test, y_test))"
      ],
      "execution_count": 45,
      "outputs": [
        {
          "output_type": "stream",
          "text": [
            "Train on 75 samples, validate on 25 samples\n",
            "Epoch 1/100\n",
            "75/75 [==============================] - 0s 4ms/step - loss: 6.8021 - acc: 0.5733 - val_loss: 7.6523 - val_acc: 0.5200\n",
            "Epoch 2/100\n",
            "75/75 [==============================] - 0s 96us/step - loss: 6.8021 - acc: 0.5733 - val_loss: 7.6523 - val_acc: 0.5200\n",
            "Epoch 3/100\n",
            "75/75 [==============================] - 0s 117us/step - loss: 6.8021 - acc: 0.5733 - val_loss: 7.6523 - val_acc: 0.5200\n",
            "Epoch 4/100\n",
            "75/75 [==============================] - 0s 105us/step - loss: 6.8021 - acc: 0.5733 - val_loss: 7.6523 - val_acc: 0.5200\n",
            "Epoch 5/100\n",
            "75/75 [==============================] - 0s 231us/step - loss: 6.8021 - acc: 0.5733 - val_loss: 7.6523 - val_acc: 0.5200\n",
            "Epoch 6/100\n",
            "75/75 [==============================] - 0s 113us/step - loss: 6.8021 - acc: 0.5733 - val_loss: 7.6523 - val_acc: 0.5200\n",
            "Epoch 7/100\n",
            "75/75 [==============================] - 0s 128us/step - loss: 6.8021 - acc: 0.5733 - val_loss: 7.6523 - val_acc: 0.5200\n",
            "Epoch 8/100\n",
            "75/75 [==============================] - 0s 105us/step - loss: 6.8021 - acc: 0.5733 - val_loss: 7.6523 - val_acc: 0.5200\n",
            "Epoch 9/100\n",
            "75/75 [==============================] - 0s 166us/step - loss: 6.8021 - acc: 0.5733 - val_loss: 7.6523 - val_acc: 0.5200\n",
            "Epoch 10/100\n",
            "75/75 [==============================] - 0s 119us/step - loss: 6.8021 - acc: 0.5733 - val_loss: 7.6523 - val_acc: 0.5200\n",
            "Epoch 11/100\n",
            "75/75 [==============================] - 0s 148us/step - loss: 6.8021 - acc: 0.5733 - val_loss: 7.6523 - val_acc: 0.5200\n",
            "Epoch 12/100\n",
            "75/75 [==============================] - 0s 101us/step - loss: 6.8021 - acc: 0.5733 - val_loss: 7.6523 - val_acc: 0.5200\n",
            "Epoch 13/100\n",
            "75/75 [==============================] - 0s 133us/step - loss: 6.8021 - acc: 0.5733 - val_loss: 7.6523 - val_acc: 0.5200\n",
            "Epoch 14/100\n",
            "75/75 [==============================] - 0s 177us/step - loss: 6.8021 - acc: 0.5733 - val_loss: 7.6523 - val_acc: 0.5200\n",
            "Epoch 15/100\n",
            "75/75 [==============================] - 0s 133us/step - loss: 6.8021 - acc: 0.5733 - val_loss: 7.6523 - val_acc: 0.5200\n",
            "Epoch 16/100\n",
            "75/75 [==============================] - 0s 126us/step - loss: 6.8021 - acc: 0.5733 - val_loss: 7.6523 - val_acc: 0.5200\n",
            "Epoch 17/100\n",
            "75/75 [==============================] - 0s 81us/step - loss: 6.8021 - acc: 0.5733 - val_loss: 7.6523 - val_acc: 0.5200\n",
            "Epoch 18/100\n",
            "75/75 [==============================] - 0s 86us/step - loss: 6.8021 - acc: 0.5733 - val_loss: 7.6523 - val_acc: 0.5200\n",
            "Epoch 19/100\n",
            "75/75 [==============================] - 0s 99us/step - loss: 6.8021 - acc: 0.5733 - val_loss: 7.6523 - val_acc: 0.5200\n",
            "Epoch 20/100\n",
            "75/75 [==============================] - 0s 110us/step - loss: 6.8021 - acc: 0.5733 - val_loss: 7.6523 - val_acc: 0.5200\n",
            "Epoch 21/100\n",
            "75/75 [==============================] - 0s 91us/step - loss: 6.8021 - acc: 0.5733 - val_loss: 7.6523 - val_acc: 0.5200\n",
            "Epoch 22/100\n",
            "75/75 [==============================] - 0s 97us/step - loss: 6.8021 - acc: 0.5733 - val_loss: 7.6523 - val_acc: 0.5200\n",
            "Epoch 23/100\n",
            "75/75 [==============================] - 0s 82us/step - loss: 6.8021 - acc: 0.5733 - val_loss: 7.6523 - val_acc: 0.5200\n",
            "Epoch 24/100\n",
            "75/75 [==============================] - 0s 90us/step - loss: 6.8021 - acc: 0.5733 - val_loss: 7.6523 - val_acc: 0.5200\n",
            "Epoch 25/100\n",
            "75/75 [==============================] - 0s 95us/step - loss: 6.8021 - acc: 0.5733 - val_loss: 7.6523 - val_acc: 0.5200\n",
            "Epoch 26/100\n",
            "75/75 [==============================] - 0s 144us/step - loss: 6.8021 - acc: 0.5733 - val_loss: 7.6523 - val_acc: 0.5200\n",
            "Epoch 27/100\n",
            "75/75 [==============================] - 0s 123us/step - loss: 6.8021 - acc: 0.5733 - val_loss: 7.6523 - val_acc: 0.5200\n",
            "Epoch 28/100\n",
            "75/75 [==============================] - 0s 110us/step - loss: 6.8021 - acc: 0.5733 - val_loss: 7.6523 - val_acc: 0.5200\n",
            "Epoch 29/100\n",
            "75/75 [==============================] - 0s 103us/step - loss: 6.8021 - acc: 0.5733 - val_loss: 7.6523 - val_acc: 0.5200\n",
            "Epoch 30/100\n",
            "75/75 [==============================] - 0s 105us/step - loss: 6.8021 - acc: 0.5733 - val_loss: 7.6523 - val_acc: 0.5200\n",
            "Epoch 31/100\n",
            "75/75 [==============================] - 0s 118us/step - loss: 6.8021 - acc: 0.5733 - val_loss: 7.6523 - val_acc: 0.5200\n",
            "Epoch 32/100\n",
            "75/75 [==============================] - 0s 115us/step - loss: 6.8021 - acc: 0.5733 - val_loss: 7.6523 - val_acc: 0.5200\n",
            "Epoch 33/100\n",
            "75/75 [==============================] - 0s 96us/step - loss: 6.8021 - acc: 0.5733 - val_loss: 7.6523 - val_acc: 0.5200\n",
            "Epoch 34/100\n",
            "75/75 [==============================] - 0s 107us/step - loss: 6.8021 - acc: 0.5733 - val_loss: 7.6523 - val_acc: 0.5200\n",
            "Epoch 35/100\n",
            "75/75 [==============================] - 0s 99us/step - loss: 6.8021 - acc: 0.5733 - val_loss: 7.6523 - val_acc: 0.5200\n",
            "Epoch 36/100\n",
            "75/75 [==============================] - 0s 117us/step - loss: 6.8021 - acc: 0.5733 - val_loss: 7.6523 - val_acc: 0.5200\n",
            "Epoch 37/100\n",
            "75/75 [==============================] - 0s 107us/step - loss: 6.8021 - acc: 0.5733 - val_loss: 7.6523 - val_acc: 0.5200\n",
            "Epoch 38/100\n",
            "75/75 [==============================] - 0s 245us/step - loss: 6.8021 - acc: 0.5733 - val_loss: 7.6523 - val_acc: 0.5200\n",
            "Epoch 39/100\n",
            "75/75 [==============================] - 0s 117us/step - loss: 6.8021 - acc: 0.5733 - val_loss: 7.6523 - val_acc: 0.5200\n",
            "Epoch 40/100\n",
            "75/75 [==============================] - 0s 274us/step - loss: 6.8021 - acc: 0.5733 - val_loss: 7.6523 - val_acc: 0.5200\n",
            "Epoch 41/100\n",
            "75/75 [==============================] - 0s 115us/step - loss: 6.8021 - acc: 0.5733 - val_loss: 7.6523 - val_acc: 0.5200\n",
            "Epoch 42/100\n",
            "75/75 [==============================] - 0s 106us/step - loss: 6.8021 - acc: 0.5733 - val_loss: 7.6523 - val_acc: 0.5200\n",
            "Epoch 43/100\n",
            "75/75 [==============================] - 0s 113us/step - loss: 6.8021 - acc: 0.5733 - val_loss: 7.6523 - val_acc: 0.5200\n",
            "Epoch 44/100\n",
            "75/75 [==============================] - 0s 145us/step - loss: 6.8021 - acc: 0.5733 - val_loss: 7.6523 - val_acc: 0.5200\n",
            "Epoch 45/100\n",
            "75/75 [==============================] - 0s 141us/step - loss: 6.8021 - acc: 0.5733 - val_loss: 7.6523 - val_acc: 0.5200\n",
            "Epoch 46/100\n",
            "75/75 [==============================] - 0s 110us/step - loss: 6.8021 - acc: 0.5733 - val_loss: 7.6523 - val_acc: 0.5200\n",
            "Epoch 47/100\n",
            "75/75 [==============================] - 0s 98us/step - loss: 6.8021 - acc: 0.5733 - val_loss: 7.6523 - val_acc: 0.5200\n",
            "Epoch 48/100\n",
            "75/75 [==============================] - 0s 130us/step - loss: 6.8021 - acc: 0.5733 - val_loss: 7.6523 - val_acc: 0.5200\n",
            "Epoch 49/100\n",
            "75/75 [==============================] - 0s 111us/step - loss: 6.8021 - acc: 0.5733 - val_loss: 7.6523 - val_acc: 0.5200\n",
            "Epoch 50/100\n",
            "75/75 [==============================] - 0s 104us/step - loss: 6.8021 - acc: 0.5733 - val_loss: 7.6523 - val_acc: 0.5200\n",
            "Epoch 51/100\n",
            "75/75 [==============================] - 0s 108us/step - loss: 6.8021 - acc: 0.5733 - val_loss: 7.6523 - val_acc: 0.5200\n",
            "Epoch 52/100\n",
            "75/75 [==============================] - 0s 111us/step - loss: 6.8021 - acc: 0.5733 - val_loss: 7.6523 - val_acc: 0.5200\n",
            "Epoch 53/100\n",
            "75/75 [==============================] - 0s 89us/step - loss: 6.8021 - acc: 0.5733 - val_loss: 7.6523 - val_acc: 0.5200\n",
            "Epoch 54/100\n",
            "75/75 [==============================] - 0s 104us/step - loss: 6.8021 - acc: 0.5733 - val_loss: 7.6523 - val_acc: 0.5200\n",
            "Epoch 55/100\n",
            "75/75 [==============================] - 0s 108us/step - loss: 6.8021 - acc: 0.5733 - val_loss: 7.6523 - val_acc: 0.5200\n",
            "Epoch 56/100\n",
            "75/75 [==============================] - 0s 85us/step - loss: 6.8021 - acc: 0.5733 - val_loss: 7.6523 - val_acc: 0.5200\n",
            "Epoch 57/100\n",
            "75/75 [==============================] - 0s 81us/step - loss: 6.8021 - acc: 0.5733 - val_loss: 7.6523 - val_acc: 0.5200\n",
            "Epoch 58/100\n",
            "75/75 [==============================] - 0s 95us/step - loss: 6.8021 - acc: 0.5733 - val_loss: 7.6523 - val_acc: 0.5200\n",
            "Epoch 59/100\n",
            "75/75 [==============================] - 0s 85us/step - loss: 6.8021 - acc: 0.5733 - val_loss: 7.6523 - val_acc: 0.5200\n",
            "Epoch 60/100\n",
            "75/75 [==============================] - 0s 88us/step - loss: 6.8021 - acc: 0.5733 - val_loss: 7.6523 - val_acc: 0.5200\n",
            "Epoch 61/100\n",
            "75/75 [==============================] - 0s 96us/step - loss: 6.8021 - acc: 0.5733 - val_loss: 7.6523 - val_acc: 0.5200\n",
            "Epoch 62/100\n",
            "75/75 [==============================] - 0s 167us/step - loss: 6.8021 - acc: 0.5733 - val_loss: 7.6523 - val_acc: 0.5200\n",
            "Epoch 63/100\n",
            "75/75 [==============================] - 0s 111us/step - loss: 6.8021 - acc: 0.5733 - val_loss: 7.6523 - val_acc: 0.5200\n",
            "Epoch 64/100\n",
            "75/75 [==============================] - 0s 116us/step - loss: 6.8021 - acc: 0.5733 - val_loss: 7.6523 - val_acc: 0.5200\n",
            "Epoch 65/100\n",
            "75/75 [==============================] - 0s 134us/step - loss: 6.8021 - acc: 0.5733 - val_loss: 7.6523 - val_acc: 0.5200\n",
            "Epoch 66/100\n",
            "75/75 [==============================] - 0s 112us/step - loss: 6.8021 - acc: 0.5733 - val_loss: 7.6523 - val_acc: 0.5200\n",
            "Epoch 67/100\n",
            "75/75 [==============================] - 0s 103us/step - loss: 6.8021 - acc: 0.5733 - val_loss: 7.6523 - val_acc: 0.5200\n",
            "Epoch 68/100\n",
            "75/75 [==============================] - 0s 123us/step - loss: 6.8021 - acc: 0.5733 - val_loss: 7.6523 - val_acc: 0.5200\n",
            "Epoch 69/100\n",
            "75/75 [==============================] - 0s 115us/step - loss: 6.8021 - acc: 0.5733 - val_loss: 7.6523 - val_acc: 0.5200\n",
            "Epoch 70/100\n",
            "75/75 [==============================] - 0s 116us/step - loss: 6.8021 - acc: 0.5733 - val_loss: 7.6523 - val_acc: 0.5200\n",
            "Epoch 71/100\n",
            "75/75 [==============================] - 0s 116us/step - loss: 6.8021 - acc: 0.5733 - val_loss: 7.6523 - val_acc: 0.5200\n",
            "Epoch 72/100\n",
            "75/75 [==============================] - 0s 113us/step - loss: 6.8021 - acc: 0.5733 - val_loss: 7.6523 - val_acc: 0.5200\n",
            "Epoch 73/100\n",
            "75/75 [==============================] - 0s 245us/step - loss: 6.8021 - acc: 0.5733 - val_loss: 7.6523 - val_acc: 0.5200\n",
            "Epoch 74/100\n",
            "75/75 [==============================] - 0s 133us/step - loss: 6.8021 - acc: 0.5733 - val_loss: 7.6523 - val_acc: 0.5200\n",
            "Epoch 75/100\n",
            "75/75 [==============================] - 0s 137us/step - loss: 6.8021 - acc: 0.5733 - val_loss: 7.6523 - val_acc: 0.5200\n",
            "Epoch 76/100\n",
            "75/75 [==============================] - 0s 179us/step - loss: 6.8021 - acc: 0.5733 - val_loss: 7.6523 - val_acc: 0.5200\n",
            "Epoch 77/100\n",
            "75/75 [==============================] - 0s 176us/step - loss: 6.8021 - acc: 0.5733 - val_loss: 7.6523 - val_acc: 0.5200\n",
            "Epoch 78/100\n",
            "75/75 [==============================] - 0s 174us/step - loss: 6.8021 - acc: 0.5733 - val_loss: 7.6523 - val_acc: 0.5200\n",
            "Epoch 79/100\n",
            "75/75 [==============================] - 0s 134us/step - loss: 6.8021 - acc: 0.5733 - val_loss: 7.6523 - val_acc: 0.5200\n",
            "Epoch 80/100\n",
            "75/75 [==============================] - 0s 163us/step - loss: 6.8021 - acc: 0.5733 - val_loss: 7.6523 - val_acc: 0.5200\n",
            "Epoch 81/100\n",
            "75/75 [==============================] - 0s 155us/step - loss: 6.8021 - acc: 0.5733 - val_loss: 7.6523 - val_acc: 0.5200\n",
            "Epoch 82/100\n",
            "75/75 [==============================] - 0s 134us/step - loss: 6.8021 - acc: 0.5733 - val_loss: 7.6523 - val_acc: 0.5200\n",
            "Epoch 83/100\n",
            "75/75 [==============================] - 0s 134us/step - loss: 6.8021 - acc: 0.5733 - val_loss: 7.6523 - val_acc: 0.5200\n",
            "Epoch 84/100\n",
            "75/75 [==============================] - 0s 120us/step - loss: 6.8021 - acc: 0.5733 - val_loss: 7.6523 - val_acc: 0.5200\n",
            "Epoch 85/100\n",
            "75/75 [==============================] - 0s 141us/step - loss: 6.8021 - acc: 0.5733 - val_loss: 7.6523 - val_acc: 0.5200\n",
            "Epoch 86/100\n",
            "75/75 [==============================] - 0s 140us/step - loss: 6.8021 - acc: 0.5733 - val_loss: 7.6523 - val_acc: 0.5200\n",
            "Epoch 87/100\n",
            "75/75 [==============================] - 0s 148us/step - loss: 6.8021 - acc: 0.5733 - val_loss: 7.6523 - val_acc: 0.5200\n",
            "Epoch 88/100\n",
            "75/75 [==============================] - 0s 132us/step - loss: 6.8021 - acc: 0.5733 - val_loss: 7.6523 - val_acc: 0.5200\n",
            "Epoch 89/100\n",
            "75/75 [==============================] - 0s 146us/step - loss: 6.8021 - acc: 0.5733 - val_loss: 7.6523 - val_acc: 0.5200\n",
            "Epoch 90/100\n",
            "75/75 [==============================] - 0s 134us/step - loss: 6.8021 - acc: 0.5733 - val_loss: 7.6523 - val_acc: 0.5200\n",
            "Epoch 91/100\n",
            "75/75 [==============================] - 0s 122us/step - loss: 6.8021 - acc: 0.5733 - val_loss: 7.6523 - val_acc: 0.5200\n",
            "Epoch 92/100\n",
            "75/75 [==============================] - 0s 154us/step - loss: 6.8021 - acc: 0.5733 - val_loss: 7.6523 - val_acc: 0.5200\n",
            "Epoch 93/100\n",
            "75/75 [==============================] - 0s 126us/step - loss: 6.8021 - acc: 0.5733 - val_loss: 7.6523 - val_acc: 0.5200\n",
            "Epoch 94/100\n",
            "75/75 [==============================] - 0s 127us/step - loss: 6.8021 - acc: 0.5733 - val_loss: 7.6523 - val_acc: 0.5200\n",
            "Epoch 95/100\n",
            "75/75 [==============================] - 0s 123us/step - loss: 6.8021 - acc: 0.5733 - val_loss: 7.6523 - val_acc: 0.5200\n",
            "Epoch 96/100\n",
            "75/75 [==============================] - 0s 112us/step - loss: 6.8021 - acc: 0.5733 - val_loss: 7.6523 - val_acc: 0.5200\n",
            "Epoch 97/100\n",
            "75/75 [==============================] - 0s 113us/step - loss: 6.8021 - acc: 0.5733 - val_loss: 7.6523 - val_acc: 0.5200\n",
            "Epoch 98/100\n",
            "75/75 [==============================] - 0s 95us/step - loss: 6.8021 - acc: 0.5733 - val_loss: 7.6523 - val_acc: 0.5200\n",
            "Epoch 99/100\n",
            "75/75 [==============================] - 0s 115us/step - loss: 6.8021 - acc: 0.5733 - val_loss: 7.6523 - val_acc: 0.5200\n",
            "Epoch 100/100\n",
            "75/75 [==============================] - 0s 107us/step - loss: 6.8021 - acc: 0.5733 - val_loss: 7.6523 - val_acc: 0.5200\n"
          ],
          "name": "stdout"
        },
        {
          "output_type": "execute_result",
          "data": {
            "text/plain": [
              "<keras.callbacks.History at 0x7f8be8d4d438>"
            ]
          },
          "metadata": {
            "tags": []
          },
          "execution_count": 45
        }
      ]
    },
    {
      "cell_type": "code",
      "metadata": {
        "id": "0a7uegBsDIiM",
        "colab_type": "code",
        "colab": {}
      },
      "source": [
        ""
      ],
      "execution_count": 0,
      "outputs": []
    }
  ]
}