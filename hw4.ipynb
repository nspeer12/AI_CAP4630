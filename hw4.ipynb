{
  "nbformat": 4,
  "nbformat_minor": 0,
  "metadata": {
    "colab": {
      "name": "hw4.ipynb",
      "provenance": [],
      "collapsed_sections": [],
      "toc_visible": true,
      "authorship_tag": "ABX9TyPHJzuT0HUSI/ywHU/4ZtRX",
      "include_colab_link": true
    },
    "kernelspec": {
      "name": "python3",
      "display_name": "Python 3"
    }
  },
  "cells": [
    {
      "cell_type": "markdown",
      "metadata": {
        "id": "view-in-github",
        "colab_type": "text"
      },
      "source": [
        "<a href=\"https://colab.research.google.com/github/nspeer12/AI_CAP4630/blob/master/hw4.ipynb\" target=\"_parent\"><img src=\"https://colab.research.google.com/assets/colab-badge.svg\" alt=\"Open In Colab\"/></a>"
      ]
    },
    {
      "cell_type": "code",
      "metadata": {
        "id": "gAPaWYrj_iE5",
        "colab_type": "code",
        "colab": {}
      },
      "source": [
        "import numpy as np"
      ],
      "execution_count": 0,
      "outputs": []
    },
    {
      "cell_type": "markdown",
      "metadata": {
        "id": "BVEpa1Dz_jiq",
        "colab_type": "text"
      },
      "source": [
        "### Homework 4\n",
        "\n",
        "**Problem 1**\n",
        "\n",
        "Using only ```numpy```, implement the function ```conv2d```.  It takes as input ```input_mat``` and ```kernel_mat``` and outputs ```output_mat```.  All variables \n",
        "are square matrices.  It should compute the convolution of ```input_mat``` with the kernel ```kernel_mat``` using valid padding.\n",
        "\n"
      ]
    },
    {
      "cell_type": "markdown",
      "metadata": {
        "id": "PcUBsrc6B8JH",
        "colab_type": "text"
      },
      "source": [
        "kernel slides over the input matrix, performs multiplication for each element, and then adds them up to produce the output"
      ]
    },
    {
      "cell_type": "code",
      "metadata": {
        "id": "MKzKihRQ_s_o",
        "colab_type": "code",
        "colab": {}
      },
      "source": [
        "def conv2d(input_mat, kernel_mat):\n",
        "  # get the dimensions of the output layer\n",
        "  n = input_mat.shape[0] - kernel_mat.shape[0] + 1\n",
        "  m = kernel_mat.shape[0]\n",
        "  print(m)\n",
        "  output_mat = np.zeros((n, n))\n",
        "\n",
        "  for i in range(n):\n",
        "    for k in range(n):\n",
        "      # multiply by filter\n",
        "      conv = np.dot(input_mat[i:i+m, k:k+m], kernel_mat)\n",
        "      # sum all elements\n",
        "      output_mat[i,k] = np.sum(conv)\n",
        "\n",
        "  return output_mat"
      ],
      "execution_count": 0,
      "outputs": []
    },
    {
      "cell_type": "code",
      "metadata": {
        "id": "jBT9qkSJCdm6",
        "colab_type": "code",
        "colab": {
          "base_uri": "https://localhost:8080/",
          "height": 123
        },
        "outputId": "0e7bf51b-6193-4535-aab1-88bde676eff8"
      },
      "source": [
        "input_mat = np.random.rand(6,6)\n",
        "kernel_mat = np.random.rand(2,2)\n",
        "output_mat = conv2d(input_mat, kernel_mat)\n",
        "print(output_mat)"
      ],
      "execution_count": 111,
      "outputs": [
        {
          "output_type": "stream",
          "text": [
            "2\n",
            "[[1.70094661 1.7936374  1.09405777 2.3148361  1.46561434]\n",
            " [1.69956519 2.60308839 1.94235061 2.0511581  2.1899427 ]\n",
            " [2.6733614  3.14046206 1.88818534 1.94286554 2.26354723]\n",
            " [2.50362181 2.53362881 0.89732887 2.15134736 1.61797303]\n",
            " [1.53007674 2.156527   1.49817538 2.311329   2.19147458]]\n"
          ],
          "name": "stdout"
        }
      ]
    },
    {
      "cell_type": "markdown",
      "metadata": {
        "id": "9_tzSYEr_kN4",
        "colab_type": "text"
      },
      "source": [
        "**Problem 2**\n",
        "\n",
        "Using only ```numpy```, implement the function ```maxpooling2d```. It takes as input ```input_mat``` and ```s``` and outputs ```output_mat```.\n",
        "The variables ```input_mat``` and ```output_mat``` are square matrices and ```s``` is an integer.  It should compute the maxpooling operation \n",
        "on ```input_mat``` using window of shape ```s``` times ```s```.\n",
        "\n"
      ]
    },
    {
      "cell_type": "markdown",
      "metadata": {
        "id": "oli7xgagI673",
        "colab_type": "text"
      },
      "source": [
        "two parameters: filter and stride"
      ]
    },
    {
      "cell_type": "code",
      "metadata": {
        "id": "gojANPkWHBqa",
        "colab_type": "code",
        "colab": {}
      },
      "source": [
        "def maxpooling2d(input_mat, s):\n",
        "  # pad if necessary\n",
        "  matrix = input_mat\n",
        "  pad = 1\n",
        "  \n",
        "  n = matrix.shape[0]\n",
        "  output_dim = (int(n/s), int(n/s))\n",
        "  output_mat = np.zeros(output_dim)\n",
        "\n",
        "  for i in range(0, n, s):\n",
        "    for k in range(0, n, s):\n",
        "      x = int(i/s)\n",
        "      y = int(k/s)\n",
        "      output_mat[x][y] = np.max(matrix[i:i+s, k:k+s])\n",
        "\n",
        "  return output_mat"
      ],
      "execution_count": 0,
      "outputs": []
    },
    {
      "cell_type": "code",
      "metadata": {
        "id": "wyIrYJ8eKKNs",
        "colab_type": "code",
        "colab": {
          "base_uri": "https://localhost:8080/",
          "height": 70
        },
        "outputId": "9da5dccc-cb2a-48fe-ff44-f9a0eb16b47d"
      },
      "source": [
        "print(maxpooling2d(input_mat, 2))"
      ],
      "execution_count": 130,
      "outputs": [
        {
          "output_type": "stream",
          "text": [
            "[[0.83733105 0.80357789 0.5934948 ]\n",
            " [0.95293637 0.87820549 0.91747234]\n",
            " [0.69468778 0.74029061 0.98875826]]\n"
          ],
          "name": "stdout"
        }
      ]
    },
    {
      "cell_type": "markdown",
      "metadata": {
        "id": "xhOHayng_kVs",
        "colab_type": "text"
      },
      "source": [
        "**Problem 3**\n",
        "\n",
        "You will adapt the notebook [using VGG16 conv base for feature extraction, using data augmentation, not using dropout, fine-tuning](https://colab.research.google.com/drive/1F-RWvoxH8MmT7c1UmNy41iuOp-ejiLoF).\n",
        "You will have to replace the VGG16 conv base by new conv bases. You should not use VGG19.\n",
        "\n",
        "You should create two notebooks.  Both should use the same conv base, unfreeze the same number of layers of the conv_base, \n",
        "but use different classifiers."
      ]
    }
  ]
}