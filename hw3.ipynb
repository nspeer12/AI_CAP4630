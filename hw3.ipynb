{
  "nbformat": 4,
  "nbformat_minor": 0,
  "metadata": {
    "colab": {
      "name": "hw3.ipynb",
      "provenance": [],
      "collapsed_sections": [],
      "include_colab_link": true
    },
    "kernelspec": {
      "display_name": "Python 3",
      "language": "python",
      "name": "python3"
    },
    "language_info": {
      "codemirror_mode": {
        "name": "ipython",
        "version": 3
      },
      "file_extension": ".py",
      "mimetype": "text/x-python",
      "name": "python",
      "nbconvert_exporter": "python",
      "pygments_lexer": "ipython3",
      "version": "3.7.6"
    }
  },
  "cells": [
    {
      "cell_type": "markdown",
      "metadata": {
        "id": "view-in-github",
        "colab_type": "text"
      },
      "source": [
        "<a href=\"https://colab.research.google.com/github/nspeer12/AI_CAP4630/blob/master/hw3.ipynb\" target=\"_parent\"><img src=\"https://colab.research.google.com/assets/colab-badge.svg\" alt=\"Open In Colab\"/></a>"
      ]
    },
    {
      "cell_type": "code",
      "metadata": {
        "colab_type": "code",
        "id": "2Yd7IjbAu-_C",
        "colab": {}
      },
      "source": [
        "import numpy as np\n",
        "import tensorflow as tf\n",
        "from tensorflow import keras\n",
        "from tensorflow.keras import layers\n",
        "%tensorflow_version 2.x\n",
        "import matplotlib.pyplot as plt\n",
        "from matplotlib import cm\n",
        "from sklearn.model_selection import train_test_split\n",
        "import math\n",
        "from tqdm import trange\n"
      ],
      "execution_count": 0,
      "outputs": []
    },
    {
      "cell_type": "markdown",
      "metadata": {
        "colab_type": "text",
        "id": "q7AmdX8GvbAM"
      },
      "source": [
        "# Problem 1\n",
        "Generate random with two separate classes to use for logistic regression\n"
      ]
    },
    {
      "cell_type": "code",
      "metadata": {
        "colab_type": "code",
        "id": "PxmywQ7WvRCC",
        "colab": {}
      },
      "source": [
        "np.random.seed(999)\n",
        "\n",
        "def get_random_data(w, b, mu, sigma, m):\n",
        "    \n",
        "    # labels 1 and 0 with probability of 1/2\n",
        "    labels = np.array([0 if np.random.rand(1) < .5 else 1 for x in range(m)])\n",
        "    \n",
        "    # creating an alternative list\n",
        "    alt_c = [(-1)**i for i in labels]\n",
        "    \n",
        "    # uniform distribution [0, 1)\n",
        "    x_1 = np.random.uniform(low=0, high=1, size=m)\n",
        "\n",
        "    noise = np.multiply(alt_c, np.random.normal(loc=mu, scale=sigma, size=m)) \n",
        "    \n",
        "    x_2 = np.multiply(w, x_1)\n",
        "    x_2 += b\n",
        "    x_2 = np.add(x_2, noise)\n",
        "    \n",
        "    data = np.array([x_1, x_2]).T\n",
        "    return data, labels"
      ],
      "execution_count": 0,
      "outputs": []
    },
    {
      "cell_type": "code",
      "metadata": {
        "colab_type": "code",
        "id": "ajKZIqjLvsba",
        "colab": {}
      },
      "source": [
        "def graph_random_data(data, lables):\n",
        "    fig, ax = plt.subplots(figsize=(5,5))\n",
        "    \n",
        "    # create colors\n",
        "    colors = ['red' if labels[x] == 1 else 'blue' for x in range(len(labels))]\n",
        "    \n",
        "    ax.scatter(data.T[0], data.T[1], c=colors)\n",
        "    plt.show()\n"
      ],
      "execution_count": 0,
      "outputs": []
    },
    {
      "cell_type": "code",
      "metadata": {
        "id": "jgvAoEhqFK9F",
        "colab_type": "code",
        "colab": {
          "base_uri": "https://localhost:8080/",
          "height": 320
        },
        "outputId": "0274e905-5354-4636-d158-c1879da3bd09"
      },
      "source": [
        "w = 20\n",
        "b = 3\n",
        "mu = 5\n",
        "sigma = 2\n",
        "m = 100\n",
        "\n",
        "data, labels = get_random_data(w, b, mu, sigma, m)\n",
        "graph_random_data(data, labels)"
      ],
      "execution_count": 4,
      "outputs": [
        {
          "output_type": "display_data",
          "data": {
            "image/png": "[encoded data removed]",
            "text/plain": [
              "<Figure size 360x360 with 1 Axes>"
            ]
          },
          "metadata": {
            "tags": []
          }
        }
      ]
    },
    {
      "cell_type": "code",
      "metadata": {
        "id": "LmB27FgwFK9I",
        "colab_type": "code",
        "colab": {}
      },
      "source": [
        "# 80/20 test train split\n",
        "x_train, x_test, y_train, y_test = train_test_split(data, labels, test_size=0.2, shuffle=True)"
      ],
      "execution_count": 0,
      "outputs": []
    },
    {
      "cell_type": "markdown",
      "metadata": {
        "colab_type": "text",
        "id": "FcoboTTZCcb6"
      },
      "source": [
        "# Problem 2\n"
      ]
    },
    {
      "cell_type": "code",
      "metadata": {
        "colab_type": "code",
        "id": "Kh-gUK6aN0y4",
        "colab": {}
      },
      "source": [
        "def build_model(input_dim, output_dim, learning_rate=0.1):\n",
        "    model = keras.Sequential()\n",
        "    \n",
        "    # add one layer that outputs with a sigmoid function\n",
        "    model.add(tf.keras.layers.Dense(output_dim, input_dim=input_dim, activation='sigmoid'))\n",
        "    optimizer = tf.keras.optimizers.Adam(learning_rate=learning_rate)\n",
        "    \n",
        "    # specify binary cross entropy loss\n",
        "    model.compile(loss=tf.keras.losses.BinaryCrossentropy(), optimizer=optimizer)\n",
        "\n",
        "    return model"
      ],
      "execution_count": 0,
      "outputs": []
    },
    {
      "cell_type": "code",
      "metadata": {
        "colab_type": "code",
        "id": "0a7uegBsDIiM",
        "outputId": "807b09dd-eb74-46e4-964d-8021e0880093",
        "colab": {
          "base_uri": "https://localhost:8080/",
          "height": 1000
        }
      },
      "source": [
        "# input dim should be the number of features, which is 2 in our case\n",
        "input_dim = 2\n",
        "\n",
        "# output dimension is 1, which represents our classification\n",
        "output_dim = 1\n",
        "\n",
        "model = build_model(input_dim, output_dim)\n",
        "\n",
        "EPOCHS = 200\n",
        "\n",
        "history = model.fit(x_train, y_train, epochs=EPOCHS)"
      ],
      "execution_count": 7,
      "outputs": [
        {
          "output_type": "stream",
          "text": [
            "Epoch 1/200\n",
            "3/3 [==============================] - 0s 2ms/step - loss: 2.5955\n",
            "Epoch 2/200\n",
            "3/3 [==============================] - 0s 2ms/step - loss: 0.9588\n",
            "Epoch 3/200\n",
            "3/3 [==============================] - 0s 2ms/step - loss: 1.3379\n",
            "Epoch 4/200\n",
            "3/3 [==============================] - 0s 4ms/step - loss: 1.2843\n",
            "Epoch 5/200\n",
            "3/3 [==============================] - 0s 2ms/step - loss: 0.8628\n",
            "Epoch 6/200\n",
            "3/3 [==============================] - 0s 2ms/step - loss: 0.8799\n",
            "Epoch 7/200\n",
            "3/3 [==============================] - 0s 3ms/step - loss: 0.8762\n",
            "Epoch 8/200\n",
            "3/3 [==============================] - 0s 4ms/step - loss: 0.6714\n",
            "Epoch 9/200\n",
            "3/3 [==============================] - 0s 2ms/step - loss: 0.7184\n",
            "Epoch 10/200\n",
            "3/3 [==============================] - 0s 2ms/step - loss: 0.7085\n",
            "Epoch 11/200\n",
            "3/3 [==============================] - 0s 3ms/step - loss: 0.6236\n",
            "Epoch 12/200\n",
            "3/3 [==============================] - 0s 2ms/step - loss: 0.5970\n",
            "Epoch 13/200\n",
            "3/3 [==============================] - 0s 2ms/step - loss: 0.5723\n",
            "Epoch 14/200\n",
            "3/3 [==============================] - 0s 2ms/step - loss: 0.5147\n",
            "Epoch 15/200\n",
            "3/3 [==============================] - 0s 2ms/step - loss: 0.5076\n",
            "Epoch 16/200\n",
            "3/3 [==============================] - 0s 5ms/step - loss: 0.4917\n",
            "Epoch 17/200\n",
            "3/3 [==============================] - 0s 3ms/step - loss: 0.4857\n",
            "Epoch 18/200\n",
            "3/3 [==============================] - 0s 2ms/step - loss: 0.4674\n",
            "Epoch 19/200\n",
            "3/3 [==============================] - 0s 3ms/step - loss: 0.4429\n",
            "Epoch 20/200\n",
            "3/3 [==============================] - 0s 2ms/step - loss: 0.4352\n",
            "Epoch 21/200\n",
            "3/3 [==============================] - 0s 3ms/step - loss: 0.4207\n",
            "Epoch 22/200\n",
            "3/3 [==============================] - 0s 3ms/step - loss: 0.3875\n",
            "Epoch 23/200\n",
            "3/3 [==============================] - 0s 3ms/step - loss: 0.4018\n",
            "Epoch 24/200\n",
            "3/3 [==============================] - 0s 3ms/step - loss: 0.3780\n",
            "Epoch 25/200\n",
            "3/3 [==============================] - 0s 3ms/step - loss: 0.3630\n",
            "Epoch 26/200\n",
            "3/3 [==============================] - 0s 2ms/step - loss: 0.3657\n",
            "Epoch 27/200\n",
            "3/3 [==============================] - 0s 2ms/step - loss: 0.3463\n",
            "Epoch 28/200\n",
            "3/3 [==============================] - 0s 2ms/step - loss: 0.3302\n",
            "Epoch 29/200\n",
            "3/3 [==============================] - 0s 3ms/step - loss: 0.3454\n",
            "Epoch 30/200\n",
            "3/3 [==============================] - 0s 2ms/step - loss: 0.3352\n",
            "Epoch 31/200\n",
            "3/3 [==============================] - 0s 2ms/step - loss: 0.3101\n",
            "Epoch 32/200\n",
            "3/3 [==============================] - 0s 2ms/step - loss: 0.3208\n",
            "Epoch 33/200\n",
            "3/3 [==============================] - 0s 2ms/step - loss: 0.2939\n",
            "Epoch 34/200\n",
            "3/3 [==============================] - 0s 2ms/step - loss: 0.2894\n",
            "Epoch 35/200\n",
            "3/3 [==============================] - 0s 3ms/step - loss: 0.2939\n",
            "Epoch 36/200\n",
            "3/3 [==============================] - 0s 2ms/step - loss: 0.2706\n",
            "Epoch 37/200\n",
            "3/3 [==============================] - 0s 3ms/step - loss: 0.2899\n",
            "Epoch 38/200\n",
            "3/3 [==============================] - 0s 4ms/step - loss: 0.2717\n",
            "Epoch 39/200\n",
            "3/3 [==============================] - 0s 3ms/step - loss: 0.2700\n",
            "Epoch 40/200\n",
            "3/3 [==============================] - 0s 2ms/step - loss: 0.2531\n",
            "Epoch 41/200\n",
            "3/3 [==============================] - 0s 3ms/step - loss: 0.2558\n",
            "Epoch 42/200\n",
            "3/3 [==============================] - 0s 2ms/step - loss: 0.2513\n",
            "Epoch 43/200\n",
            "3/3 [==============================] - 0s 4ms/step - loss: 0.2559\n",
            "Epoch 44/200\n",
            "3/3 [==============================] - 0s 2ms/step - loss: 0.2485\n",
            "Epoch 45/200\n",
            "3/3 [==============================] - 0s 3ms/step - loss: 0.2330\n",
            "Epoch 46/200\n",
            "3/3 [==============================] - 0s 2ms/step - loss: 0.2365\n",
            "Epoch 47/200\n",
            "3/3 [==============================] - 0s 2ms/step - loss: 0.2203\n",
            "Epoch 48/200\n",
            "3/3 [==============================] - 0s 2ms/step - loss: 0.2324\n",
            "Epoch 49/200\n",
            "3/3 [==============================] - 0s 2ms/step - loss: 0.2196\n",
            "Epoch 50/200\n",
            "3/3 [==============================] - 0s 2ms/step - loss: 0.2139\n",
            "Epoch 51/200\n",
            "3/3 [==============================] - 0s 1ms/step - loss: 0.2163\n",
            "Epoch 52/200\n",
            "3/3 [==============================] - 0s 2ms/step - loss: 0.2198\n",
            "Epoch 53/200\n",
            "3/3 [==============================] - 0s 2ms/step - loss: 0.2098\n",
            "Epoch 54/200\n",
            "3/3 [==============================] - 0s 2ms/step - loss: 0.2028\n",
            "Epoch 55/200\n",
            "3/3 [==============================] - 0s 2ms/step - loss: 0.1916\n",
            "Epoch 56/200\n",
            "3/3 [==============================] - 0s 2ms/step - loss: 0.1990\n",
            "Epoch 57/200\n",
            "3/3 [==============================] - 0s 2ms/step - loss: 0.1817\n",
            "Epoch 58/200\n",
            "3/3 [==============================] - 0s 2ms/step - loss: 0.1790\n",
            "Epoch 59/200\n",
            "3/3 [==============================] - 0s 2ms/step - loss: 0.1817\n",
            "Epoch 60/200\n",
            "3/3 [==============================] - 0s 2ms/step - loss: 0.1819\n",
            "Epoch 61/200\n",
            "3/3 [==============================] - 0s 2ms/step - loss: 0.1874\n",
            "Epoch 62/200\n",
            "3/3 [==============================] - 0s 2ms/step - loss: 0.1700\n",
            "Epoch 63/200\n",
            "3/3 [==============================] - 0s 2ms/step - loss: 0.1765\n",
            "Epoch 64/200\n",
            "3/3 [==============================] - 0s 2ms/step - loss: 0.1770\n",
            "Epoch 65/200\n",
            "3/3 [==============================] - 0s 2ms/step - loss: 0.1720\n",
            "Epoch 66/200\n",
            "3/3 [==============================] - 0s 2ms/step - loss: 0.1702\n",
            "Epoch 67/200\n",
            "3/3 [==============================] - 0s 2ms/step - loss: 0.1791\n",
            "Epoch 68/200\n",
            "3/3 [==============================] - 0s 2ms/step - loss: 0.1551\n",
            "Epoch 69/200\n",
            "3/3 [==============================] - 0s 2ms/step - loss: 0.1545\n",
            "Epoch 70/200\n",
            "3/3 [==============================] - 0s 2ms/step - loss: 0.1497\n",
            "Epoch 71/200\n",
            "3/3 [==============================] - 0s 2ms/step - loss: 0.1530\n",
            "Epoch 72/200\n",
            "3/3 [==============================] - 0s 2ms/step - loss: 0.1427\n",
            "Epoch 73/200\n",
            "3/3 [==============================] - 0s 2ms/step - loss: 0.1485\n",
            "Epoch 74/200\n",
            "3/3 [==============================] - 0s 2ms/step - loss: 0.1409\n",
            "Epoch 75/200\n",
            "3/3 [==============================] - 0s 2ms/step - loss: 0.1502\n",
            "Epoch 76/200\n",
            "3/3 [==============================] - 0s 2ms/step - loss: 0.1574\n",
            "Epoch 77/200\n",
            "3/3 [==============================] - 0s 2ms/step - loss: 0.1341\n",
            "Epoch 78/200\n",
            "3/3 [==============================] - 0s 2ms/step - loss: 0.1418\n",
            "Epoch 79/200\n",
            "3/3 [==============================] - 0s 2ms/step - loss: 0.1479\n",
            "Epoch 80/200\n",
            "3/3 [==============================] - 0s 2ms/step - loss: 0.1389\n",
            "Epoch 81/200\n",
            "3/3 [==============================] - 0s 2ms/step - loss: 0.1336\n",
            "Epoch 82/200\n",
            "3/3 [==============================] - 0s 3ms/step - loss: 0.1373\n",
            "Epoch 83/200\n",
            "3/3 [==============================] - 0s 2ms/step - loss: 0.1374\n",
            "Epoch 84/200\n",
            "3/3 [==============================] - 0s 2ms/step - loss: 0.1269\n",
            "Epoch 85/200\n",
            "3/3 [==============================] - 0s 2ms/step - loss: 0.1315\n",
            "Epoch 86/200\n",
            "3/3 [==============================] - 0s 4ms/step - loss: 0.1208\n",
            "Epoch 87/200\n",
            "3/3 [==============================] - 0s 2ms/step - loss: 0.1241\n",
            "Epoch 88/200\n",
            "3/3 [==============================] - 0s 2ms/step - loss: 0.1203\n",
            "Epoch 89/200\n",
            "3/3 [==============================] - 0s 2ms/step - loss: 0.1283\n",
            "Epoch 90/200\n",
            "3/3 [==============================] - 0s 2ms/step - loss: 0.1262\n",
            "Epoch 91/200\n",
            "3/3 [==============================] - 0s 2ms/step - loss: 0.1167\n",
            "Epoch 92/200\n",
            "3/3 [==============================] - 0s 2ms/step - loss: 0.1186\n",
            "Epoch 93/200\n",
            "3/3 [==============================] - 0s 2ms/step - loss: 0.1270\n",
            "Epoch 94/200\n",
            "3/3 [==============================] - 0s 2ms/step - loss: 0.1210\n",
            "Epoch 95/200\n",
            "3/3 [==============================] - 0s 2ms/step - loss: 0.1172\n",
            "Epoch 96/200\n",
            "3/3 [==============================] - 0s 2ms/step - loss: 0.1097\n",
            "Epoch 97/200\n",
            "3/3 [==============================] - 0s 3ms/step - loss: 0.1079\n",
            "Epoch 98/200\n",
            "3/3 [==============================] - 0s 2ms/step - loss: 0.1115\n",
            "Epoch 99/200\n",
            "3/3 [==============================] - 0s 2ms/step - loss: 0.1128\n",
            "Epoch 100/200\n",
            "3/3 [==============================] - 0s 2ms/step - loss: 0.1053\n",
            "Epoch 101/200\n",
            "3/3 [==============================] - 0s 2ms/step - loss: 0.1123\n",
            "Epoch 102/200\n",
            "3/3 [==============================] - 0s 2ms/step - loss: 0.1128\n",
            "Epoch 103/200\n",
            "3/3 [==============================] - 0s 2ms/step - loss: 0.1054\n",
            "Epoch 104/200\n",
            "3/3 [==============================] - 0s 2ms/step - loss: 0.1085\n",
            "Epoch 105/200\n",
            "3/3 [==============================] - 0s 2ms/step - loss: 0.0987\n",
            "Epoch 106/200\n",
            "3/3 [==============================] - 0s 2ms/step - loss: 0.0977\n",
            "Epoch 107/200\n",
            "3/3 [==============================] - 0s 2ms/step - loss: 0.1077\n",
            "Epoch 108/200\n",
            "3/3 [==============================] - 0s 2ms/step - loss: 0.1028\n",
            "Epoch 109/200\n",
            "3/3 [==============================] - 0s 2ms/step - loss: 0.0997\n",
            "Epoch 110/200\n",
            "3/3 [==============================] - 0s 2ms/step - loss: 0.1032\n",
            "Epoch 111/200\n",
            "3/3 [==============================] - 0s 2ms/step - loss: 0.0930\n",
            "Epoch 112/200\n",
            "3/3 [==============================] - 0s 2ms/step - loss: 0.0995\n",
            "Epoch 113/200\n",
            "3/3 [==============================] - 0s 2ms/step - loss: 0.1012\n",
            "Epoch 114/200\n",
            "3/3 [==============================] - 0s 2ms/step - loss: 0.0920\n",
            "Epoch 115/200\n",
            "3/3 [==============================] - 0s 2ms/step - loss: 0.0898\n",
            "Epoch 116/200\n",
            "3/3 [==============================] - 0s 2ms/step - loss: 0.0878\n",
            "Epoch 117/200\n",
            "3/3 [==============================] - 0s 2ms/step - loss: 0.0925\n",
            "Epoch 118/200\n",
            "3/3 [==============================] - 0s 2ms/step - loss: 0.0879\n",
            "Epoch 119/200\n",
            "3/3 [==============================] - 0s 2ms/step - loss: 0.0919\n",
            "Epoch 120/200\n",
            "3/3 [==============================] - 0s 2ms/step - loss: 0.0939\n",
            "Epoch 121/200\n",
            "3/3 [==============================] - 0s 2ms/step - loss: 0.0935\n",
            "Epoch 122/200\n",
            "3/3 [==============================] - 0s 2ms/step - loss: 0.0922\n",
            "Epoch 123/200\n",
            "3/3 [==============================] - 0s 2ms/step - loss: 0.0874\n",
            "Epoch 124/200\n",
            "3/3 [==============================] - 0s 2ms/step - loss: 0.0879\n",
            "Epoch 125/200\n",
            "3/3 [==============================] - 0s 2ms/step - loss: 0.0872\n",
            "Epoch 126/200\n",
            "3/3 [==============================] - 0s 2ms/step - loss: 0.0868\n",
            "Epoch 127/200\n",
            "3/3 [==============================] - 0s 2ms/step - loss: 0.0892\n",
            "Epoch 128/200\n",
            "3/3 [==============================] - 0s 2ms/step - loss: 0.0808\n",
            "Epoch 129/200\n",
            "3/3 [==============================] - 0s 2ms/step - loss: 0.0843\n",
            "Epoch 130/200\n",
            "3/3 [==============================] - 0s 2ms/step - loss: 0.0777\n",
            "Epoch 131/200\n",
            "3/3 [==============================] - 0s 2ms/step - loss: 0.0788\n",
            "Epoch 132/200\n",
            "3/3 [==============================] - 0s 2ms/step - loss: 0.0836\n",
            "Epoch 133/200\n",
            "3/3 [==============================] - 0s 2ms/step - loss: 0.0761\n",
            "Epoch 134/200\n",
            "3/3 [==============================] - 0s 2ms/step - loss: 0.0788\n",
            "Epoch 135/200\n",
            "3/3 [==============================] - 0s 2ms/step - loss: 0.0725\n",
            "Epoch 136/200\n",
            "3/3 [==============================] - 0s 2ms/step - loss: 0.0742\n",
            "Epoch 137/200\n",
            "3/3 [==============================] - 0s 2ms/step - loss: 0.0775\n",
            "Epoch 138/200\n",
            "3/3 [==============================] - 0s 2ms/step - loss: 0.0779\n",
            "Epoch 139/200\n",
            "3/3 [==============================] - 0s 2ms/step - loss: 0.0774\n",
            "Epoch 140/200\n",
            "3/3 [==============================] - 0s 2ms/step - loss: 0.0769\n",
            "Epoch 141/200\n",
            "3/3 [==============================] - 0s 2ms/step - loss: 0.0868\n",
            "Epoch 142/200\n",
            "3/3 [==============================] - 0s 2ms/step - loss: 0.0775\n",
            "Epoch 143/200\n",
            "3/3 [==============================] - 0s 2ms/step - loss: 0.0743\n",
            "Epoch 144/200\n",
            "3/3 [==============================] - 0s 2ms/step - loss: 0.0704\n",
            "Epoch 145/200\n",
            "3/3 [==============================] - 0s 2ms/step - loss: 0.0736\n",
            "Epoch 146/200\n",
            "3/3 [==============================] - 0s 2ms/step - loss: 0.0676\n",
            "Epoch 147/200\n",
            "3/3 [==============================] - 0s 2ms/step - loss: 0.0708\n",
            "Epoch 148/200\n",
            "3/3 [==============================] - 0s 2ms/step - loss: 0.0807\n",
            "Epoch 149/200\n",
            "3/3 [==============================] - 0s 2ms/step - loss: 0.0720\n",
            "Epoch 150/200\n",
            "3/3 [==============================] - 0s 2ms/step - loss: 0.0685\n",
            "Epoch 151/200\n",
            "3/3 [==============================] - 0s 2ms/step - loss: 0.0678\n",
            "Epoch 152/200\n",
            "3/3 [==============================] - 0s 2ms/step - loss: 0.0661\n",
            "Epoch 153/200\n",
            "3/3 [==============================] - 0s 2ms/step - loss: 0.0719\n",
            "Epoch 154/200\n",
            "3/3 [==============================] - 0s 2ms/step - loss: 0.0723\n",
            "Epoch 155/200\n",
            "3/3 [==============================] - 0s 2ms/step - loss: 0.0664\n",
            "Epoch 156/200\n",
            "3/3 [==============================] - 0s 2ms/step - loss: 0.0631\n",
            "Epoch 157/200\n",
            "3/3 [==============================] - 0s 2ms/step - loss: 0.0610\n",
            "Epoch 158/200\n",
            "3/3 [==============================] - 0s 2ms/step - loss: 0.0781\n",
            "Epoch 159/200\n",
            "3/3 [==============================] - 0s 2ms/step - loss: 0.0664\n",
            "Epoch 160/200\n",
            "3/3 [==============================] - 0s 2ms/step - loss: 0.0641\n",
            "Epoch 161/200\n",
            "3/3 [==============================] - 0s 2ms/step - loss: 0.0706\n",
            "Epoch 162/200\n",
            "3/3 [==============================] - 0s 2ms/step - loss: 0.0700\n",
            "Epoch 163/200\n",
            "3/3 [==============================] - 0s 2ms/step - loss: 0.0642\n",
            "Epoch 164/200\n",
            "3/3 [==============================] - 0s 2ms/step - loss: 0.0665\n",
            "Epoch 165/200\n",
            "3/3 [==============================] - 0s 2ms/step - loss: 0.0633\n",
            "Epoch 166/200\n",
            "3/3 [==============================] - 0s 2ms/step - loss: 0.0629\n",
            "Epoch 167/200\n",
            "3/3 [==============================] - 0s 2ms/step - loss: 0.0657\n",
            "Epoch 168/200\n",
            "3/3 [==============================] - 0s 3ms/step - loss: 0.0643\n",
            "Epoch 169/200\n",
            "3/3 [==============================] - 0s 3ms/step - loss: 0.0639\n",
            "Epoch 170/200\n",
            "3/3 [==============================] - 0s 3ms/step - loss: 0.0648\n",
            "Epoch 171/200\n",
            "3/3 [==============================] - 0s 4ms/step - loss: 0.0619\n",
            "Epoch 172/200\n",
            "3/3 [==============================] - 0s 4ms/step - loss: 0.0612\n",
            "Epoch 173/200\n",
            "3/3 [==============================] - 0s 3ms/step - loss: 0.0598\n",
            "Epoch 174/200\n",
            "3/3 [==============================] - 0s 3ms/step - loss: 0.0638\n",
            "Epoch 175/200\n",
            "3/3 [==============================] - 0s 3ms/step - loss: 0.0712\n",
            "Epoch 176/200\n",
            "3/3 [==============================] - 0s 3ms/step - loss: 0.0595\n",
            "Epoch 177/200\n",
            "3/3 [==============================] - 0s 3ms/step - loss: 0.0657\n",
            "Epoch 178/200\n",
            "3/3 [==============================] - 0s 3ms/step - loss: 0.0698\n",
            "Epoch 179/200\n",
            "3/3 [==============================] - 0s 3ms/step - loss: 0.0566\n",
            "Epoch 180/200\n",
            "3/3 [==============================] - 0s 3ms/step - loss: 0.0693\n",
            "Epoch 181/200\n",
            "3/3 [==============================] - 0s 3ms/step - loss: 0.0546\n",
            "Epoch 182/200\n",
            "3/3 [==============================] - 0s 2ms/step - loss: 0.0676\n",
            "Epoch 183/200\n",
            "3/3 [==============================] - 0s 2ms/step - loss: 0.0666\n",
            "Epoch 184/200\n",
            "3/3 [==============================] - 0s 4ms/step - loss: 0.0615\n",
            "Epoch 185/200\n",
            "3/3 [==============================] - 0s 3ms/step - loss: 0.0589\n",
            "Epoch 186/200\n",
            "3/3 [==============================] - 0s 2ms/step - loss: 0.0554\n",
            "Epoch 187/200\n",
            "3/3 [==============================] - 0s 2ms/step - loss: 0.0531\n",
            "Epoch 188/200\n",
            "3/3 [==============================] - 0s 3ms/step - loss: 0.0585\n",
            "Epoch 189/200\n",
            "3/3 [==============================] - 0s 2ms/step - loss: 0.0731\n",
            "Epoch 190/200\n",
            "3/3 [==============================] - 0s 2ms/step - loss: 0.0526\n",
            "Epoch 191/200\n",
            "3/3 [==============================] - 0s 2ms/step - loss: 0.0565\n",
            "Epoch 192/200\n",
            "3/3 [==============================] - 0s 2ms/step - loss: 0.0559\n",
            "Epoch 193/200\n",
            "3/3 [==============================] - 0s 2ms/step - loss: 0.0531\n",
            "Epoch 194/200\n",
            "3/3 [==============================] - 0s 3ms/step - loss: 0.0530\n",
            "Epoch 195/200\n",
            "3/3 [==============================] - 0s 2ms/step - loss: 0.0550\n",
            "Epoch 196/200\n",
            "3/3 [==============================] - 0s 2ms/step - loss: 0.0528\n",
            "Epoch 197/200\n",
            "3/3 [==============================] - 0s 2ms/step - loss: 0.0526\n",
            "Epoch 198/200\n",
            "3/3 [==============================] - 0s 2ms/step - loss: 0.0561\n",
            "Epoch 199/200\n",
            "3/3 [==============================] - 0s 3ms/step - loss: 0.0519\n",
            "Epoch 200/200\n",
            "3/3 [==============================] - 0s 2ms/step - loss: 0.0506\n"
          ],
          "name": "stdout"
        }
      ]
    },
    {
      "cell_type": "code",
      "metadata": {
        "colab_type": "code",
        "id": "VA27hRL5TWx1",
        "outputId": "fedbdc44-c483-4537-d881-66a10387a337",
        "colab": {
          "base_uri": "https://localhost:8080/",
          "height": 53
        }
      },
      "source": [
        "# draw line by obtaining weights\n",
        "\n",
        "# get weights from model\n",
        "weights = model.get_weights()\n",
        "\n",
        "# has input shape of 2, which represent our weight vector\n",
        "print(weights[0].shape)\n",
        "\n",
        "# has output shape of 1, which will represent our b\n",
        "print(weights[1].shape)"
      ],
      "execution_count": 8,
      "outputs": [
        {
          "output_type": "stream",
          "text": [
            "(2, 1)\n",
            "(1,)\n"
          ],
          "name": "stdout"
        }
      ]
    },
    {
      "cell_type": "markdown",
      "metadata": {
        "colab_type": "text",
        "id": "YtY9WmL12kH2"
      },
      "source": [
        "## Obtaining Dividing Line\n",
        "\n",
        "\n",
        "\n",
        "Currently our predictions are in the form\n",
        "$ \\hat y = \\sigma ( w_1 x_1 +w_2 x_2 + b )$\n",
        "\n",
        "To obtain our dividing line, we are trying to get our weights in the form of\n",
        "\n",
        "$y = mx + b $\n",
        "\n",
        "So we can isolate $x_2$ to find the line of division\n",
        "\n",
        "$x_2 = -(w_1 x_1 + b) / w_2 $"
      ]
    },
    {
      "cell_type": "code",
      "metadata": {
        "colab_type": "code",
        "id": "_SoR-Wsogiez",
        "colab": {}
      },
      "source": [
        "# create an array to represent the space of our data\n",
        "d = np.linspace(0, 1)\n",
        "\n",
        "predLine = -((weights[0][0] * d) + weights[1]) / weights[0][1]\n",
        "trueLine = w * d + b"
      ],
      "execution_count": 0,
      "outputs": []
    },
    {
      "cell_type": "code",
      "metadata": {
        "colab_type": "code",
        "id": "XAplbQLJimw9",
        "outputId": "ec1b6043-51d8-4bca-9ae2-0107b456a91f",
        "colab": {
          "base_uri": "https://localhost:8080/",
          "height": 592
        }
      },
      "source": [
        "# plot line\n",
        "fig, ax = plt.subplots(figsize=(10,10))\n",
        "ax.plot(d, predLine, color='green', label='model line')\n",
        "ax.plot(d, trueLine, color='blue', label='true line')\n",
        "\n",
        "\n",
        "for i in range(m):\n",
        "  # plot real value\n",
        "  ax.scatter(data.T[0][i], data.T[1][i], c='blue' if labels[i] == 1 else 'red')\n",
        "\n",
        "ax.legend()\n",
        "plt.show()"
      ],
      "execution_count": 10,
      "outputs": [
        {
          "output_type": "display_data",
          "data": {
            "image/png": "[encoded data removed]",
            "text/plain": [
              "<Figure size 720x720 with 1 Axes>"
            ]
          },
          "metadata": {
            "tags": []
          }
        }
      ]
    },
    {
      "cell_type": "code",
      "metadata": {
        "id": "s2v6YnUpFK9a",
        "colab_type": "code",
        "colab": {}
      },
      "source": [
        "# sigmoid function\n",
        "def sigmoid(z):\n",
        "    # silence exp overflow\n",
        "    try:\n",
        "        res = 1 / (1 + math.exp(-z))\n",
        "    except OverflowError:\n",
        "        # denominator approaches infinity, result approaches 0\n",
        "        res = 0\n",
        "        \n",
        "    return res\n",
        "\n",
        "class cantMultiply(Exception):\n",
        "  def __init__(self, matrix1, matrix2):\n",
        "    print('Cannot multiply ', matrix1, ' and ', matrix2)\n",
        "    \n",
        "# compute yhat\n",
        "def make_prediction(w, b, x):\n",
        "    return sigmoid(np.add(np.dot(w.T, x), b))\n",
        "    "
      ],
      "execution_count": 0,
      "outputs": []
    },
    {
      "cell_type": "code",
      "metadata": {
        "id": "4TjgcaPaFK9c",
        "colab_type": "code",
        "colab": {
          "base_uri": "https://localhost:8080/",
          "height": 53
        },
        "outputId": "de3d0c17-a69c-41ac-ffab-c9b93c2fa276"
      },
      "source": [
        "# find range of x2\n",
        "range_min = min(data.T[1])\n",
        "range_max = max(data.T[1])\n",
        "\n",
        "n = 100\n",
        "print(weights)\n",
        "# create a 2D space to make predictions\n",
        "xv, yv = np.meshgrid(np.linspace(0,1, num=n), np.linspace(range_min, range_max, num=n))\n",
        "xv = xv[0]\n",
        "yv = [yv[i][0] for i in range(len(yv))]\n",
        "\n",
        "d = np.array([xv,yv]).T\n",
        "\n",
        "map = np.zeros((n,n))\n",
        "\n",
        "for k in range(len(xv)):\n",
        "    for j in range(len(yv)):\n",
        "        map[j][k] = make_prediction(weights[0], weights[1], [xv[k], yv[j]])\n"
      ],
      "execution_count": 12,
      "outputs": [
        {
          "output_type": "stream",
          "text": [
            "[array([[14.87263   ],\n",
            "       [-0.85765123]], dtype=float32), array([4.1242576], dtype=float32)]\n"
          ],
          "name": "stdout"
        }
      ]
    },
    {
      "cell_type": "code",
      "metadata": {
        "id": "vmpI-g3tFK9e",
        "colab_type": "code",
        "colab": {
          "base_uri": "https://localhost:8080/",
          "height": 596
        },
        "outputId": "e868a972-b8fe-46c8-fc23-0c95494d0434"
      },
      "source": [
        "# heat map\n",
        "fig, ax = plt.subplots(figsize=(10,10))\n",
        "cmap = cm.get_cmap('plasma')\n",
        "ax.pcolormesh(xv, yv, map, cmap=cmap)\n",
        "fig.colorbar(cm.ScalarMappable(cmap='plasma'), ax=ax)\n",
        "plt.show()"
      ],
      "execution_count": 13,
      "outputs": [
        {
          "output_type": "display_data",
          "data": {
            "image/png": "[encoded data removed]",
            "text/plain": [
              "<Figure size 720x720 with 2 Axes>"
            ]
          },
          "metadata": {
            "tags": []
          }
        }
      ]
    },
    {
      "cell_type": "markdown",
      "metadata": {
        "colab_type": "text",
        "id": "Aq70vulmbJEL"
      },
      "source": [
        "# Problem 3"
      ]
    },
    {
      "cell_type": "markdown",
      "metadata": {
        "colab_type": "text",
        "id": "FWMAmBbCDL6t"
      },
      "source": [
        "# Logistic Regression Numpy Implementation\n",
        "\n",
        "Model\n",
        "\n",
        "\n",
        "$ \\hat y = \\sigma ( \\Sigma_{j=1}^{n} w_j x_j + b ) = \\sigma( \\vec w^T \\vec x + b) $"
      ]
    },
    {
      "cell_type": "markdown",
      "metadata": {
        "id": "MMze8LchFK9h",
        "colab_type": "text"
      },
      "source": [
        "# Computing Loss\n",
        "\n",
        "### Binary Cross Entropy Loss\n",
        "$ L_{ce} -y \\log(a) - (1 - y)\\log(1-a)$\n",
        "\n",
        "### Compute Gradients\n",
        "$ \\frac{\\delta L_{ce}}{\\delta w_j} = (a - y) \\cdot x_j $\n",
        "\n",
        "\n",
        "$  \\frac{\\delta L_{ce}}{\\delta b} = (a - y)$"
      ]
    },
    {
      "cell_type": "code",
      "metadata": {
        "id": "o6CrytQ_FK9h",
        "colab_type": "code",
        "colab": {}
      },
      "source": [
        "# compute gradient of loss function for each weight and b\n",
        "# return the new weights and b\n"
      ],
      "execution_count": 0,
      "outputs": []
    },
    {
      "cell_type": "code",
      "metadata": {
        "colab_type": "code",
        "id": "FmCx1XIcbKN_",
        "colab": {}
      },
      "source": [
        "# Create a class for our numpy model\n",
        "class Model:\n",
        "    def __init__(self, input_dim=2, learning_rate=0.1, epochs=1000):\n",
        "        self.input_dim = input_dim\n",
        "        \n",
        "        # weights\n",
        "        self.weights = np.random.rand(input_dim)\n",
        "        self.b = np.random.randint(1)\n",
        "        \n",
        "        # hyperparameters\n",
        "        self.learning_rate=learning_rate\n",
        "        self.epochs=epochs\n",
        "        self.history = []\n",
        "    \n",
        "    \n",
        "    def make_prediction(self, x):\n",
        "        return sigmoid(np.dot(self.weights.T, x) + self.b)\n",
        "    \n",
        "\n",
        "    def gradientDescent(self, a, y, x):\n",
        "        # compute gradient and update each weight\n",
        "        self.weights[0] -= self.learning_rate * ((a - y) * x[0])\n",
        "        self.weights[1] -= self.learning_rate * ((a - y) * x[1])\n",
        "        self.b -= self.learning_rate * (a - y)\n",
        "    \n",
        "\n",
        "    def train(self, train_x, train_y):\n",
        "        # cool progress bar\n",
        "        pbar = trange(self.epochs, leave=True)\n",
        "        j = len(train_x)\n",
        "        \n",
        "        for e in pbar:\n",
        "            # go through each example\n",
        "            for k in range(j):\n",
        "                a = self.make_prediction(train_x[k])\n",
        "                y = train_y[k]\n",
        "                \n",
        "                # update weights\n",
        "                self.gradientDescent(a, y, train_x[k])\n",
        "                self.history.append([self.weights[0], self.weights[1], self.b])\n",
        "\n",
        "\n",
        "    def binary_cross_entropy_loss(self, a, y):\n",
        "        return (-y * np.log(a)) - ((1-y) * np.log(1-a))\n",
        "    \n",
        "\n",
        "    def compute_testing_loss(self, x_test, y_test):\n",
        "        # compute average loss over a test set\n",
        "        loss = 0\n",
        "        n = len(x_test)\n",
        "            \n",
        "        for i in range(n):\n",
        "            a = self.make_prediction(x_test[i])\n",
        "            loss += self.binary_cross_entropy_loss(a, y_test[i])\n",
        "        \n",
        "        print('Average binary cross entropy loss during test: ', loss/n)\n",
        "        \n",
        "\n",
        "    def plot_line(self, data, labels, w, b):\n",
        "        fig, ax = plt.subplots(figsize=(10,10))\n",
        "        d = np.linspace(0, 1)\n",
        "\n",
        "        pred_line = -((self.weights[0] * d) + self.b) / self.weights[1]\n",
        "        ax.plot(d, pred_line, color='green', label='Model Dividing Line')\n",
        "        \n",
        "        # plot true line\n",
        "        true_line = d * w + b\n",
        "        ax.plot(d, true_line, color='blue', label='True Line')\n",
        "        \n",
        "        for i in range(len(data)):\n",
        "          # plot real value\n",
        "          ax.scatter(data[i][0], data[i][1], c='red' if labels[i] == 1 else 'blue')\n",
        "        \n",
        "        ax.legend()\n",
        "        plt.show()\n",
        "\n",
        "    \n",
        "    def heat_map(self, data, n):\n",
        "        # n controls the precision of the heat map\n",
        "        \n",
        "        # find range of x2\n",
        "        range_min = min(data.T[1])\n",
        "        range_max = max(data.T[1])\n",
        "\n",
        "        # create a 2D space to make predictions\n",
        "        xv, yv = np.meshgrid(np.linspace(0,1, num=n), np.linspace(range_min, range_max, num=n))\n",
        "        xv = xv[0]\n",
        "        yv = [yv[i][0] for i in range(len(yv))]\n",
        "\n",
        "        d = np.array([xv,yv]).T\n",
        "\n",
        "        map = np.zeros((n,n))\n",
        "\n",
        "        for k in range(len(xv)):\n",
        "            for j in range(len(yv)):\n",
        "                map[j][k] = self.make_prediction([xv[k], yv[j]])\n",
        "        \n",
        "        fig, ax = plt.subplots(figsize=(10,10))\n",
        "        ax.pcolormesh(xv, yv, map, shading='gourand', cmap='plasma')\n",
        "        fig.colorbar(cm.ScalarMappable(cmap='plasma'), ax=ax)\n",
        "        plt.show()"
      ],
      "execution_count": 0,
      "outputs": []
    },
    {
      "cell_type": "code",
      "metadata": {
        "colab_type": "code",
        "id": "cvoBThe3N7Tl",
        "colab": {
          "base_uri": "https://localhost:8080/",
          "height": 35
        },
        "outputId": "79fdd07a-50db-464f-b94c-a1a3fbf37e27"
      },
      "source": [
        "# create model\n",
        "# during testing, I was getting better results with slower learning rates\n",
        "model = Model(learning_rate=0.01, epochs=300)\n",
        "model.train(data, labels)"
      ],
      "execution_count": 15,
      "outputs": [
        {
          "output_type": "stream",
          "text": [
            "100%|██████████| 300/300 [00:00<00:00, 419.11it/s]\n"
          ],
          "name": "stderr"
        }
      ]
    },
    {
      "cell_type": "code",
      "metadata": {
        "colab_type": "code",
        "id": "5spwbWfcLCic",
        "outputId": "2da68e72-7cd4-4fa2-b5eb-ee88dacb9544",
        "colab": {
          "base_uri": "https://localhost:8080/",
          "height": 592
        }
      },
      "source": [
        "model.plot_line(x_train, y_train, w, b)"
      ],
      "execution_count": 16,
      "outputs": [
        {
          "output_type": "display_data",
          "data": {
            "image/png": "[encoded data removed]",
            "text/plain": [
              "<Figure size 720x720 with 1 Axes>"
            ]
          },
          "metadata": {
            "tags": []
          }
        }
      ]
    },
    {
      "cell_type": "code",
      "metadata": {
        "id": "1aejNaJ5FK9p",
        "colab_type": "code",
        "colab": {
          "base_uri": "https://localhost:8080/",
          "height": 596
        },
        "outputId": "8731f503-c030-4255-e0ac-603b06c61681"
      },
      "source": [
        "# heatmap\n",
        "model.heat_map(data, 100)"
      ],
      "execution_count": 17,
      "outputs": [
        {
          "output_type": "display_data",
          "data": {
            "image/png": "[encoded data removed]",
            "text/plain": [
              "<Figure size 720x720 with 2 Axes>"
            ]
          },
          "metadata": {
            "tags": []
          }
        }
      ]
    },
    {
      "cell_type": "code",
      "metadata": {
        "id": "g4aGaHoBFK9r",
        "colab_type": "code",
        "colab": {
          "base_uri": "https://localhost:8080/",
          "height": 35
        },
        "outputId": "762834e4-a6f9-4c89-bf66-5674818f3712"
      },
      "source": [
        "# test accuracy of the model\n",
        "model.compute_testing_loss(x_test, y_test)"
      ],
      "execution_count": 18,
      "outputs": [
        {
          "output_type": "stream",
          "text": [
            "Average binary cross entropy loss during test:  0.17777129597358815\n"
          ],
          "name": "stdout"
        }
      ]
    },
    {
      "cell_type": "code",
      "metadata": {
        "id": "ggc2q38xFK9t",
        "colab_type": "code",
        "colab": {}
      },
      "source": [
        ""
      ],
      "execution_count": 0,
      "outputs": []
    }
  ]
}