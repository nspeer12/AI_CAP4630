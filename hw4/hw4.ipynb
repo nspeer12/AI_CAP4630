{
  "nbformat": 4,
  "nbformat_minor": 0,
  "metadata": {
    "colab": {
      "name": "hw4.ipynb",
      "provenance": [],
      "collapsed_sections": [],
      "toc_visible": true,
      "authorship_tag": "ABX9TyNnbLYqWxPXWKaj544MbzvD",
      "include_colab_link": true
    },
    "kernelspec": {
      "name": "python3",
      "display_name": "Python 3"
    }
  },
  "cells": [
    {
      "cell_type": "markdown",
      "metadata": {
        "id": "view-in-github",
        "colab_type": "text"
      },
      "source": [
        "<a href=\"https://colab.research.google.com/github/nspeer12/AI_CAP4630/blob/master/hw4.ipynb\" target=\"_parent\"><img src=\"https://colab.research.google.com/assets/colab-badge.svg\" alt=\"Open In Colab\"/></a>"
      ]
    },
    {
      "cell_type": "code",
      "metadata": {
        "id": "gAPaWYrj_iE5",
        "colab_type": "code",
        "colab": {}
      },
      "source": [
        "import numpy as np"
      ],
      "execution_count": 0,
      "outputs": []
    },
    {
      "cell_type": "markdown",
      "metadata": {
        "id": "BVEpa1Dz_jiq",
        "colab_type": "text"
      },
      "source": [
        "### Homework 4\n",
        "\n",
        "# Problem 1\n",
        "\n",
        "Using only ```numpy```, implement the function ```conv2d```.  It takes as input ```input_mat``` and ```kernel_mat``` and outputs ```output_mat```.  All variables \n",
        "are square matrices.  It should compute the convolution of ```input_mat``` with the kernel ```kernel_mat``` using valid padding.\n",
        "\n"
      ]
    },
    {
      "cell_type": "markdown",
      "metadata": {
        "id": "PcUBsrc6B8JH",
        "colab_type": "text"
      },
      "source": [
        "## Convolutions\n",
        "Convolutions are an operation that involve two input parameters. Firstly, an input matrix is passed, and secondly a kernel, or filter is defined. In convolutions, the kernel iterates through the columns and rows of the input matrix by a specified stride length. The regions considered are allowed to overlap. If the input, kernel, and stride length do not fit, the input matrix can be padded with zeros so the operation can be performed. The kernel iterates, and considers each subset of the input matrix. The dot product between the subset of the input and the kernel is performed, and then all of the values in this product are summed together. This final value becomes a value of our output matrix."
      ]
    },
    {
      "cell_type": "code",
      "metadata": {
        "id": "6acMvKD4GLKi",
        "colab_type": "code",
        "colab": {
          "base_uri": "https://localhost:8080/",
          "height": 53
        },
        "outputId": "86969fc3-fe21-4b67-c11f-5466f3559b32"
      },
      "source": [
        "class invalidInput(Exception):\n",
        "  print(\"Error: Input matrix is invalid!\")\n",
        "  exit(1)\n",
        "  \n",
        "class invalidKernel(Exception):\n",
        "  print(\"Error: Kernel matrix is invalid!\")\n",
        "  exit(1)"
      ],
      "execution_count": 2,
      "outputs": [
        {
          "output_type": "stream",
          "text": [
            "Error: Input matrix is invalid!\n",
            "Error: Kernel matrix is invalid!\n"
          ],
          "name": "stdout"
        }
      ]
    },
    {
      "cell_type": "code",
      "metadata": {
        "id": "MKzKihRQ_s_o",
        "colab_type": "code",
        "colab": {}
      },
      "source": [
        "def conv2d(input_mat, kernel_mat):\n",
        "  #input_mat = np.matrix(input_mat)\n",
        "  #kernel_mat = np.matrix(kernel_mat)\n",
        "  # check for square inputs\n",
        "  if kernel_mat.shape[0] != kernel_mat.shape[1]:\n",
        "    raise invalidKernel()\n",
        "  elif input_mat.shape[0] != input_mat.shape[1]:\n",
        "    raise invalidInput()\n",
        "  else:\n",
        "    # get the dimensions of the output layer\n",
        "    n = input_mat.shape[0] - kernel_mat.shape[0] + 1\n",
        "    m = kernel_mat.shape[0]\n",
        "  \n",
        "\n",
        "  output_mat = np.zeros((n, n))\n",
        "\n",
        "  for i in range(n):\n",
        "    for k in range(n):\n",
        "      # multiply by kernel filter\n",
        "      #print(np.multiply(input_mat[i:i+m, k:k+m], kernel_mat))\n",
        "      #print()\n",
        "      conv = np.multiply(input_mat[i:i+m, k:k+m], kernel_mat)\n",
        "      # sum all elements\n",
        "      output_mat[i,k] = np.sum(conv)\n",
        "\n",
        "  return output_mat"
      ],
      "execution_count": 0,
      "outputs": []
    },
    {
      "cell_type": "markdown",
      "metadata": {
        "id": "-10Hift_G2OA",
        "colab_type": "text"
      },
      "source": [
        "# Test Cases"
      ]
    },
    {
      "cell_type": "code",
      "metadata": {
        "id": "vd43hyxiG4JF",
        "colab_type": "code",
        "colab": {}
      },
      "source": [
        "def check_conv2d(input_mat, kernel_mat, expected_mat):\n",
        "  res = conv2d(input_mat, kernel_mat)\n",
        "  if (res == expected_mat).all():\n",
        "    return True\n",
        "  else:\n",
        "    return False"
      ],
      "execution_count": 0,
      "outputs": []
    },
    {
      "cell_type": "code",
      "metadata": {
        "id": "XSUirIG6GDBZ",
        "colab_type": "code",
        "colab": {
          "base_uri": "https://localhost:8080/",
          "height": 395
        },
        "outputId": "661b29bd-3f37-44a0-c5c8-560e15f0cc04"
      },
      "source": [
        "input_mat = []\n",
        "kernel_mat = []\n",
        "expected_mat = []\n",
        "\n",
        "# test case 1\n",
        "input_mat.append(np.array([[1, 2, 1, 2],\n",
        "                      [2, 1, 2, 1],\n",
        "                      [1, 2, 1, 2],\n",
        "                      [2, 1, 2, 1]]))\n",
        "\n",
        "kernel_mat.append(np.array([[1, 0],\n",
        "                       [0, 1]]))\n",
        "\n",
        "expected_mat.append(np.array([[2, 4, 2],\n",
        "                                [4, 2, 4],\n",
        "                                [2, 4, 2]]))\n",
        "\n",
        "# test case 2\n",
        "input_mat.append(np.array([[1, 0, 0, 0],\n",
        "                      [0, 1, 0, 0],\n",
        "                      [0, 0, 1, 0],\n",
        "                      [0, 0, 0, 1]]))\n",
        "kernel_mat.append(np.array([[1, 0], [0, 1]]))\n",
        "expected_mat.append(np.array([[2, 0, 0], [0, 2, 0], [0, 0, 2]]))\n",
        "\n",
        "\n",
        "# test case 3\n",
        "input_mat.append(np.array([[1, 0, 0, 0],\n",
        "                      [0, 1, 0, 0],\n",
        "                      [0, 0, 1, 0],\n",
        "                      [0, 0, 0, 1]]))\n",
        "kernel_mat.append(np.array([[1, -1],\n",
        "                       [-1, 0]]))\n",
        "\n",
        "expected_mat.append(np.array([[ 1, -1,  0], [-1,  1, -1],[ 0, -1,  1]]))\n",
        "\n",
        "\n",
        "# test case 4\n",
        "input_mat.append(np.array([[1, 0, 0, 0],\n",
        "                      [0, 1, 0, 0],\n",
        "                      [0, 0, 1, 0],\n",
        "                      [0, 0, 0, 1]]))\n",
        "kernel_mat.append(np.array([[1, 0, 0, 0],\n",
        "                      [0, 1, 0, 0],\n",
        "                      [0, 0, 1, 0],\n",
        "                      [0, 0, 0, 1]]))\n",
        "\n",
        "expected_mat.append(np.array([[4]]))\n",
        "\n",
        "\n",
        "# test case 5 - should either through an error, or return empty matrix\n",
        "input_mat.append(np.array([[1, -1],\n",
        "                       [-1, 0]]))\n",
        "kernel_mat.append(np.array([[1, 0, 0, 0],\n",
        "                      [0, 1, 0, 0],\n",
        "                      [0, 0, 1, 0],\n",
        "                      [0, 0, 0, 1]]))\n",
        "\n",
        "expected_mat.append([])\n",
        "\n",
        "\n",
        "\n",
        "for i in range(len(input_mat)):\n",
        "  if input_mat[i].shape[0] < kernel_mat[i].shape[0]:\n",
        "    output_mat = []\n",
        "  else:\n",
        "    output_mat = conv2d(input_mat[i], kernel_mat[i])\n",
        "\n",
        "  print(output_mat)\n",
        "  if np.array_equal(output_mat, expected_mat[i]):\n",
        "    print(\"Correct output!\\n\")\n",
        "  else:\n",
        "    print(\"Incorrect output!\\n\")"
      ],
      "execution_count": 5,
      "outputs": [
        {
          "output_type": "stream",
          "text": [
            "[[2. 4. 2.]\n",
            " [4. 2. 4.]\n",
            " [2. 4. 2.]]\n",
            "Correct output!\n",
            "\n",
            "[[2. 0. 0.]\n",
            " [0. 2. 0.]\n",
            " [0. 0. 2.]]\n",
            "Correct output!\n",
            "\n",
            "[[ 1. -1.  0.]\n",
            " [-1.  1. -1.]\n",
            " [ 0. -1.  1.]]\n",
            "Correct output!\n",
            "\n",
            "[[4.]]\n",
            "Correct output!\n",
            "\n",
            "[]\n",
            "Correct output!\n",
            "\n"
          ],
          "name": "stdout"
        }
      ]
    },
    {
      "cell_type": "markdown",
      "metadata": {
        "id": "9_tzSYEr_kN4",
        "colab_type": "text"
      },
      "source": [
        "# Problem 2\n",
        "\n",
        "Using only ```numpy```, implement the function ```maxpooling2d```. It takes as input ```input_mat``` and ```s``` and outputs ```output_mat```.\n",
        "The variables ```input_mat``` and ```output_mat``` are square matrices and ```s``` is an integer.  It should compute the maxpooling operation \n",
        "on ```input_mat``` using window of shape ```s``` times ```s```.\n",
        "\n"
      ]
    },
    {
      "cell_type": "markdown",
      "metadata": {
        "id": "oli7xgagI673",
        "colab_type": "text"
      },
      "source": [
        "# Max Pooling\n",
        "\n",
        "Max pooling is an operation in which an input matrix and a window size of $s$ by $s$ is specified. The windows iterates throught the input matrix and considers a non overlapping region of $s$ by $s$. The maximum value in that region becomes one of the values in the output matrix. Padding is permitted if the input matrix and window size do not match."
      ]
    },
    {
      "cell_type": "markdown",
      "metadata": {
        "id": "OmS9FvD5MuAw",
        "colab_type": "text"
      },
      "source": [
        "## Padding\n",
        "\n",
        "There are a few situations that must be handled by padding the input matrix.\n",
        "\n",
        "### More columns than rows\n",
        "\n",
        "Add rows of zeros until matrix is square\n",
        "\n",
        "### More rows than columns\n",
        "\n",
        "Add rows of columns until matrix is square\n",
        "\n",
        "### Square input but stride length is uneven\n",
        "Pad uniformly until until `dim(input_mat) % s == 0`\n"
      ]
    },
    {
      "cell_type": "code",
      "metadata": {
        "id": "gojANPkWHBqa",
        "colab_type": "code",
        "colab": {}
      },
      "source": [
        "def maxpooling2d(input_mat, s):\n",
        "\n",
        "  # handle non-square input matrix\n",
        "  if input_mat.shape[0] != input_mat.shape[1]:\n",
        "\n",
        "    # difference of number of columns and rows\n",
        "    diff = input_mat.shape[0] - input_mat.shape[1]\n",
        "    \n",
        "    # more rows than columns\n",
        "    if diff > 0:\n",
        "      pad = np.zeros(input_mat.shape[1])\n",
        "      input_mat = np.column_stack((input_mat, pad))\n",
        "\n",
        "    # more columns than rows\n",
        "    elif diff < 0:\n",
        "      pad = np.zeros(input_mat.shape[1])\n",
        "      input_mat = np.vstack((input_mat, pad))\n",
        "\n",
        "\n",
        "  # pad uniformly if stride is uneven\n",
        "  pad = input_mat.shape[0] % s\n",
        "  input_mat = np.pad(input_mat, pad)\n",
        "\n",
        "  # create output matrix\n",
        "  n = input_mat.shape[0]\n",
        "  output_dim = (int(n/s), int(n/s))\n",
        "  output_mat = np.zeros(output_dim)\n",
        "\n",
        "  # traverse input matrix in increments of s\n",
        "  for i in range(0, n, s):\n",
        "    for k in range(0, n, s):\n",
        "      x = int(i/s)\n",
        "      y = int(k/s)\n",
        "      \n",
        "      # output the maximum value in a subset of input matrix\n",
        "      output_mat[x][y] = np.max(input_mat[i:i+s, k:k+s])\n",
        "\n",
        "  return output_mat"
      ],
      "execution_count": 0,
      "outputs": []
    },
    {
      "cell_type": "code",
      "metadata": {
        "id": "grDYgZ75KCt8",
        "colab_type": "code",
        "colab": {
          "base_uri": "https://localhost:8080/",
          "height": 179
        },
        "outputId": "e02cc898-2d44-4edb-e571-d67806f7a780"
      },
      "source": [
        "# Test Cases\n",
        "\n",
        "input_mat = []\n",
        "expected_mat = []\n",
        "s = []\n",
        "\n",
        "input_mat.append(np.array([[1, 2, 1, 2],\n",
        "                           [2, 4, 2, 1],\n",
        "                           [1, 2, 4, 2],\n",
        "                           [2, 1, 2, 1]]))\n",
        "s.append(2)\n",
        "\n",
        "expected_mat.append(np.array([[4, 2],\n",
        "                              [2, 4]]))\n",
        "\n",
        "input_mat.append(np.array([[1, 2, 1, 2, 4, 5],\n",
        "                           [2, 4, 2, 1, 0, 3],\n",
        "                           [1, 2, 4, 2, 4, 5],\n",
        "                           [2, 1, 2, 1, 2, 1],\n",
        "                           [1, 1, 2, 3, 1, 2]]))\n",
        "s.append(2)\n",
        "\n",
        "expected_mat.append([[4, 2, 5],\n",
        "                     [2, 4, 5],\n",
        "                     [1, 3, 2]])\n",
        "\n",
        "\n",
        "for i in range(len(input_mat)):\n",
        "\n",
        "  output_mat = maxpooling2d(input_mat[i], s[i])\n",
        "\n",
        "  print(output_mat)\n",
        "\n",
        "  if np.array_equal(output_mat, expected_mat[i]):\n",
        "    print(\"Correct output!\")\n",
        "  else:\n",
        "    print(\"Incorrect output!\")\n",
        "  \n",
        "  print()\n"
      ],
      "execution_count": 7,
      "outputs": [
        {
          "output_type": "stream",
          "text": [
            "[[4. 2.]\n",
            " [2. 4.]]\n",
            "Correct output!\n",
            "\n",
            "[[4. 2. 5.]\n",
            " [2. 4. 5.]\n",
            " [1. 3. 2.]]\n",
            "Correct output!\n",
            "\n"
          ],
          "name": "stdout"
        }
      ]
    }
  ]
}