{
  "nbformat": 4,
  "nbformat_minor": 0,
  "metadata": {
    "colab": {
      "name": "matrix_multiplication.ipynb",
      "provenance": [],
      "collapsed_sections": [],
      "authorship_tag": "ABX9TyMzkycsH7u+PHAJ9huIsTbd",
      "include_colab_link": true
    },
    "kernelspec": {
      "name": "python3",
      "display_name": "Python 3"
    }
  },
  "cells": [
    {
      "cell_type": "markdown",
      "metadata": {
        "id": "view-in-github",
        "colab_type": "text"
      },
      "source": [
        "<a href=\"https://colab.research.google.com/github/nspeer12/CAP4630_homework1/blob/master/matrix_multiplication.ipynb\" target=\"_parent\"><img src=\"https://colab.research.google.com/assets/colab-badge.svg\" alt=\"Open In Colab\"/></a>"
      ]
    },
    {
      "cell_type": "markdown",
      "metadata": {
        "id": "zZDnVBiv_2UQ",
        "colab_type": "text"
      },
      "source": [
        "Stephen Speer\n"
      ]
    },
    {
      "cell_type": "markdown",
      "metadata": {
        "id": "Qv85ztuAABSY",
        "colab_type": "text"
      },
      "source": [
        "Artificial Intelligence, Wocjan\n",
        "Homework 1"
      ]
    },
    {
      "cell_type": "code",
      "metadata": {
        "id": "8Peje2GZf7xg",
        "colab_type": "code",
        "colab": {}
      },
      "source": [
        "import numpy as np"
      ],
      "execution_count": 0,
      "outputs": []
    },
    {
      "cell_type": "markdown",
      "metadata": {
        "id": "A2D7hK1WjE1p",
        "colab_type": "text"
      },
      "source": [
        "# Matrix Multiplication\n",
        "When multiplying two matricies, the inner and outer dimensions must align, otherwise the operation is not possible."
      ]
    },
    {
      "cell_type": "markdown",
      "metadata": {
        "id": "xu4iasQVka8S",
        "colab_type": "text"
      },
      "source": [
        "Compatible Matricies\n",
        "$\\begin{bmatrix} x_1 & y_1 & z_1 \\\\ x_2 & y_2 & z_2 \\\\ x_3 & y_3 & z_3 \\\\ \\end{bmatrix}  \\cdot \\begin{bmatrix} a_1 & b_1 & c_1  \\end{bmatrix} $"
      ]
    },
    {
      "cell_type": "markdown",
      "metadata": {
        "colab_type": "text",
        "id": "9M3z79NGleNP"
      },
      "source": [
        "Incompatible Matricies\n",
        "$\\begin{bmatrix} x_1 & y_1 & z_1 \\\\ x_2 & y_2 & z_2 \\\\ x_3 & y_3 & z_3 \\\\ \\end{bmatrix}  \\cdot \\begin{bmatrix} a_1 & b_1 \\\\ a_2 & b_2 \\end{bmatrix} $\n"
      ]
    },
    {
      "cell_type": "code",
      "metadata": {
        "id": "GTIxWdCgf-ot",
        "colab_type": "code",
        "colab": {}
      },
      "source": [
        "# create a custom exception that displays the two incompatible matricies\n",
        "class cantMultiply(Exception):\n",
        "  def __init__(self, matrix1, matrix2):\n",
        "    print('Cannot multiply ', matrix1, ' and ', matrix2)\n",
        "    "
      ],
      "execution_count": 0,
      "outputs": []
    },
    {
      "cell_type": "code",
      "metadata": {
        "id": "b8Uo5cx9cpn-",
        "colab_type": "code",
        "colab": {}
      },
      "source": [
        "def multiply_np_matricies(matricies = []):\n",
        "  if len(matricies) > 0:\n",
        "    res = matricies[0]\n",
        "    \n",
        "    for matrix in matricies[1:]:\n",
        "      if res.shape[1] != matrix.shape[0]:\n",
        "        raise cantMultiply(res, matrix) \n",
        "      else:\n",
        "        res = np.dot(res, matrix)\n",
        "               \n",
        "    return res"
      ],
      "execution_count": 0,
      "outputs": []
    },
    {
      "cell_type": "code",
      "metadata": {
        "id": "BSeGLvPtd1tu",
        "colab_type": "code",
        "outputId": "d342f738-c35c-4ec0-f3ef-d3d0f6f9c061",
        "colab": {
          "base_uri": "https://localhost:8080/",
          "height": 197
        }
      },
      "source": [
        "# test our program with compatible matricies\n",
        "goodMatricies = [np.random.rand(10,2), np.random.rand(2,5), np.random.rand(5,1)]\n",
        "print(multiply_np_matricies(goodMatricies))"
      ],
      "execution_count": 0,
      "outputs": [
        {
          "output_type": "stream",
          "text": [
            "[[1.05471436]\n",
            " [0.48813109]\n",
            " [0.67330832]\n",
            " [0.79009895]\n",
            " [1.66065216]\n",
            " [1.2637767 ]\n",
            " [0.59852929]\n",
            " [1.23686634]\n",
            " [0.49154912]\n",
            " [1.80557769]]\n"
          ],
          "name": "stdout"
        }
      ]
    },
    {
      "cell_type": "code",
      "metadata": {
        "colab_type": "code",
        "outputId": "f4c98d80-60b1-40da-e92c-221d95e21948",
        "id": "yG51vUwHmBL7",
        "colab": {
          "base_uri": "https://localhost:8080/",
          "height": 370
        }
      },
      "source": [
        "# test our program with compatible matricies\n",
        "badMatricies = [np.random.rand(2,2), np.random.rand(1,2)]\n",
        "print(multiply_np_matricies(badMatricies))"
      ],
      "execution_count": 0,
      "outputs": [
        {
          "output_type": "stream",
          "text": [
            "Cannot multiply  [[0.99536927 0.63595104]]  and  [[0.29258314 0.9989879 ]\n",
            " [0.96892515 0.30976188]]\n"
          ],
          "name": "stdout"
        },
        {
          "output_type": "error",
          "ename": "cantMultiply",
          "evalue": "ignored",
          "traceback": [
            "\u001b[0;31m---------------------------------------------------------------------------\u001b[0m",
            "\u001b[0;31mcantMultiply\u001b[0m                              Traceback (most recent call last)",
            "\u001b[0;32m<ipython-input-22-6fafb2e313c9>\u001b[0m in \u001b[0;36m<module>\u001b[0;34m()\u001b[0m\n\u001b[1;32m      1\u001b[0m \u001b[0mbadMatricies\u001b[0m \u001b[0;34m=\u001b[0m \u001b[0;34m[\u001b[0m\u001b[0mnp\u001b[0m\u001b[0;34m.\u001b[0m\u001b[0mrandom\u001b[0m\u001b[0;34m.\u001b[0m\u001b[0mrand\u001b[0m\u001b[0;34m(\u001b[0m\u001b[0;36m2\u001b[0m\u001b[0;34m,\u001b[0m\u001b[0;36m2\u001b[0m\u001b[0;34m)\u001b[0m\u001b[0;34m,\u001b[0m \u001b[0mnp\u001b[0m\u001b[0;34m.\u001b[0m\u001b[0mrandom\u001b[0m\u001b[0;34m.\u001b[0m\u001b[0mrand\u001b[0m\u001b[0;34m(\u001b[0m\u001b[0;36m1\u001b[0m\u001b[0;34m,\u001b[0m\u001b[0;36m2\u001b[0m\u001b[0;34m)\u001b[0m\u001b[0;34m]\u001b[0m\u001b[0;34m\u001b[0m\u001b[0;34m\u001b[0m\u001b[0m\n\u001b[0;32m----> 2\u001b[0;31m \u001b[0mprint\u001b[0m\u001b[0;34m(\u001b[0m\u001b[0mmultiply_np_matricies\u001b[0m\u001b[0;34m(\u001b[0m\u001b[0mbadMatricies\u001b[0m\u001b[0;34m)\u001b[0m\u001b[0;34m)\u001b[0m\u001b[0;34m\u001b[0m\u001b[0;34m\u001b[0m\u001b[0m\n\u001b[0m",
            "\u001b[0;32m<ipython-input-20-80540b3cdf25>\u001b[0m in \u001b[0;36mmultiply_np_matricies\u001b[0;34m(matricies)\u001b[0m\n\u001b[1;32m      5\u001b[0m     \u001b[0;32mfor\u001b[0m \u001b[0mmatrix\u001b[0m \u001b[0;32min\u001b[0m \u001b[0mmatricies\u001b[0m\u001b[0;34m[\u001b[0m\u001b[0;36m1\u001b[0m\u001b[0;34m:\u001b[0m\u001b[0;34m]\u001b[0m\u001b[0;34m:\u001b[0m\u001b[0;34m\u001b[0m\u001b[0;34m\u001b[0m\u001b[0m\n\u001b[1;32m      6\u001b[0m       \u001b[0;32mif\u001b[0m \u001b[0mres\u001b[0m\u001b[0;34m.\u001b[0m\u001b[0mshape\u001b[0m\u001b[0;34m[\u001b[0m\u001b[0;36m1\u001b[0m\u001b[0;34m]\u001b[0m \u001b[0;34m!=\u001b[0m \u001b[0mmatrix\u001b[0m\u001b[0;34m.\u001b[0m\u001b[0mshape\u001b[0m\u001b[0;34m[\u001b[0m\u001b[0;36m0\u001b[0m\u001b[0;34m]\u001b[0m\u001b[0;34m:\u001b[0m\u001b[0;34m\u001b[0m\u001b[0;34m\u001b[0m\u001b[0m\n\u001b[0;32m----> 7\u001b[0;31m         \u001b[0;32mraise\u001b[0m \u001b[0mcantMultiply\u001b[0m\u001b[0;34m(\u001b[0m\u001b[0mmatrix\u001b[0m\u001b[0;34m,\u001b[0m \u001b[0mres\u001b[0m\u001b[0;34m)\u001b[0m\u001b[0;34m\u001b[0m\u001b[0;34m\u001b[0m\u001b[0m\n\u001b[0m\u001b[1;32m      8\u001b[0m       \u001b[0;32melse\u001b[0m\u001b[0;34m:\u001b[0m\u001b[0;34m\u001b[0m\u001b[0;34m\u001b[0m\u001b[0m\n\u001b[1;32m      9\u001b[0m         \u001b[0mres\u001b[0m \u001b[0;34m=\u001b[0m \u001b[0mnp\u001b[0m\u001b[0;34m.\u001b[0m\u001b[0mdot\u001b[0m\u001b[0;34m(\u001b[0m\u001b[0mres\u001b[0m\u001b[0;34m,\u001b[0m \u001b[0mmatrix\u001b[0m\u001b[0;34m)\u001b[0m\u001b[0;34m\u001b[0m\u001b[0;34m\u001b[0m\u001b[0m\n",
            "\u001b[0;31mcantMultiply\u001b[0m: (array([[0.99536927, 0.63595104]]), array([[0.29258314, 0.9989879 ],\n       [0.96892515, 0.30976188]]))"
          ]
        }
      ]
    }
  ]
}