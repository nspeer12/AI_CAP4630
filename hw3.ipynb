{
  "nbformat": 4,
  "nbformat_minor": 0,
  "metadata": {
    "colab": {
      "name": "hw3.ipynb",
      "provenance": [],
      "collapsed_sections": [],
      "authorship_tag": "ABX9TyOHdzbJ/z2APUk8qK4ReQDK"
    },
    "kernelspec": {
      "name": "python3",
      "display_name": "Python 3"
    }
  },
  "cells": [
    {
      "cell_type": "code",
      "metadata": {
        "id": "2Yd7IjbAu-_C",
        "colab_type": "code",
        "colab": {}
      },
      "source": [
        "import numpy as np\n",
        "import tensorflow as tf\n",
        "from tensorflow import keras\n",
        "from tensorflow.keras import layers\n",
        "%tensorflow_version 2.x\n",
        "import matplotlib.pyplot as plt\n",
        "from sklearn.model_selection import train_test_split"
      ],
      "execution_count": 0,
      "outputs": []
    },
    {
      "cell_type": "markdown",
      "metadata": {
        "id": "q7AmdX8GvbAM",
        "colab_type": "text"
      },
      "source": [
        "Implement the function get_random_data(w, b, mu, sigma, m) that generates random data for logisitic regression with two features features x_1 and x_2. This function should return the array data of shape (m, 2) and the array labels of shape (m, 1).\n",
        "\n",
        "The entries of the arrays should be generated as follows. For each row i in {0, 1, ..., m-1}:\n",
        "\n",
        "Choose class label c=0 with probability 1/2 and c=1 with probability 1/2.\n",
        "Choose the first feature x_1 uniformly at random in the interval [0, 1).\n",
        "Set the second feature x_2 to be x_2 = w * x_1 + b + (-1)^c * n, where the \"noise\" n is chosen according to the normal distribution with mean mu and standard deviation sigma.\n",
        "The ith row of the array data consists of the features x_1 and x_2.\n",
        "The ith entry of the vector labels is the class label c.\n",
        "Implement the function display_random_data that takes as input the above two arrays labels and data. It should create scatter plot of the 2D points stored in data. Use red dots to plot the points whose labels are 1 and blue dots to plot the points whose labels are 0.\n",
        "\n",
        "Hints: You should see that the 2D points (feature vectors) corresponding to different classes are approximately separated by the line y = w * x + b, where w and b are the parameters that you used to generate the data. Note that the smaller the parameter mu, the closer the points are to this line. Also, the larger the parameter sigma, the more points can be on the wrong side of this line.\n",
        "\n",
        "Experiment with different values of mu and sigma. Make sure that the parameter m is large enough so you have enough data points.\n",
        "\n",
        "Split the data/labels into a training set (80%) and a test set (20%).\n",
        "\n",
        "Links to the numpy documentation of the functions that can be used to draw samples according to the uniform and normal distributions:\n",
        "\n",
        "Normal distribution\n",
        "Uniform distribution\n",
        "You can learn more about the normal distribution on https://en.wikipedia.org/wiki/Normal_distribution. To gain some intuition, it would be helpful to plot the Gaussian function for different parameters mu and sigma in a seperate notebook (that you do not have to submit). Later in the semester, you will need to work with normal distribution to understand variational autoencoders.\n"
      ]
    },
    {
      "cell_type": "code",
      "metadata": {
        "id": "PxmywQ7WvRCC",
        "colab_type": "code",
        "colab": {}
      },
      "source": [
        "np.random.seed(999)\n",
        "\n",
        "def get_random_data(w, b, mu, sigma, m):\n",
        "  # labels 1 and 0 with probability of 1/2\n",
        "  c = [0 if np.random.rand(1) < .5 else 1 for x in range(m)]\n",
        "\n",
        "  # creating a new list for (-1)^c\n",
        "  alt_c = [(-1)**i for i in c]\n",
        "  noise = np.multiply(alt_c, np.random.normal(loc=mu, scale=sigma, size=m)) \n",
        "  \n",
        "  # uniform distribution [0, 1)\n",
        "  x_1 = np.random.uniform(low=0, high=1, size=m)\n",
        "\n",
        "  listy = np.multiply(w, x_1)\n",
        "  x_2 = np.add(listy, noise)\n",
        "  \n",
        "  # create an array for the colors for each class\n",
        "  \n",
        "  return x_1, x_2, c"
      ],
      "execution_count": 0,
      "outputs": []
    },
    {
      "cell_type": "code",
      "metadata": {
        "id": "ajKZIqjLvsba",
        "colab_type": "code",
        "outputId": "8424a41e-2faf-4133-9386-9755d992c297",
        "colab": {
          "base_uri": "https://localhost:8080/",
          "height": 320
        }
      },
      "source": [
        "def graph_random_data(w, b, mu, sigma, m):\n",
        "  x_1, x_2, c = get_random_data(w, b, mu, sigma, m)\n",
        "  fig, ax = plt.subplots(figsize=(5,5))\n",
        "\n",
        "  colors = ['blue' if c[x] == 1 else 'red' for x in range(m)]\n",
        "\n",
        "  ax.scatter(x_1, x_2, c=colors)\n",
        "  plt.show()\n",
        "\n",
        "graph_random_data(10,10,15,5,100)"
      ],
      "execution_count": 3,
      "outputs": [
        {
          "output_type": "display_data",
          "data": {
            "image/png": "[encoded data removed]",
            "text/plain": [
              "<Figure size 360x360 with 1 Axes>"
            ]
          },
          "metadata": {
            "tags": []
          }
        }
      ]
    },
    {
      "cell_type": "markdown",
      "metadata": {
        "id": "FcoboTTZCcb6",
        "colab_type": "text"
      },
      "source": [
        "**Problem 2**\n",
        "\n",
        "Create a Keras to implement logistic regression with two features and train it with the data generated in Problem 1. The loss should be the binary cross entropy loss. \n",
        "\n",
        "How well does the trained model separate the red and blue dots?  You can obtain the separating line determined by the model by extracting the weights from the dense layer using the function ```get_weights```. See [https://keras.io/layers/about-keras-layers/](https://keras.io/layers/about-keras-layers/).  \n",
        "\n",
        "Create a plot showing the random data, the true line used to generate the data, and the separating line of the trained model. Make sure that you describe in detail in your notebook how you proceed to obtain the separating line.\n",
        "\n",
        "Note that you have to carry out some simple steps to obtain the separating line from the model weights (the two weights and the bias term of the dense layer).  This is not immediately obvious.  It maybe helpful to take a look at the heatmap below.\n",
        "\n",
        "The trained model realizes function ```f : R^2 -> R``` that takes two features as input and outputs a number in the interval ```[0, 1]```. Use a heatmap to visualize this function.  \n",
        "\n",
        "---"
      ]
    },
    {
      "cell_type": "code",
      "metadata": {
        "id": "RE9I4pX2R9OF",
        "colab_type": "code",
        "colab": {}
      },
      "source": [
        "# get data and test train split\n",
        "x_1, x_2, y = get_random_data(5,5,5,5,100)\n",
        "\n",
        "# X = (x1, x2 .... xn)T\n",
        "X = np.array([x_1, x_2]).T\n",
        "\n",
        "y = np.array(y)\n",
        "x_train, x_test, y_train, y_test = train_test_split(X, y)"
      ],
      "execution_count": 0,
      "outputs": []
    },
    {
      "cell_type": "code",
      "metadata": {
        "id": "Kh-gUK6aN0y4",
        "colab_type": "code",
        "colab": {}
      },
      "source": [
        "def build_model(input_dim, output_dim):\n",
        "  model = keras.Sequential()\n",
        "  model.add(tf.keras.layers.Dense(output_dim, input_dim=input_dim, activation='sigmoid'))\n",
        "\n",
        "  optimizer = tf.keras.optimizers.Adam(learning_rate=0.1, beta_1=0.9, beta_2=0.999, epsilon=1e-07, amsgrad=False,name='Adam')\n",
        "\n",
        "  model.compile(loss=tf.keras.losses.BinaryCrossentropy(), optimizer='sgd')\n",
        "\n",
        "  return model\n",
        "\n"
      ],
      "execution_count": 0,
      "outputs": []
    },
    {
      "cell_type": "code",
      "metadata": {
        "id": "0a7uegBsDIiM",
        "colab_type": "code",
        "outputId": "91c20117-59a2-41c7-8568-2b35c2ea85bf",
        "colab": {
          "base_uri": "https://localhost:8080/",
          "height": 1000
        }
      },
      "source": [
        "# number of inputs\n",
        "input_dim = 2\n",
        "# output dimensions (classes)\n",
        "output_dim = 1\n",
        "model = build_model(input_dim, output_dim)\n",
        "\n",
        "EPOCHS = 100\n",
        "\n",
        "history = model.fit(x_train, y_train, epochs=EPOCHS)"
      ],
      "execution_count": 6,
      "outputs": [
        {
          "output_type": "stream",
          "text": [
            "Epoch 1/100\n",
            "3/3 [==============================] - 0s 2ms/step - loss: 0.5585\n",
            "Epoch 2/100\n",
            "3/3 [==============================] - 0s 2ms/step - loss: 0.5475\n",
            "Epoch 3/100\n",
            "3/3 [==============================] - 0s 2ms/step - loss: 0.4927\n",
            "Epoch 4/100\n",
            "3/3 [==============================] - 0s 2ms/step - loss: 0.5048\n",
            "Epoch 5/100\n",
            "3/3 [==============================] - 0s 1ms/step - loss: 0.4817\n",
            "Epoch 6/100\n",
            "3/3 [==============================] - 0s 2ms/step - loss: 0.5126\n",
            "Epoch 7/100\n",
            "3/3 [==============================] - 0s 3ms/step - loss: 0.5071\n",
            "Epoch 8/100\n",
            "3/3 [==============================] - 0s 1ms/step - loss: 0.5617\n",
            "Epoch 9/100\n",
            "3/3 [==============================] - 0s 2ms/step - loss: 0.5830\n",
            "Epoch 10/100\n",
            "3/3 [==============================] - 0s 2ms/step - loss: 0.5001\n",
            "Epoch 11/100\n",
            "3/3 [==============================] - 0s 2ms/step - loss: 0.5274\n",
            "Epoch 12/100\n",
            "3/3 [==============================] - 0s 2ms/step - loss: 0.5110\n",
            "Epoch 13/100\n",
            "3/3 [==============================] - 0s 1ms/step - loss: 0.5106\n",
            "Epoch 14/100\n",
            "3/3 [==============================] - 0s 3ms/step - loss: 0.5470\n",
            "Epoch 15/100\n",
            "3/3 [==============================] - 0s 2ms/step - loss: 0.5252\n",
            "Epoch 16/100\n",
            "3/3 [==============================] - 0s 2ms/step - loss: 0.5275\n",
            "Epoch 17/100\n",
            "3/3 [==============================] - 0s 2ms/step - loss: 0.5986\n",
            "Epoch 18/100\n",
            "3/3 [==============================] - 0s 2ms/step - loss: 0.5621\n",
            "Epoch 19/100\n",
            "3/3 [==============================] - 0s 2ms/step - loss: 0.5437\n",
            "Epoch 20/100\n",
            "3/3 [==============================] - 0s 2ms/step - loss: 0.5312\n",
            "Epoch 21/100\n",
            "3/3 [==============================] - 0s 2ms/step - loss: 0.5281\n",
            "Epoch 22/100\n",
            "3/3 [==============================] - 0s 2ms/step - loss: 0.5567\n",
            "Epoch 23/100\n",
            "3/3 [==============================] - 0s 2ms/step - loss: 0.4802\n",
            "Epoch 24/100\n",
            "3/3 [==============================] - 0s 2ms/step - loss: 0.5621\n",
            "Epoch 25/100\n",
            "3/3 [==============================] - 0s 2ms/step - loss: 0.4829\n",
            "Epoch 26/100\n",
            "3/3 [==============================] - 0s 2ms/step - loss: 0.5131\n",
            "Epoch 27/100\n",
            "3/3 [==============================] - 0s 2ms/step - loss: 0.6322\n",
            "Epoch 28/100\n",
            "3/3 [==============================] - 0s 2ms/step - loss: 0.5088\n",
            "Epoch 29/100\n",
            "3/3 [==============================] - 0s 2ms/step - loss: 0.5439\n",
            "Epoch 30/100\n",
            "3/3 [==============================] - 0s 2ms/step - loss: 0.5371\n",
            "Epoch 31/100\n",
            "3/3 [==============================] - 0s 2ms/step - loss: 0.5439\n",
            "Epoch 32/100\n",
            "3/3 [==============================] - 0s 2ms/step - loss: 0.5985\n",
            "Epoch 33/100\n",
            "3/3 [==============================] - 0s 2ms/step - loss: 0.5133\n",
            "Epoch 34/100\n",
            "3/3 [==============================] - 0s 2ms/step - loss: 0.5341\n",
            "Epoch 35/100\n",
            "3/3 [==============================] - 0s 2ms/step - loss: 0.5117\n",
            "Epoch 36/100\n",
            "3/3 [==============================] - 0s 2ms/step - loss: 0.5476\n",
            "Epoch 37/100\n",
            "3/3 [==============================] - 0s 2ms/step - loss: 0.5082\n",
            "Epoch 38/100\n",
            "3/3 [==============================] - 0s 2ms/step - loss: 0.4996\n",
            "Epoch 39/100\n",
            "3/3 [==============================] - 0s 2ms/step - loss: 0.5411\n",
            "Epoch 40/100\n",
            "3/3 [==============================] - 0s 2ms/step - loss: 0.5233\n",
            "Epoch 41/100\n",
            "3/3 [==============================] - 0s 2ms/step - loss: 0.4809\n",
            "Epoch 42/100\n",
            "3/3 [==============================] - 0s 1ms/step - loss: 0.5673\n",
            "Epoch 43/100\n",
            "3/3 [==============================] - 0s 2ms/step - loss: 0.5578\n",
            "Epoch 44/100\n",
            "3/3 [==============================] - 0s 2ms/step - loss: 0.5906\n",
            "Epoch 45/100\n",
            "3/3 [==============================] - 0s 2ms/step - loss: 0.5430\n",
            "Epoch 46/100\n",
            "3/3 [==============================] - 0s 2ms/step - loss: 0.5224\n",
            "Epoch 47/100\n",
            "3/3 [==============================] - 0s 1ms/step - loss: 0.5097\n",
            "Epoch 48/100\n",
            "3/3 [==============================] - 0s 2ms/step - loss: 0.4768\n",
            "Epoch 49/100\n",
            "3/3 [==============================] - 0s 2ms/step - loss: 0.5325\n",
            "Epoch 50/100\n",
            "3/3 [==============================] - 0s 2ms/step - loss: 0.5497\n",
            "Epoch 51/100\n",
            "3/3 [==============================] - 0s 2ms/step - loss: 0.5232\n",
            "Epoch 52/100\n",
            "3/3 [==============================] - 0s 2ms/step - loss: 0.5399\n",
            "Epoch 53/100\n",
            "3/3 [==============================] - 0s 2ms/step - loss: 0.4938\n",
            "Epoch 54/100\n",
            "3/3 [==============================] - 0s 2ms/step - loss: 0.5792\n",
            "Epoch 55/100\n",
            "3/3 [==============================] - 0s 2ms/step - loss: 0.4870\n",
            "Epoch 56/100\n",
            "3/3 [==============================] - 0s 2ms/step - loss: 0.4909\n",
            "Epoch 57/100\n",
            "3/3 [==============================] - 0s 1ms/step - loss: 0.5145\n",
            "Epoch 58/100\n",
            "3/3 [==============================] - 0s 2ms/step - loss: 0.5265\n",
            "Epoch 59/100\n",
            "3/3 [==============================] - 0s 1ms/step - loss: 0.5843\n",
            "Epoch 60/100\n",
            "3/3 [==============================] - 0s 2ms/step - loss: 0.5633\n",
            "Epoch 61/100\n",
            "3/3 [==============================] - 0s 2ms/step - loss: 0.5555\n",
            "Epoch 62/100\n",
            "3/3 [==============================] - 0s 1ms/step - loss: 0.4930\n",
            "Epoch 63/100\n",
            "3/3 [==============================] - 0s 1ms/step - loss: 0.5989\n",
            "Epoch 64/100\n",
            "3/3 [==============================] - 0s 2ms/step - loss: 0.5158\n",
            "Epoch 65/100\n",
            "3/3 [==============================] - 0s 2ms/step - loss: 0.4810\n",
            "Epoch 66/100\n",
            "3/3 [==============================] - 0s 2ms/step - loss: 0.6375\n",
            "Epoch 67/100\n",
            "3/3 [==============================] - 0s 2ms/step - loss: 0.4718\n",
            "Epoch 68/100\n",
            "3/3 [==============================] - 0s 2ms/step - loss: 0.4947\n",
            "Epoch 69/100\n",
            "3/3 [==============================] - 0s 2ms/step - loss: 0.4898\n",
            "Epoch 70/100\n",
            "3/3 [==============================] - 0s 1ms/step - loss: 0.4796\n",
            "Epoch 71/100\n",
            "3/3 [==============================] - 0s 2ms/step - loss: 0.5174\n",
            "Epoch 72/100\n",
            "3/3 [==============================] - 0s 1ms/step - loss: 0.4857\n",
            "Epoch 73/100\n",
            "3/3 [==============================] - 0s 2ms/step - loss: 0.5716\n",
            "Epoch 74/100\n",
            "3/3 [==============================] - 0s 2ms/step - loss: 0.4737\n",
            "Epoch 75/100\n",
            "3/3 [==============================] - 0s 2ms/step - loss: 0.5297\n",
            "Epoch 76/100\n",
            "3/3 [==============================] - 0s 2ms/step - loss: 0.5550\n",
            "Epoch 77/100\n",
            "3/3 [==============================] - 0s 3ms/step - loss: 0.4997\n",
            "Epoch 78/100\n",
            "3/3 [==============================] - 0s 5ms/step - loss: 0.4916\n",
            "Epoch 79/100\n",
            "3/3 [==============================] - 0s 2ms/step - loss: 0.5508\n",
            "Epoch 80/100\n",
            "3/3 [==============================] - 0s 2ms/step - loss: 0.5852\n",
            "Epoch 81/100\n",
            "3/3 [==============================] - 0s 2ms/step - loss: 0.5150\n",
            "Epoch 82/100\n",
            "3/3 [==============================] - 0s 2ms/step - loss: 0.5122\n",
            "Epoch 83/100\n",
            "3/3 [==============================] - 0s 2ms/step - loss: 0.5159\n",
            "Epoch 84/100\n",
            "3/3 [==============================] - 0s 2ms/step - loss: 0.6559\n",
            "Epoch 85/100\n",
            "3/3 [==============================] - 0s 2ms/step - loss: 0.4975\n",
            "Epoch 86/100\n",
            "3/3 [==============================] - 0s 2ms/step - loss: 0.5213\n",
            "Epoch 87/100\n",
            "3/3 [==============================] - 0s 2ms/step - loss: 0.5229\n",
            "Epoch 88/100\n",
            "3/3 [==============================] - 0s 2ms/step - loss: 0.4840\n",
            "Epoch 89/100\n",
            "3/3 [==============================] - 0s 2ms/step - loss: 0.4694\n",
            "Epoch 90/100\n",
            "3/3 [==============================] - 0s 2ms/step - loss: 0.5041\n",
            "Epoch 91/100\n",
            "3/3 [==============================] - 0s 2ms/step - loss: 0.5032\n",
            "Epoch 92/100\n",
            "3/3 [==============================] - 0s 2ms/step - loss: 0.5708\n",
            "Epoch 93/100\n",
            "3/3 [==============================] - 0s 2ms/step - loss: 0.5779\n",
            "Epoch 94/100\n",
            "3/3 [==============================] - 0s 2ms/step - loss: 0.5510\n",
            "Epoch 95/100\n",
            "3/3 [==============================] - 0s 2ms/step - loss: 0.5622\n",
            "Epoch 96/100\n",
            "3/3 [==============================] - 0s 2ms/step - loss: 0.4699\n",
            "Epoch 97/100\n",
            "3/3 [==============================] - 0s 2ms/step - loss: 0.5150\n",
            "Epoch 98/100\n",
            "3/3 [==============================] - 0s 2ms/step - loss: 0.4837\n",
            "Epoch 99/100\n",
            "3/3 [==============================] - 0s 2ms/step - loss: 0.5089\n",
            "Epoch 100/100\n",
            "3/3 [==============================] - 0s 2ms/step - loss: 0.5082\n"
          ],
          "name": "stdout"
        }
      ]
    },
    {
      "cell_type": "code",
      "metadata": {
        "id": "JGVaBZ_VSOT6",
        "colab_type": "code",
        "outputId": "69fa7842-5dd0-4e68-f4be-38abbfedd2ab",
        "colab": {
          "base_uri": "https://localhost:8080/",
          "height": 320
        }
      },
      "source": [
        "# make predictions\n",
        "preds = model.predict(x_test)\n",
        "\n",
        "fig, ax = plt.subplots(2, figsize=(10,5))\n",
        "\n",
        "for i in range(len(x_test)):\n",
        "  # plot real value\n",
        "  ax[0].scatter(x_test[i][0], x_test[i][1], c='blue' if y_test[i] == 1 else 'red', label='Real')\n",
        "  # plot predictions\n",
        "  ax[1].scatter(x_test[i][0], x_test[i][1], c='blue' if preds[i] >= .5 else 'red', label='Predictions')\n",
        "  "
      ],
      "execution_count": 7,
      "outputs": [
        {
          "output_type": "display_data",
          "data": {
            "image/png": "[encoded data removed]",
            "text/plain": [
              "<Figure size 720x360 with 2 Axes>"
            ]
          },
          "metadata": {
            "tags": []
          }
        }
      ]
    },
    {
      "cell_type": "code",
      "metadata": {
        "id": "VA27hRL5TWx1",
        "colab_type": "code",
        "colab": {
          "base_uri": "https://localhost:8080/",
          "height": 52
        },
        "outputId": "671f1d3f-3d94-46ee-b5b2-ede87f896646"
      },
      "source": [
        "# draw line by obtaining weights\n",
        "\n",
        "# get weights from model\n",
        "weights = model.get_weights()\n",
        "\n",
        "# has input shape of 2, which represent our weight vector\n",
        "print(weights[0].shape)\n",
        "\n",
        "# has output shape of 1, which will represent our b\n",
        "print(weights[1].shape)"
      ],
      "execution_count": 8,
      "outputs": [
        {
          "output_type": "stream",
          "text": [
            "(2, 1)\n",
            "(1,)\n"
          ],
          "name": "stdout"
        }
      ]
    },
    {
      "cell_type": "code",
      "metadata": {
        "id": "IY_3CQ0-N9gb",
        "colab_type": "code",
        "colab": {
          "base_uri": "https://localhost:8080/",
          "height": 70
        },
        "outputId": "34c2642d-08f8-48a5-fd57-f411f4d232b5"
      },
      "source": [
        "# these will be the weights we use to plot our graph\n",
        "# weight vector\n",
        "print(weights[0])\n",
        "\n",
        "# bias\n",
        "print(weights[1])"
      ],
      "execution_count": 9,
      "outputs": [
        {
          "output_type": "stream",
          "text": [
            "[[-0.5490647]\n",
            " [-0.2044484]]\n",
            "[0.24660717]\n"
          ],
          "name": "stdout"
        }
      ]
    },
    {
      "cell_type": "code",
      "metadata": {
        "id": "_SoR-Wsogiez",
        "colab_type": "code",
        "colab": {
          "base_uri": "https://localhost:8080/",
          "height": 70
        },
        "outputId": "09dca29a-86f6-47b6-f7f3-eea9aa6aa7a1"
      },
      "source": [
        "# create arbitrary data\n",
        "\n",
        "# find range from randomly generated data\n",
        "range_max = int(np.ceil(max(x_2)))\n",
        "range_min = int(np.floor(min(x_2)))\n",
        "\n",
        "print('range: (', range_min, ' , ', range_max, ')')\n",
        "\n",
        "# create an array to represent the space of our data\n",
        "d = np.linspace(0, 1)\n",
        "r = np.linspace(range_min, range_max)\n",
        "X = np.array([d,r])\n",
        "\n",
        "\n",
        "print('Matrix dimension check')\n",
        "print(weights[0].T.shape, ' x ', X.shape)\n"
      ],
      "execution_count": 10,
      "outputs": [
        {
          "output_type": "stream",
          "text": [
            "range: ( -15  ,  22 )\n",
            "Matrix dimension check\n",
            "(1, 2)  x  (2, 50)\n"
          ],
          "name": "stdout"
        }
      ]
    },
    {
      "cell_type": "code",
      "metadata": {
        "id": "XAplbQLJimw9",
        "colab_type": "code",
        "colab": {
          "base_uri": "https://localhost:8080/",
          "height": 1000
        },
        "outputId": "7fbe5095-b393-4e2c-eac8-b1b61de8cb72"
      },
      "source": [
        "# generate labels\n",
        "\n",
        "z = np.dot(weights[0].T, X) + weights[1]\n",
        "\n",
        "# apply sigmoid function\n",
        "sigmoid = lambda x : 1/(1 + np.exp(-x)) \n",
        "\n",
        "yhat = sigmoid(z[0])\n",
        "\n",
        "# plot results\n",
        "fig, ax = plt.subplots(figsize=(10,10))\n",
        "\n",
        "ax.plot(x_1, z[0])\n",
        "for i in range(len(x_train)):\n",
        "  # plot real value\n",
        "  ax.scatter(x_train[i][0], x_train[i][1], c='blue' if y_train[i] == 1 else 'red', label='Real')"
      ],
      "execution_count": 24,
      "outputs": [
        {
          "output_type": "stream",
          "text": [
            "[ 3.31333320e+00  3.14774839e+00  2.98216358e+00  2.81657878e+00\n",
            "  2.65099397e+00  2.48540916e+00  2.31982435e+00  2.15423955e+00\n",
            "  1.98865474e+00  1.82306993e+00  1.65748512e+00  1.49190032e+00\n",
            "  1.32631551e+00  1.16073070e+00  9.95145894e-01  8.29561086e-01\n",
            "  6.63976279e-01  4.98391471e-01  3.32806664e-01  1.67221856e-01\n",
            "  1.63704856e-03 -1.63947759e-01 -3.29532566e-01 -4.95117374e-01\n",
            " -6.60702181e-01 -8.26286989e-01 -9.91871796e-01 -1.15745660e+00\n",
            " -1.32304141e+00 -1.48862622e+00 -1.65421103e+00 -1.81979583e+00\n",
            " -1.98538064e+00 -2.15096545e+00 -2.31655026e+00 -2.48213506e+00\n",
            " -2.64771987e+00 -2.81330468e+00 -2.97888949e+00 -3.14447429e+00\n",
            " -3.31005910e+00 -3.47564391e+00 -3.64122872e+00 -3.80681352e+00\n",
            " -3.97239833e+00 -4.13798314e+00 -4.30356795e+00 -4.46915275e+00\n",
            " -4.63473756e+00 -4.80032237e+00]\n"
          ],
          "name": "stdout"
        },
        {
          "output_type": "error",
          "ename": "ValueError",
          "evalue": "ignored",
          "traceback": [
            "\u001b[0;31m---------------------------------------------------------------------------\u001b[0m",
            "\u001b[0;31mValueError\u001b[0m                                Traceback (most recent call last)",
            "\u001b[0;32m<ipython-input-24-ce1edfbb7531>\u001b[0m in \u001b[0;36m<module>\u001b[0;34m()\u001b[0m\n\u001b[1;32m     10\u001b[0m \u001b[0mfig\u001b[0m\u001b[0;34m,\u001b[0m \u001b[0max\u001b[0m \u001b[0;34m=\u001b[0m \u001b[0mplt\u001b[0m\u001b[0;34m.\u001b[0m\u001b[0msubplots\u001b[0m\u001b[0;34m(\u001b[0m\u001b[0mfigsize\u001b[0m\u001b[0;34m=\u001b[0m\u001b[0;34m(\u001b[0m\u001b[0;36m10\u001b[0m\u001b[0;34m,\u001b[0m\u001b[0;36m10\u001b[0m\u001b[0;34m)\u001b[0m\u001b[0;34m)\u001b[0m\u001b[0;34m\u001b[0m\u001b[0;34m\u001b[0m\u001b[0m\n\u001b[1;32m     11\u001b[0m \u001b[0mprint\u001b[0m\u001b[0;34m(\u001b[0m\u001b[0mz\u001b[0m\u001b[0;34m[\u001b[0m\u001b[0;36m0\u001b[0m\u001b[0;34m]\u001b[0m\u001b[0;34m)\u001b[0m\u001b[0;34m\u001b[0m\u001b[0;34m\u001b[0m\u001b[0m\n\u001b[0;32m---> 12\u001b[0;31m \u001b[0max\u001b[0m\u001b[0;34m.\u001b[0m\u001b[0mplot\u001b[0m\u001b[0;34m(\u001b[0m\u001b[0mx_1\u001b[0m\u001b[0;34m,\u001b[0m \u001b[0mz\u001b[0m\u001b[0;34m[\u001b[0m\u001b[0;36m0\u001b[0m\u001b[0;34m]\u001b[0m\u001b[0;34m)\u001b[0m\u001b[0;34m\u001b[0m\u001b[0;34m\u001b[0m\u001b[0m\n\u001b[0m\u001b[1;32m     13\u001b[0m \u001b[0;32mfor\u001b[0m \u001b[0mi\u001b[0m \u001b[0;32min\u001b[0m \u001b[0mrange\u001b[0m\u001b[0;34m(\u001b[0m\u001b[0mlen\u001b[0m\u001b[0;34m(\u001b[0m\u001b[0mx_train\u001b[0m\u001b[0;34m)\u001b[0m\u001b[0;34m)\u001b[0m\u001b[0;34m:\u001b[0m\u001b[0;34m\u001b[0m\u001b[0;34m\u001b[0m\u001b[0m\n\u001b[1;32m     14\u001b[0m   \u001b[0;31m# plot real value\u001b[0m\u001b[0;34m\u001b[0m\u001b[0;34m\u001b[0m\u001b[0;34m\u001b[0m\u001b[0m\n",
            "\u001b[0;32m/usr/local/lib/python3.6/dist-packages/matplotlib/axes/_axes.py\u001b[0m in \u001b[0;36mplot\u001b[0;34m(self, scalex, scaley, data, *args, **kwargs)\u001b[0m\n\u001b[1;32m   1644\u001b[0m         \"\"\"\n\u001b[1;32m   1645\u001b[0m         \u001b[0mkwargs\u001b[0m \u001b[0;34m=\u001b[0m \u001b[0mcbook\u001b[0m\u001b[0;34m.\u001b[0m\u001b[0mnormalize_kwargs\u001b[0m\u001b[0;34m(\u001b[0m\u001b[0mkwargs\u001b[0m\u001b[0;34m,\u001b[0m \u001b[0mmlines\u001b[0m\u001b[0;34m.\u001b[0m\u001b[0mLine2D\u001b[0m\u001b[0;34m)\u001b[0m\u001b[0;34m\u001b[0m\u001b[0;34m\u001b[0m\u001b[0m\n\u001b[0;32m-> 1646\u001b[0;31m         \u001b[0mlines\u001b[0m \u001b[0;34m=\u001b[0m \u001b[0;34m[\u001b[0m\u001b[0;34m*\u001b[0m\u001b[0mself\u001b[0m\u001b[0;34m.\u001b[0m\u001b[0m_get_lines\u001b[0m\u001b[0;34m(\u001b[0m\u001b[0;34m*\u001b[0m\u001b[0margs\u001b[0m\u001b[0;34m,\u001b[0m \u001b[0mdata\u001b[0m\u001b[0;34m=\u001b[0m\u001b[0mdata\u001b[0m\u001b[0;34m,\u001b[0m \u001b[0;34m**\u001b[0m\u001b[0mkwargs\u001b[0m\u001b[0;34m)\u001b[0m\u001b[0;34m]\u001b[0m\u001b[0;34m\u001b[0m\u001b[0;34m\u001b[0m\u001b[0m\n\u001b[0m\u001b[1;32m   1647\u001b[0m         \u001b[0;32mfor\u001b[0m \u001b[0mline\u001b[0m \u001b[0;32min\u001b[0m \u001b[0mlines\u001b[0m\u001b[0;34m:\u001b[0m\u001b[0;34m\u001b[0m\u001b[0;34m\u001b[0m\u001b[0m\n\u001b[1;32m   1648\u001b[0m             \u001b[0mself\u001b[0m\u001b[0;34m.\u001b[0m\u001b[0madd_line\u001b[0m\u001b[0;34m(\u001b[0m\u001b[0mline\u001b[0m\u001b[0;34m)\u001b[0m\u001b[0;34m\u001b[0m\u001b[0;34m\u001b[0m\u001b[0m\n",
            "\u001b[0;32m/usr/local/lib/python3.6/dist-packages/matplotlib/axes/_base.py\u001b[0m in \u001b[0;36m__call__\u001b[0;34m(self, *args, **kwargs)\u001b[0m\n\u001b[1;32m    214\u001b[0m                 \u001b[0mthis\u001b[0m \u001b[0;34m+=\u001b[0m \u001b[0margs\u001b[0m\u001b[0;34m[\u001b[0m\u001b[0;36m0\u001b[0m\u001b[0;34m]\u001b[0m\u001b[0;34m,\u001b[0m\u001b[0;34m\u001b[0m\u001b[0;34m\u001b[0m\u001b[0m\n\u001b[1;32m    215\u001b[0m                 \u001b[0margs\u001b[0m \u001b[0;34m=\u001b[0m \u001b[0margs\u001b[0m\u001b[0;34m[\u001b[0m\u001b[0;36m1\u001b[0m\u001b[0;34m:\u001b[0m\u001b[0;34m]\u001b[0m\u001b[0;34m\u001b[0m\u001b[0;34m\u001b[0m\u001b[0m\n\u001b[0;32m--> 216\u001b[0;31m             \u001b[0;32myield\u001b[0m \u001b[0;32mfrom\u001b[0m \u001b[0mself\u001b[0m\u001b[0;34m.\u001b[0m\u001b[0m_plot_args\u001b[0m\u001b[0;34m(\u001b[0m\u001b[0mthis\u001b[0m\u001b[0;34m,\u001b[0m \u001b[0mkwargs\u001b[0m\u001b[0;34m)\u001b[0m\u001b[0;34m\u001b[0m\u001b[0;34m\u001b[0m\u001b[0m\n\u001b[0m\u001b[1;32m    217\u001b[0m \u001b[0;34m\u001b[0m\u001b[0m\n\u001b[1;32m    218\u001b[0m     \u001b[0;32mdef\u001b[0m \u001b[0mget_next_color\u001b[0m\u001b[0;34m(\u001b[0m\u001b[0mself\u001b[0m\u001b[0;34m)\u001b[0m\u001b[0;34m:\u001b[0m\u001b[0;34m\u001b[0m\u001b[0;34m\u001b[0m\u001b[0m\n",
            "\u001b[0;32m/usr/local/lib/python3.6/dist-packages/matplotlib/axes/_base.py\u001b[0m in \u001b[0;36m_plot_args\u001b[0;34m(self, tup, kwargs)\u001b[0m\n\u001b[1;32m    340\u001b[0m \u001b[0;34m\u001b[0m\u001b[0m\n\u001b[1;32m    341\u001b[0m         \u001b[0;32mif\u001b[0m \u001b[0mx\u001b[0m\u001b[0;34m.\u001b[0m\u001b[0mshape\u001b[0m\u001b[0;34m[\u001b[0m\u001b[0;36m0\u001b[0m\u001b[0;34m]\u001b[0m \u001b[0;34m!=\u001b[0m \u001b[0my\u001b[0m\u001b[0;34m.\u001b[0m\u001b[0mshape\u001b[0m\u001b[0;34m[\u001b[0m\u001b[0;36m0\u001b[0m\u001b[0;34m]\u001b[0m\u001b[0;34m:\u001b[0m\u001b[0;34m\u001b[0m\u001b[0;34m\u001b[0m\u001b[0m\n\u001b[0;32m--> 342\u001b[0;31m             raise ValueError(f\"x and y must have same first dimension, but \"\n\u001b[0m\u001b[1;32m    343\u001b[0m                              f\"have shapes {x.shape} and {y.shape}\")\n\u001b[1;32m    344\u001b[0m         \u001b[0;32mif\u001b[0m \u001b[0mx\u001b[0m\u001b[0;34m.\u001b[0m\u001b[0mndim\u001b[0m \u001b[0;34m>\u001b[0m \u001b[0;36m2\u001b[0m \u001b[0;32mor\u001b[0m \u001b[0my\u001b[0m\u001b[0;34m.\u001b[0m\u001b[0mndim\u001b[0m \u001b[0;34m>\u001b[0m \u001b[0;36m2\u001b[0m\u001b[0;34m:\u001b[0m\u001b[0;34m\u001b[0m\u001b[0;34m\u001b[0m\u001b[0m\n",
            "\u001b[0;31mValueError\u001b[0m: x and y must have same first dimension, but have shapes (100,) and (50,)"
          ]
        },
        {
          "output_type": "display_data",
          "data": {
            "image/png": "[encoded data removed]",
            "text/plain": [
              "<Figure size 720x720 with 1 Axes>"
            ]
          },
          "metadata": {
            "tags": []
          }
        }
      ]
    },
    {
      "cell_type": "markdown",
      "metadata": {
        "id": "Aq70vulmbJEL",
        "colab_type": "text"
      },
      "source": [
        "Problem 3\n",
        "\n",
        "Use numpy to implement a logistic regression model from scratch and train it with the data generated as in Problem 1.\n",
        "\n",
        "Hints: Look at the notes on logistic regression to figure out what the gradient is of the binary cross entropy loss with respect to w and b. Note that you only have to implement stochastic gradient, that is, you do not have to write vectorized code for mini-batch gradient descent.\n",
        "\n",
        "Create a plot showing the random data, the true line used to generate the data, and the separating line of the trained model.\n",
        "\n",
        "Use a heatmap to visualize the function defined by your trained model.\n",
        "\n",
        "You also have to compute the binary cross entropy loss and accuracy on the test set.\n",
        "\n",
        "https://towardsdatascience.com/logistic-regression-from-scratch-with-numpy-da4cc3121ece?gi=5969b4744006\n",
        "\n",
        "https://www.kaggle.com/emilyhorsman/basic-logistic-regression-with-numpy\n",
        "\n",
        "https://github.com/schneider128k/machine_learning_course/blob/master/slides/logistic_regression.pdf\n",
        "\n",
        "https://towardsdatascience.com/building-a-logistic-regression-in-python-301d27367c24"
      ]
    },
    {
      "cell_type": "markdown",
      "metadata": {
        "id": "FWMAmBbCDL6t",
        "colab_type": "text"
      },
      "source": [
        "# Logistic Regression Model\n",
        "\n",
        "$ h(x) = \\sigma(\\Theta^T x) $\n",
        "\n",
        "where $ \\sigma(x) = \\frac{1}{1+e^{-t}} $\n",
        "\n",
        "Therefore the model hypothesis is \n",
        "\n",
        "$h(x) = \\frac{1}{1 + e^{-\\Theta^Tx}}$\n",
        "\n",
        "\n",
        "### Computing Cost\n",
        "\n",
        "$ J(\\Theta) = -\\frac{1}{m} \\Sigma_{i=1}^m (y^i log(h(x^i)) + (1 - y^i) log(1-h(x^i))$"
      ]
    },
    {
      "cell_type": "code",
      "metadata": {
        "id": "FmCx1XIcbKN_",
        "colab_type": "code",
        "colab": {}
      },
      "source": [
        "from scipy.optimize import fmin_tnc\n",
        "\n",
        "def sigmoid(z):\n",
        "  return 1 / (1+ np.exp(z))\n",
        "\n",
        "def sigmoid_prime(z):\n",
        "  return sigmoid(z)* (1 - sigmoid(z))\n",
        "\n",
        "def net_input(theta, x):\n",
        "  # compute the weighted sum of the inputs\n",
        "  return np.dot(x, theta)\n",
        "\n",
        "def probability(theta, x):\n",
        "  # return the probability (prediction) after applying sigmoid functions\n",
        "  return sigmoid(net_input(theta,x))\n",
        "\n",
        "def squared_err(a,y):\n",
        "  return 0.5 * (a - y)**2\n",
        "\n",
        "\n",
        "\n",
        "class Model:\n",
        "  def __init__(self, X, Y):\n",
        "    # create weights\n",
        "    self.theta = np.zeros((X.shape[1], 1))\n",
        "    self.X = X\n",
        "    self.m = self.X.shape[0]\n",
        "    self.Y = np.array(Y)\n",
        "    self.parameters = self.fit()\n",
        "\n",
        "  def cost_function(self):\n",
        "      # Computes the cost function for all the training samples\n",
        "      total_cost = -(1 / self.m) * np.sum(\n",
        "          self.Y * np.log(probability(self.theta, self.X)) + (1 - self.Y) * np.log(\n",
        "              1 - probability(self.theta, self.X)))\n",
        "      return total_cost\n",
        "\n",
        "\n",
        "  def gradient(self):\n",
        "      # Computes the gradient of the cost function at the point theta\n",
        "      return (1 / self.m) * np.dot(self.X.T, sigmoid(net_input(self.theta, self.X)) - self.Y)\n",
        "\n",
        "  def fit(self):\n",
        "    opt_weights = fmin_tnc(func=self.cost_function, x0=self.theta, fprime=self.gradient, args=(self.X, self.Y.flatten()))\n",
        "    return opt_weights[0]\n",
        "\n",
        "  \n"
      ],
      "execution_count": 0,
      "outputs": []
    },
    {
      "cell_type": "code",
      "metadata": {
        "id": "TchrygYSnNg3",
        "colab_type": "code",
        "outputId": "589d38be-2d18-40ee-8e91-7895d44951fa",
        "colab": {
          "base_uri": "https://localhost:8080/",
          "height": 318
        }
      },
      "source": [
        "model = Model(X, y)"
      ],
      "execution_count": 13,
      "outputs": [
        {
          "output_type": "error",
          "ename": "TypeError",
          "evalue": "ignored",
          "traceback": [
            "\u001b[0;31m---------------------------------------------------------------------------\u001b[0m",
            "\u001b[0;31mTypeError\u001b[0m                                 Traceback (most recent call last)",
            "\u001b[0;32m<ipython-input-13-b593bcaac62c>\u001b[0m in \u001b[0;36m<module>\u001b[0;34m()\u001b[0m\n\u001b[0;32m----> 1\u001b[0;31m \u001b[0mmodel\u001b[0m \u001b[0;34m=\u001b[0m \u001b[0mModel\u001b[0m\u001b[0;34m(\u001b[0m\u001b[0mX\u001b[0m\u001b[0;34m,\u001b[0m \u001b[0my\u001b[0m\u001b[0;34m)\u001b[0m\u001b[0;34m\u001b[0m\u001b[0;34m\u001b[0m\u001b[0m\n\u001b[0m",
            "\u001b[0;32m<ipython-input-12-954388a4a5e8>\u001b[0m in \u001b[0;36m__init__\u001b[0;34m(self, X, Y)\u001b[0m\n\u001b[1;32m     27\u001b[0m     \u001b[0mself\u001b[0m\u001b[0;34m.\u001b[0m\u001b[0mm\u001b[0m \u001b[0;34m=\u001b[0m \u001b[0mself\u001b[0m\u001b[0;34m.\u001b[0m\u001b[0mX\u001b[0m\u001b[0;34m.\u001b[0m\u001b[0mshape\u001b[0m\u001b[0;34m[\u001b[0m\u001b[0;36m0\u001b[0m\u001b[0;34m]\u001b[0m\u001b[0;34m\u001b[0m\u001b[0;34m\u001b[0m\u001b[0m\n\u001b[1;32m     28\u001b[0m     \u001b[0mself\u001b[0m\u001b[0;34m.\u001b[0m\u001b[0mY\u001b[0m \u001b[0;34m=\u001b[0m \u001b[0mnp\u001b[0m\u001b[0;34m.\u001b[0m\u001b[0marray\u001b[0m\u001b[0;34m(\u001b[0m\u001b[0mY\u001b[0m\u001b[0;34m)\u001b[0m\u001b[0;34m\u001b[0m\u001b[0;34m\u001b[0m\u001b[0m\n\u001b[0;32m---> 29\u001b[0;31m     \u001b[0mself\u001b[0m\u001b[0;34m.\u001b[0m\u001b[0mparameters\u001b[0m \u001b[0;34m=\u001b[0m \u001b[0mself\u001b[0m\u001b[0;34m.\u001b[0m\u001b[0mfit\u001b[0m\u001b[0;34m(\u001b[0m\u001b[0;34m)\u001b[0m\u001b[0;34m\u001b[0m\u001b[0;34m\u001b[0m\u001b[0m\n\u001b[0m\u001b[1;32m     30\u001b[0m \u001b[0;34m\u001b[0m\u001b[0m\n\u001b[1;32m     31\u001b[0m   \u001b[0;32mdef\u001b[0m \u001b[0mcost_function\u001b[0m\u001b[0;34m(\u001b[0m\u001b[0mself\u001b[0m\u001b[0;34m)\u001b[0m\u001b[0;34m:\u001b[0m\u001b[0;34m\u001b[0m\u001b[0;34m\u001b[0m\u001b[0m\n",
            "\u001b[0;32m<ipython-input-12-954388a4a5e8>\u001b[0m in \u001b[0;36mfit\u001b[0;34m(self)\u001b[0m\n\u001b[1;32m     42\u001b[0m \u001b[0;34m\u001b[0m\u001b[0m\n\u001b[1;32m     43\u001b[0m   \u001b[0;32mdef\u001b[0m \u001b[0mfit\u001b[0m\u001b[0;34m(\u001b[0m\u001b[0mself\u001b[0m\u001b[0;34m)\u001b[0m\u001b[0;34m:\u001b[0m\u001b[0;34m\u001b[0m\u001b[0;34m\u001b[0m\u001b[0m\n\u001b[0;32m---> 44\u001b[0;31m     \u001b[0mopt_weights\u001b[0m \u001b[0;34m=\u001b[0m \u001b[0mfmin_tnc\u001b[0m\u001b[0;34m(\u001b[0m\u001b[0mfunc\u001b[0m\u001b[0;34m=\u001b[0m\u001b[0mself\u001b[0m\u001b[0;34m.\u001b[0m\u001b[0mcost_function\u001b[0m\u001b[0;34m,\u001b[0m \u001b[0mx0\u001b[0m\u001b[0;34m=\u001b[0m\u001b[0mself\u001b[0m\u001b[0;34m.\u001b[0m\u001b[0mtheta\u001b[0m\u001b[0;34m,\u001b[0m \u001b[0mfprime\u001b[0m\u001b[0;34m=\u001b[0m\u001b[0mself\u001b[0m\u001b[0;34m.\u001b[0m\u001b[0mgradient\u001b[0m\u001b[0;34m,\u001b[0m \u001b[0margs\u001b[0m\u001b[0;34m=\u001b[0m\u001b[0;34m(\u001b[0m\u001b[0mself\u001b[0m\u001b[0;34m.\u001b[0m\u001b[0mX\u001b[0m\u001b[0;34m,\u001b[0m \u001b[0mself\u001b[0m\u001b[0;34m.\u001b[0m\u001b[0mY\u001b[0m\u001b[0;34m.\u001b[0m\u001b[0mflatten\u001b[0m\u001b[0;34m(\u001b[0m\u001b[0;34m)\u001b[0m\u001b[0;34m)\u001b[0m\u001b[0;34m)\u001b[0m\u001b[0;34m\u001b[0m\u001b[0;34m\u001b[0m\u001b[0m\n\u001b[0m\u001b[1;32m     45\u001b[0m     \u001b[0;32mreturn\u001b[0m \u001b[0mopt_weights\u001b[0m\u001b[0;34m[\u001b[0m\u001b[0;36m0\u001b[0m\u001b[0;34m]\u001b[0m\u001b[0;34m\u001b[0m\u001b[0;34m\u001b[0m\u001b[0m\n\u001b[1;32m     46\u001b[0m \u001b[0;34m\u001b[0m\u001b[0m\n",
            "\u001b[0;32m/usr/local/lib/python3.6/dist-packages/scipy/optimize/tnc.py\u001b[0m in \u001b[0;36mfmin_tnc\u001b[0;34m(func, x0, fprime, args, approx_grad, bounds, epsilon, scale, offset, messages, maxCGit, maxfun, eta, stepmx, accuracy, fmin, ftol, xtol, pgtol, rescale, disp, callback)\u001b[0m\n\u001b[1;32m    273\u001b[0m             'disp': False}\n\u001b[1;32m    274\u001b[0m \u001b[0;34m\u001b[0m\u001b[0m\n\u001b[0;32m--> 275\u001b[0;31m     \u001b[0mres\u001b[0m \u001b[0;34m=\u001b[0m \u001b[0m_minimize_tnc\u001b[0m\u001b[0;34m(\u001b[0m\u001b[0mfun\u001b[0m\u001b[0;34m,\u001b[0m \u001b[0mx0\u001b[0m\u001b[0;34m,\u001b[0m \u001b[0margs\u001b[0m\u001b[0;34m,\u001b[0m \u001b[0mjac\u001b[0m\u001b[0;34m,\u001b[0m \u001b[0mbounds\u001b[0m\u001b[0;34m,\u001b[0m \u001b[0mcallback\u001b[0m\u001b[0;34m=\u001b[0m\u001b[0mcallback\u001b[0m\u001b[0;34m,\u001b[0m \u001b[0;34m**\u001b[0m\u001b[0mopts\u001b[0m\u001b[0;34m)\u001b[0m\u001b[0;34m\u001b[0m\u001b[0;34m\u001b[0m\u001b[0m\n\u001b[0m\u001b[1;32m    276\u001b[0m \u001b[0;34m\u001b[0m\u001b[0m\n\u001b[1;32m    277\u001b[0m     \u001b[0;32mreturn\u001b[0m \u001b[0mres\u001b[0m\u001b[0;34m[\u001b[0m\u001b[0;34m'x'\u001b[0m\u001b[0;34m]\u001b[0m\u001b[0;34m,\u001b[0m \u001b[0mres\u001b[0m\u001b[0;34m[\u001b[0m\u001b[0;34m'nfev'\u001b[0m\u001b[0;34m]\u001b[0m\u001b[0;34m,\u001b[0m \u001b[0mres\u001b[0m\u001b[0;34m[\u001b[0m\u001b[0;34m'status'\u001b[0m\u001b[0;34m]\u001b[0m\u001b[0;34m\u001b[0m\u001b[0;34m\u001b[0m\u001b[0m\n",
            "\u001b[0;32m/usr/local/lib/python3.6/dist-packages/scipy/optimize/tnc.py\u001b[0m in \u001b[0;36m_minimize_tnc\u001b[0;34m(fun, x0, args, jac, bounds, eps, scale, offset, mesg_num, maxCGit, maxiter, eta, stepmx, accuracy, minfev, ftol, xtol, gtol, rescale, disp, callback, **unknown_options)\u001b[0m\n\u001b[1;32m    407\u001b[0m                                         \u001b[0moffset\u001b[0m\u001b[0;34m,\u001b[0m \u001b[0mmessages\u001b[0m\u001b[0;34m,\u001b[0m \u001b[0mmaxCGit\u001b[0m\u001b[0;34m,\u001b[0m \u001b[0mmaxfun\u001b[0m\u001b[0;34m,\u001b[0m\u001b[0;34m\u001b[0m\u001b[0;34m\u001b[0m\u001b[0m\n\u001b[1;32m    408\u001b[0m                                         \u001b[0meta\u001b[0m\u001b[0;34m,\u001b[0m \u001b[0mstepmx\u001b[0m\u001b[0;34m,\u001b[0m \u001b[0maccuracy\u001b[0m\u001b[0;34m,\u001b[0m \u001b[0mfmin\u001b[0m\u001b[0;34m,\u001b[0m \u001b[0mftol\u001b[0m\u001b[0;34m,\u001b[0m\u001b[0;34m\u001b[0m\u001b[0;34m\u001b[0m\u001b[0m\n\u001b[0;32m--> 409\u001b[0;31m                                         xtol, pgtol, rescale, callback)\n\u001b[0m\u001b[1;32m    410\u001b[0m \u001b[0;34m\u001b[0m\u001b[0m\n\u001b[1;32m    411\u001b[0m     \u001b[0mfunv\u001b[0m\u001b[0;34m,\u001b[0m \u001b[0mjacv\u001b[0m \u001b[0;34m=\u001b[0m \u001b[0mfunc_and_grad\u001b[0m\u001b[0;34m(\u001b[0m\u001b[0mx\u001b[0m\u001b[0;34m)\u001b[0m\u001b[0;34m\u001b[0m\u001b[0;34m\u001b[0m\u001b[0m\n",
            "\u001b[0;32m/usr/local/lib/python3.6/dist-packages/scipy/optimize/tnc.py\u001b[0m in \u001b[0;36mfunc_and_grad\u001b[0;34m(x)\u001b[0m\n\u001b[1;32m    369\u001b[0m     \u001b[0;32melse\u001b[0m\u001b[0;34m:\u001b[0m\u001b[0;34m\u001b[0m\u001b[0;34m\u001b[0m\u001b[0m\n\u001b[1;32m    370\u001b[0m         \u001b[0;32mdef\u001b[0m \u001b[0mfunc_and_grad\u001b[0m\u001b[0;34m(\u001b[0m\u001b[0mx\u001b[0m\u001b[0;34m)\u001b[0m\u001b[0;34m:\u001b[0m\u001b[0;34m\u001b[0m\u001b[0;34m\u001b[0m\u001b[0m\n\u001b[0;32m--> 371\u001b[0;31m             \u001b[0mf\u001b[0m \u001b[0;34m=\u001b[0m \u001b[0mfun\u001b[0m\u001b[0;34m(\u001b[0m\u001b[0mx\u001b[0m\u001b[0;34m,\u001b[0m \u001b[0;34m*\u001b[0m\u001b[0margs\u001b[0m\u001b[0;34m)\u001b[0m\u001b[0;34m\u001b[0m\u001b[0;34m\u001b[0m\u001b[0m\n\u001b[0m\u001b[1;32m    372\u001b[0m             \u001b[0mg\u001b[0m \u001b[0;34m=\u001b[0m \u001b[0mjac\u001b[0m\u001b[0;34m(\u001b[0m\u001b[0mx\u001b[0m\u001b[0;34m,\u001b[0m \u001b[0;34m*\u001b[0m\u001b[0margs\u001b[0m\u001b[0;34m)\u001b[0m\u001b[0;34m\u001b[0m\u001b[0;34m\u001b[0m\u001b[0m\n\u001b[1;32m    373\u001b[0m             \u001b[0;32mreturn\u001b[0m \u001b[0mf\u001b[0m\u001b[0;34m,\u001b[0m \u001b[0mg\u001b[0m\u001b[0;34m\u001b[0m\u001b[0;34m\u001b[0m\u001b[0m\n",
            "\u001b[0;31mTypeError\u001b[0m: cost_function() takes 1 positional argument but 4 were given"
          ]
        }
      ]
    },
    {
      "cell_type": "code",
      "metadata": {
        "id": "cvoBThe3N7Tl",
        "colab_type": "code",
        "colab": {}
      },
      "source": [
        ""
      ],
      "execution_count": 0,
      "outputs": []
    }
  ]
}