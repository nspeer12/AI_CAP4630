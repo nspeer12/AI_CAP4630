{
  "nbformat": 4,
  "nbformat_minor": 0,
  "metadata": {
    "colab": {
      "name": "hw4.ipynb",
      "provenance": [],
      "collapsed_sections": [],
      "toc_visible": true,
      "authorship_tag": "ABX9TyPVYCwDhvgqK+zMPbOdj4b7",
      "include_colab_link": true
    },
    "kernelspec": {
      "name": "python3",
      "display_name": "Python 3"
    }
  },
  "cells": [
    {
      "cell_type": "markdown",
      "metadata": {
        "id": "view-in-github",
        "colab_type": "text"
      },
      "source": [
        "<a href=\"https://colab.research.google.com/github/nspeer12/AI_CAP4630/blob/master/hw4.ipynb\" target=\"_parent\"><img src=\"https://colab.research.google.com/assets/colab-badge.svg\" alt=\"Open In Colab\"/></a>"
      ]
    },
    {
      "cell_type": "code",
      "metadata": {
        "id": "gAPaWYrj_iE5",
        "colab_type": "code",
        "colab": {}
      },
      "source": [
        "import numpy as np"
      ],
      "execution_count": 0,
      "outputs": []
    },
    {
      "cell_type": "markdown",
      "metadata": {
        "id": "BVEpa1Dz_jiq",
        "colab_type": "text"
      },
      "source": [
        "### Homework 4\n",
        "\n",
        "# Problem 1\n",
        "\n",
        "Using only ```numpy```, implement the function ```conv2d```.  It takes as input ```input_mat``` and ```kernel_mat``` and outputs ```output_mat```.  All variables \n",
        "are square matrices.  It should compute the convolution of ```input_mat``` with the kernel ```kernel_mat``` using valid padding.\n",
        "\n"
      ]
    },
    {
      "cell_type": "markdown",
      "metadata": {
        "id": "PcUBsrc6B8JH",
        "colab_type": "text"
      },
      "source": [
        "## Convolutions\n",
        "Convolutions are an operation that involve two input parameters. Firstly, an input matrix is passed, and secondly a kernel, or filter is defined. In convolutions, the kernel iterates through the columns and rows of the input matrix by a specified stride length. The regions considered are allowed to overlap. If the input, kernel, and stride length do not fit, the input matrix can be padded with zeros so the operation can be performed. The kernel iterates, and considers each subset of the input matrix. The dot product between the subset of the input and the kernel is performed, and then all of the values in this product are summed together. This final value becomes a value of our output matrix."
      ]
    },
    {
      "cell_type": "code",
      "metadata": {
        "id": "MKzKihRQ_s_o",
        "colab_type": "code",
        "colab": {}
      },
      "source": [
        "def conv2d(input_mat, kernel_mat):\n",
        "\n",
        "  # check for square inputs\n",
        "  if kernel_mat.shape[0] != kernel_mat.shape[1]:\n",
        "    print(\"Error: Kernel matrix is not square\")\n",
        "    return\n",
        "  elif input_mat.shape[0] != input_mat.shape[1]:\n",
        "    print(\"Error: Input matrix is not square!\")\n",
        "    return\n",
        "  else:\n",
        "    # get the dimensions of the output layer\n",
        "    n = input_mat.shape[0] - kernel_mat.shape[0] + 1\n",
        "    m = kernel_mat.shape[0]\n",
        "  \n",
        "\n",
        "  output_mat = np.zeros((n, n))\n",
        "\n",
        "  for i in range(n):\n",
        "    for k in range(n):\n",
        "      # multiply by kernel filter\n",
        "      conv = np.dot(input_mat[i:i+m, k:k+m], kernel_mat)\n",
        "      # sum all elements\n",
        "      output_mat[i,k] = np.sum(conv)\n",
        "\n",
        "  return output_mat"
      ],
      "execution_count": 0,
      "outputs": []
    },
    {
      "cell_type": "code",
      "metadata": {
        "id": "jBT9qkSJCdm6",
        "colab_type": "code",
        "outputId": "8d857830-34e3-43f9-e01b-bf55c6378d3b",
        "colab": {
          "base_uri": "https://localhost:8080/",
          "height": 107
        }
      },
      "source": [
        "input_mat = np.random.rand(6,6)\n",
        "kernel_mat = np.random.rand(2,2)\n",
        "output_mat = conv2d(input_mat, kernel_mat)\n",
        "print(output_mat)"
      ],
      "execution_count": 3,
      "outputs": [
        {
          "output_type": "stream",
          "text": [
            "[[1.17835953 1.17895431 1.30533105 1.41412894 0.94284965]\n",
            " [0.91070297 0.65803309 1.14959614 1.21412429 0.92147934]\n",
            " [1.44950205 0.79170354 0.70049079 1.1277036  0.97490727]\n",
            " [0.98334567 0.82327111 0.64914611 0.97365208 0.60497868]\n",
            " [0.92870454 0.72893095 0.98899669 0.91625609 0.76904112]]\n"
          ],
          "name": "stdout"
        }
      ]
    },
    {
      "cell_type": "markdown",
      "metadata": {
        "id": "9_tzSYEr_kN4",
        "colab_type": "text"
      },
      "source": [
        "# Problem 2\n",
        "\n",
        "Using only ```numpy```, implement the function ```maxpooling2d```. It takes as input ```input_mat``` and ```s``` and outputs ```output_mat```.\n",
        "The variables ```input_mat``` and ```output_mat``` are square matrices and ```s``` is an integer.  It should compute the maxpooling operation \n",
        "on ```input_mat``` using window of shape ```s``` times ```s```.\n",
        "\n"
      ]
    },
    {
      "cell_type": "markdown",
      "metadata": {
        "id": "oli7xgagI673",
        "colab_type": "text"
      },
      "source": [
        "# Max Pooling\n",
        "\n",
        "Max pooling is an operation in which an input matrix and a window size of $s$ by $s$ is specified. The windows iterates throught the input matrix and considers a non overlapping region of $s$ by $s$. The maximum value in that region becomes one of the values in the output matrix. Padding is permitted if the input matrix and window size do not match."
      ]
    },
    {
      "cell_type": "code",
      "metadata": {
        "id": "gojANPkWHBqa",
        "colab_type": "code",
        "colab": {}
      },
      "source": [
        "def maxpooling2d(input_mat, s):\n",
        "\n",
        "  if input_mat.shape[0] != input_mat.shape[1]:\n",
        "    print(\"Error: Input matrix is not square!\")\n",
        "    return\n",
        "\n",
        "  # pad if necessary\n",
        "  pad = input_mat.shape[0] % s\n",
        "  matrix = np.pad(input_mat, pad)\n",
        "  n = matrix.shape[0]\n",
        "  output_dim = (int(n/s), int(n/s))\n",
        "  output_mat = np.zeros(output_dim)\n",
        "\n",
        "  for i in range(0, n, s):\n",
        "    for k in range(0, n, s):\n",
        "      x = int(i/s)\n",
        "      y = int(k/s)\n",
        "      output_mat[x][y] = np.max(matrix[i:i+s, k:k+s])\n",
        "\n",
        "  return output_mat"
      ],
      "execution_count": 0,
      "outputs": []
    },
    {
      "cell_type": "code",
      "metadata": {
        "id": "wyIrYJ8eKKNs",
        "colab_type": "code",
        "outputId": "976b735e-0bba-4786-ebe5-aeac6310d83e",
        "colab": {
          "base_uri": "https://localhost:8080/",
          "height": 71
        }
      },
      "source": [
        "print(maxpooling2d(input_mat, 2))"
      ],
      "execution_count": 5,
      "outputs": [
        {
          "output_type": "stream",
          "text": [
            "[[0.74959697 0.65691343 0.72724362]\n",
            " [0.95025041 0.72335266 0.9670776 ]\n",
            " [0.92180234 0.57058251 0.60806948]]\n"
          ],
          "name": "stdout"
        }
      ]
    }
  ]
}