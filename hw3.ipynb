{
 "cells": [
  {
   "cell_type": "markdown",
   "metadata": {
    "colab_type": "text",
    "id": "view-in-github"
   },
   "source": [
    "<a href=\"https://colab.research.google.com/github/nspeer12/AI_CAP4630/blob/master/hw3.ipynb\" target=\"_parent\"><img src=\"https://colab.research.google.com/assets/colab-badge.svg\" alt=\"Open In Colab\"/></a>"
   ]
  },
  {
   "cell_type": "code",
   "execution_count": 6,
   "metadata": {
    "colab": {},
    "colab_type": "code",
    "id": "2Yd7IjbAu-_C"
   },
   "outputs": [],
   "source": [
    "import numpy as np\n",
    "import tensorflow as tf\n",
    "from tensorflow import keras\n",
    "from tensorflow.keras import layers\n",
    "#%tensorflow_version 2.x\n",
    "import matplotlib.pyplot as plt\n",
    "from sklearn.model_selection import train_test_split"
   ]
  },
  {
   "cell_type": "markdown",
   "metadata": {
    "colab_type": "text",
    "id": "q7AmdX8GvbAM"
   },
   "source": [
    "Implement the function get_random_data(w, b, mu, sigma, m) that generates random data for logisitic regression with two features features x_1 and x_2. This function should return the array data of shape (m, 2) and the array labels of shape (m, 1).\n",
    "\n",
    "The entries of the arrays should be generated as follows. For each row i in {0, 1, ..., m-1}:\n",
    "\n",
    "Choose class label c=0 with probability 1/2 and c=1 with probability 1/2.\n",
    "Choose the first feature x_1 uniformly at random in the interval [0, 1).\n",
    "Set the second feature x_2 to be x_2 = w * x_1 + b + (-1)^c * n, where the \"noise\" n is chosen according to the normal distribution with mean mu and standard deviation sigma.\n",
    "The ith row of the array data consists of the features x_1 and x_2.\n",
    "The ith entry of the vector labels is the class label c.\n",
    "Implement the function display_random_data that takes as input the above two arrays labels and data. It should create scatter plot of the 2D points stored in data. Use red dots to plot the points whose labels are 1 and blue dots to plot the points whose labels are 0.\n",
    "\n",
    "Hints: You should see that the 2D points (feature vectors) corresponding to different classes are approximately separated by the line y = w * x + b, where w and b are the parameters that you used to generate the data. Note that the smaller the parameter mu, the closer the points are to this line. Also, the larger the parameter sigma, the more points can be on the wrong side of this line.\n",
    "\n",
    "Experiment with different values of mu and sigma. Make sure that the parameter m is large enough so you have enough data points.\n",
    "\n",
    "Split the data/labels into a training set (80%) and a test set (20%).\n",
    "\n",
    "Links to the numpy documentation of the functions that can be used to draw samples according to the uniform and normal distributions:\n",
    "\n",
    "Normal distribution\n",
    "Uniform distribution\n",
    "You can learn more about the normal distribution on https://en.wikipedia.org/wiki/Normal_distribution. To gain some intuition, it would be helpful to plot the Gaussian function for different parameters mu and sigma in a seperate notebook (that you do not have to submit). Later in the semester, you will need to work with normal distribution to understand variational autoencoders.\n"
   ]
  },
  {
   "cell_type": "code",
   "execution_count": 7,
   "metadata": {
    "colab": {},
    "colab_type": "code",
    "id": "PxmywQ7WvRCC"
   },
   "outputs": [],
   "source": [
    "np.random.seed(999)\n",
    "\n",
    "def get_random_data(w, b, mu, sigma, m):\n",
    "  # labels 1 and 0 with probability of 1/2\n",
    "  c = [0 if np.random.rand(1) < .5 else 1 for x in range(m)]\n",
    "\n",
    "  # creating a new list for (-1)^c\n",
    "  alt_c = [(-1)**i for i in c]\n",
    "  noise = np.multiply(alt_c, np.random.normal(loc=mu, scale=sigma, size=m)) \n",
    "  \n",
    "  # uniform distribution [0, 1)\n",
    "  x_1 = np.random.uniform(low=0, high=1, size=m)\n",
    "\n",
    "  listy = np.multiply(w, x_1)\n",
    "  x_2 = np.add(listy, noise)\n",
    "  \n",
    "  # create an array for the colors for each class\n",
    "  \n",
    "  return x_1, x_2, c"
   ]
  },
  {
   "cell_type": "code",
   "execution_count": 8,
   "metadata": {
    "colab": {
     "base_uri": "https://localhost:8080/",
     "height": 355
    },
    "colab_type": "code",
    "id": "ajKZIqjLvsba",
    "outputId": "c74c5f36-3c9b-4ce6-e8ca-60692e4868d5"
   },
   "outputs": [
    {
     "data": {
      "image/png": "[encoded data removed]",
      "text/plain": [
       "<Figure size 360x360 with 1 Axes>"
      ]
     },
     "metadata": {
      "needs_background": "light"
     },
     "output_type": "display_data"
    },
    {
     "data": {
      "text/plain": [
       "(<Figure size 360x360 with 1 Axes>,\n",
       " <matplotlib.axes._subplots.AxesSubplot at 0x15bc9217448>)"
      ]
     },
     "execution_count": 8,
     "metadata": {},
     "output_type": "execute_result"
    }
   ],
   "source": [
    "def graph_random_data(w, b, mu, sigma, m):\n",
    "  x_1, x_2, c = get_random_data(w, b, mu, sigma, m)\n",
    "  fig, ax = plt.subplots(figsize=(5,5))\n",
    "\n",
    "  colors = ['blue' if c[x] == 1 else 'red' for x in range(m)]\n",
    "\n",
    "  ax.scatter(x_1, x_2, c=colors)\n",
    "  plt.show()\n",
    "  return fig, ax\n",
    "\n",
    "graph_random_data(100,10,15,5,100)"
   ]
  },
  {
   "cell_type": "markdown",
   "metadata": {
    "colab_type": "text",
    "id": "FcoboTTZCcb6"
   },
   "source": [
    "**Problem 2**\n",
    "\n",
    "Create a Keras to implement logistic regression with two features and train it with the data generated in Problem 1. The loss should be the binary cross entropy loss. \n",
    "\n",
    "How well does the trained model separate the red and blue dots?  You can obtain the separating line determined by the model by extracting the weights from the dense layer using the function ```get_weights```. See [https://keras.io/layers/about-keras-layers/](https://keras.io/layers/about-keras-layers/).  \n",
    "\n",
    "Create a plot showing the random data, the true line used to generate the data, and the separating line of the trained model. Make sure that you describe in detail in your notebook how you proceed to obtain the separating line.\n",
    "\n",
    "Note that you have to carry out some simple steps to obtain the separating line from the model weights (the two weights and the bias term of the dense layer).  This is not immediately obvious.  It maybe helpful to take a look at the heatmap below.\n",
    "\n",
    "The trained model realizes function ```f : R^2 -> R``` that takes two features as input and outputs a number in the interval ```[0, 1]```. Use a heatmap to visualize this function.  \n",
    "\n",
    "---"
   ]
  },
  {
   "cell_type": "code",
   "execution_count": 9,
   "metadata": {
    "colab": {},
    "colab_type": "code",
    "id": "RE9I4pX2R9OF"
   },
   "outputs": [],
   "source": [
    "# get data and test train split\n",
    "x_1, x_2, y = get_random_data(100,10,15,5,100)\n",
    "\n",
    "# X = (x1, x2 ... xn)T\n",
    "X = np.array([x_1, x_2]).T\n",
    "\n",
    "y = np.array(y)\n",
    "x_train, x_test, y_train, y_test = train_test_split(X, y)"
   ]
  },
  {
   "cell_type": "code",
   "execution_count": 10,
   "metadata": {
    "colab": {},
    "colab_type": "code",
    "id": "Kh-gUK6aN0y4"
   },
   "outputs": [],
   "source": [
    "def build_model(input_dim, output_dim):\n",
    "  model = keras.Sequential()\n",
    "  model.add(tf.keras.layers.Dense(output_dim, input_dim=input_dim, activation='sigmoid'))\n",
    "  optimizer = tf.keras.optimizers.Adam(learning_rate=0.1)\n",
    "  model.compile(loss=tf.keras.losses.BinaryCrossentropy(), optimizer=optimizer)\n",
    "\n",
    "  return model\n",
    "\n"
   ]
  },
  {
   "cell_type": "code",
   "execution_count": 11,
   "metadata": {
    "colab": {
     "base_uri": "https://localhost:8080/",
     "height": 1000
    },
    "colab_type": "code",
    "id": "0a7uegBsDIiM",
    "outputId": "189e5acb-3465-4129-d875-46b66a862f41"
   },
   "outputs": [
    {
     "name": "stdout",
     "output_type": "stream",
     "text": [
      "Train on 75 samples\n",
      "Epoch 1/300\n",
      "75/75 [==============================] - 0s 6ms/sample - loss: 1.3138\n",
      "Epoch 2/300\n",
      "75/75 [==============================] - 0s 80us/sample - loss: 1.4286\n",
      "Epoch 3/300\n",
      "75/75 [==============================] - 0s 93us/sample - loss: 1.2609\n",
      "Epoch 4/300\n",
      "75/75 [==============================] - 0s 80us/sample - loss: 0.8610\n",
      "Epoch 5/300\n",
      "75/75 [==============================] - 0s 93us/sample - loss: 0.6871\n",
      "Epoch 6/300\n",
      "75/75 [==============================] - 0s 93us/sample - loss: 0.6345\n",
      "Epoch 7/300\n",
      "75/75 [==============================] - 0s 93us/sample - loss: 0.6784\n",
      "Epoch 8/300\n",
      "75/75 [==============================] - 0s 93us/sample - loss: 0.5593\n",
      "Epoch 9/300\n",
      "75/75 [==============================] - 0s 93us/sample - loss: 0.5060\n",
      "Epoch 10/300\n",
      "75/75 [==============================] - 0s 93us/sample - loss: 0.6036\n",
      "Epoch 11/300\n",
      "75/75 [==============================] - 0s 80us/sample - loss: 0.6225\n",
      "Epoch 12/300\n",
      "75/75 [==============================] - 0s 107us/sample - loss: 0.5486\n",
      "Epoch 13/300\n",
      "75/75 [==============================] - 0s 107us/sample - loss: 0.5424\n",
      "Epoch 14/300\n",
      "75/75 [==============================] - 0s 93us/sample - loss: 0.4876\n",
      "Epoch 15/300\n",
      "75/75 [==============================] - 0s 80us/sample - loss: 0.4758\n",
      "Epoch 16/300\n",
      "75/75 [==============================] - 0s 107us/sample - loss: 0.4778\n",
      "Epoch 17/300\n",
      "75/75 [==============================] - 0s 93us/sample - loss: 0.4766\n",
      "Epoch 18/300\n",
      "75/75 [==============================] - 0s 93us/sample - loss: 0.4577\n",
      "Epoch 19/300\n",
      "75/75 [==============================] - 0s 93us/sample - loss: 0.4529\n",
      "Epoch 20/300\n",
      "75/75 [==============================] - 0s 93us/sample - loss: 0.4479\n",
      "Epoch 21/300\n",
      "75/75 [==============================] - 0s 93us/sample - loss: 0.4489\n",
      "Epoch 22/300\n",
      "75/75 [==============================] - 0s 93us/sample - loss: 0.4316\n",
      "Epoch 23/300\n",
      "75/75 [==============================] - 0s 93us/sample - loss: 0.4277\n",
      "Epoch 24/300\n",
      "75/75 [==============================] - 0s 93us/sample - loss: 0.4246\n",
      "Epoch 25/300\n",
      "75/75 [==============================] - 0s 93us/sample - loss: 0.4171\n",
      "Epoch 26/300\n",
      "75/75 [==============================] - 0s 93us/sample - loss: 0.4258\n",
      "Epoch 27/300\n",
      "75/75 [==============================] - 0s 80us/sample - loss: 0.4178\n",
      "Epoch 28/300\n",
      "75/75 [==============================] - 0s 107us/sample - loss: 0.4278\n",
      "Epoch 29/300\n",
      "75/75 [==============================] - 0s 93us/sample - loss: 0.4218\n",
      "Epoch 30/300\n",
      "75/75 [==============================] - 0s 93us/sample - loss: 0.4023\n",
      "Epoch 31/300\n",
      "75/75 [==============================] - 0s 80us/sample - loss: 0.4002\n",
      "Epoch 32/300\n",
      "75/75 [==============================] - 0s 80us/sample - loss: 0.3912\n",
      "Epoch 33/300\n",
      "75/75 [==============================] - 0s 93us/sample - loss: 0.3881\n",
      "Epoch 34/300\n",
      "75/75 [==============================] - 0s 93us/sample - loss: 0.3716\n",
      "Epoch 35/300\n",
      "75/75 [==============================] - 0s 93us/sample - loss: 0.3810\n",
      "Epoch 36/300\n",
      "75/75 [==============================] - 0s 93us/sample - loss: 0.3705\n",
      "Epoch 37/300\n",
      "75/75 [==============================] - 0s 93us/sample - loss: 0.3709\n",
      "Epoch 38/300\n",
      "75/75 [==============================] - 0s 93us/sample - loss: 0.3596\n",
      "Epoch 39/300\n",
      "75/75 [==============================] - 0s 107us/sample - loss: 0.4009\n",
      "Epoch 40/300\n",
      "75/75 [==============================] - 0s 93us/sample - loss: 0.3762\n",
      "Epoch 41/300\n",
      "75/75 [==============================] - 0s 93us/sample - loss: 0.4020\n",
      "Epoch 42/300\n",
      "75/75 [==============================] - 0s 80us/sample - loss: 0.4304\n",
      "Epoch 43/300\n",
      "75/75 [==============================] - 0s 93us/sample - loss: 0.3828\n",
      "Epoch 44/300\n",
      "75/75 [==============================] - 0s 93us/sample - loss: 0.3599\n",
      "Epoch 45/300\n",
      "75/75 [==============================] - 0s 107us/sample - loss: 0.3788\n",
      "Epoch 46/300\n",
      "75/75 [==============================] - 0s 80us/sample - loss: 0.3300\n",
      "Epoch 47/300\n",
      "75/75 [==============================] - 0s 107us/sample - loss: 0.3325\n",
      "Epoch 48/300\n",
      "75/75 [==============================] - 0s 93us/sample - loss: 0.3349\n",
      "Epoch 49/300\n",
      "75/75 [==============================] - 0s 93us/sample - loss: 0.3452\n",
      "Epoch 50/300\n",
      "75/75 [==============================] - 0s 80us/sample - loss: 0.3314\n",
      "Epoch 51/300\n",
      "75/75 [==============================] - 0s 93us/sample - loss: 0.3230\n",
      "Epoch 52/300\n",
      "75/75 [==============================] - 0s 107us/sample - loss: 0.3240\n",
      "Epoch 53/300\n",
      "75/75 [==============================] - 0s 93us/sample - loss: 0.3040\n",
      "Epoch 54/300\n",
      "75/75 [==============================] - 0s 93us/sample - loss: 0.3005\n",
      "Epoch 55/300\n",
      "75/75 [==============================] - 0s 107us/sample - loss: 0.3189\n",
      "Epoch 56/300\n",
      "75/75 [==============================] - 0s 93us/sample - loss: 0.2887\n",
      "Epoch 57/300\n",
      "75/75 [==============================] - 0s 80us/sample - loss: 0.2872\n",
      "Epoch 58/300\n",
      "75/75 [==============================] - 0s 107us/sample - loss: 0.3215\n",
      "Epoch 59/300\n",
      "75/75 [==============================] - 0s 93us/sample - loss: 0.3221\n",
      "Epoch 60/300\n",
      "75/75 [==============================] - 0s 107us/sample - loss: 0.3702\n",
      "Epoch 61/300\n",
      "75/75 [==============================] - 0s 80us/sample - loss: 0.3238\n",
      "Epoch 62/300\n",
      "75/75 [==============================] - 0s 93us/sample - loss: 0.3172\n",
      "Epoch 63/300\n",
      "75/75 [==============================] - 0s 93us/sample - loss: 0.2815\n",
      "Epoch 64/300\n",
      "75/75 [==============================] - 0s 93us/sample - loss: 0.3670\n",
      "Epoch 65/300\n",
      "75/75 [==============================] - 0s 80us/sample - loss: 0.2905\n",
      "Epoch 66/300\n",
      "75/75 [==============================] - 0s 93us/sample - loss: 0.2611\n",
      "Epoch 67/300\n",
      "75/75 [==============================] - 0s 93us/sample - loss: 0.2966\n",
      "Epoch 68/300\n",
      "75/75 [==============================] - 0s 80us/sample - loss: 0.2644\n",
      "Epoch 69/300\n",
      "75/75 [==============================] - 0s 80us/sample - loss: 0.2574\n",
      "Epoch 70/300\n",
      "75/75 [==============================] - 0s 93us/sample - loss: 0.2682\n",
      "Epoch 71/300\n",
      "75/75 [==============================] - 0s 80us/sample - loss: 0.2500\n",
      "Epoch 72/300\n",
      "75/75 [==============================] - 0s 107us/sample - loss: 0.2523\n",
      "Epoch 73/300\n",
      "75/75 [==============================] - 0s 93us/sample - loss: 0.2506\n",
      "Epoch 74/300\n",
      "75/75 [==============================] - 0s 107us/sample - loss: 0.2521\n",
      "Epoch 75/300\n",
      "75/75 [==============================] - 0s 93us/sample - loss: 0.2424\n",
      "Epoch 76/300\n",
      "75/75 [==============================] - 0s 93us/sample - loss: 0.2420\n",
      "Epoch 77/300\n",
      "75/75 [==============================] - 0s 80us/sample - loss: 0.2466\n",
      "Epoch 78/300\n",
      "75/75 [==============================] - 0s 93us/sample - loss: 0.2464\n",
      "Epoch 79/300\n",
      "75/75 [==============================] - 0s 93us/sample - loss: 0.2337\n",
      "Epoch 80/300\n",
      "75/75 [==============================] - 0s 80us/sample - loss: 0.2349\n",
      "Epoch 81/300\n",
      "75/75 [==============================] - 0s 107us/sample - loss: 0.2261\n",
      "Epoch 82/300\n",
      "75/75 [==============================] - 0s 93us/sample - loss: 0.2464\n",
      "Epoch 83/300\n",
      "75/75 [==============================] - 0s 93us/sample - loss: 0.2389\n",
      "Epoch 84/300\n",
      "75/75 [==============================] - 0s 80us/sample - loss: 0.2257\n",
      "Epoch 85/300\n",
      "75/75 [==============================] - 0s 93us/sample - loss: 0.2235\n",
      "Epoch 86/300\n",
      "75/75 [==============================] - 0s 93us/sample - loss: 0.2376\n",
      "Epoch 87/300\n",
      "75/75 [==============================] - 0s 80us/sample - loss: 0.2278\n",
      "Epoch 88/300\n",
      "75/75 [==============================] - 0s 107us/sample - loss: 0.2168\n",
      "Epoch 89/300\n",
      "75/75 [==============================] - 0s 80us/sample - loss: 0.2213\n",
      "Epoch 90/300\n",
      "75/75 [==============================] - 0s 93us/sample - loss: 0.2175\n",
      "Epoch 91/300\n",
      "75/75 [==============================] - 0s 93us/sample - loss: 0.2239\n",
      "Epoch 92/300\n",
      "75/75 [==============================] - 0s 93us/sample - loss: 0.2378\n",
      "Epoch 93/300\n",
      "75/75 [==============================] - 0s 80us/sample - loss: 0.1991\n",
      "Epoch 94/300\n",
      "75/75 [==============================] - 0s 93us/sample - loss: 0.2788\n",
      "Epoch 95/300\n",
      "75/75 [==============================] - 0s 93us/sample - loss: 0.2041\n",
      "Epoch 96/300\n",
      "75/75 [==============================] - 0s 80us/sample - loss: 0.2220\n",
      "Epoch 97/300\n",
      "75/75 [==============================] - 0s 80us/sample - loss: 0.2001\n",
      "Epoch 98/300\n"
     ]
    },
    {
     "name": "stdout",
     "output_type": "stream",
     "text": [
      "75/75 [==============================] - 0s 107us/sample - loss: 0.2756\n",
      "Epoch 99/300\n",
      "75/75 [==============================] - 0s 93us/sample - loss: 0.2618\n",
      "Epoch 100/300\n",
      "75/75 [==============================] - 0s 93us/sample - loss: 0.2385\n",
      "Epoch 101/300\n",
      "75/75 [==============================] - 0s 80us/sample - loss: 0.2123\n",
      "Epoch 102/300\n",
      "75/75 [==============================] - 0s 93us/sample - loss: 0.2418\n",
      "Epoch 103/300\n",
      "75/75 [==============================] - 0s 93us/sample - loss: 0.2778\n",
      "Epoch 104/300\n",
      "75/75 [==============================] - 0s 80us/sample - loss: 0.2464\n",
      "Epoch 105/300\n",
      "75/75 [==============================] - 0s 93us/sample - loss: 0.2376\n",
      "Epoch 106/300\n",
      "75/75 [==============================] - 0s 93us/sample - loss: 0.2100\n",
      "Epoch 107/300\n",
      "75/75 [==============================] - 0s 93us/sample - loss: 0.2148\n",
      "Epoch 108/300\n",
      "75/75 [==============================] - 0s 93us/sample - loss: 0.1851\n",
      "Epoch 109/300\n",
      "75/75 [==============================] - 0s 107us/sample - loss: 0.1928\n",
      "Epoch 110/300\n",
      "75/75 [==============================] - 0s 80us/sample - loss: 0.2017\n",
      "Epoch 111/300\n",
      "75/75 [==============================] - 0s 107us/sample - loss: 0.1835\n",
      "Epoch 112/300\n",
      "75/75 [==============================] - 0s 80us/sample - loss: 0.1978\n",
      "Epoch 113/300\n",
      "75/75 [==============================] - 0s 107us/sample - loss: 0.1829\n",
      "Epoch 114/300\n",
      "75/75 [==============================] - 0s 80us/sample - loss: 0.1787\n",
      "Epoch 115/300\n",
      "75/75 [==============================] - 0s 107us/sample - loss: 0.1882\n",
      "Epoch 116/300\n",
      "75/75 [==============================] - 0s 80us/sample - loss: 0.2339\n",
      "Epoch 117/300\n",
      "75/75 [==============================] - 0s 107us/sample - loss: 0.2146\n",
      "Epoch 118/300\n",
      "75/75 [==============================] - 0s 80us/sample - loss: 0.2166\n",
      "Epoch 119/300\n",
      "75/75 [==============================] - 0s 107us/sample - loss: 0.1739\n",
      "Epoch 120/300\n",
      "75/75 [==============================] - 0s 93us/sample - loss: 0.2238\n",
      "Epoch 121/300\n",
      "75/75 [==============================] - 0s 93us/sample - loss: 0.2753\n",
      "Epoch 122/300\n",
      "75/75 [==============================] - 0s 80us/sample - loss: 0.2506\n",
      "Epoch 123/300\n",
      "75/75 [==============================] - 0s 93us/sample - loss: 0.2043\n",
      "Epoch 124/300\n",
      "75/75 [==============================] - 0s 93us/sample - loss: 0.3736\n",
      "Epoch 125/300\n",
      "75/75 [==============================] - 0s 80us/sample - loss: 0.3214\n",
      "Epoch 126/300\n",
      "75/75 [==============================] - 0s 93us/sample - loss: 0.2987\n",
      "Epoch 127/300\n",
      "75/75 [==============================] - 0s 80us/sample - loss: 0.2316\n",
      "Epoch 128/300\n",
      "75/75 [==============================] - 0s 93us/sample - loss: 0.2763\n",
      "Epoch 129/300\n",
      "75/75 [==============================] - 0s 80us/sample - loss: 0.2270\n",
      "Epoch 130/300\n",
      "75/75 [==============================] - 0s 93us/sample - loss: 0.2050\n",
      "Epoch 131/300\n",
      "75/75 [==============================] - 0s 93us/sample - loss: 0.1944\n",
      "Epoch 132/300\n",
      "75/75 [==============================] - 0s 93us/sample - loss: 0.1979\n",
      "Epoch 133/300\n",
      "75/75 [==============================] - 0s 93us/sample - loss: 0.1914\n",
      "Epoch 134/300\n",
      "75/75 [==============================] - 0s 80us/sample - loss: 0.1651\n",
      "Epoch 135/300\n",
      "75/75 [==============================] - 0s 107us/sample - loss: 0.1792\n",
      "Epoch 136/300\n",
      "75/75 [==============================] - 0s 93us/sample - loss: 0.1739\n",
      "Epoch 137/300\n",
      "75/75 [==============================] - 0s 93us/sample - loss: 0.1567\n",
      "Epoch 138/300\n",
      "75/75 [==============================] - 0s 93us/sample - loss: 0.1575\n",
      "Epoch 139/300\n",
      "75/75 [==============================] - 0s 107us/sample - loss: 0.1548\n",
      "Epoch 140/300\n",
      "75/75 [==============================] - 0s 93us/sample - loss: 0.1499\n",
      "Epoch 141/300\n",
      "75/75 [==============================] - 0s 93us/sample - loss: 0.1758\n",
      "Epoch 142/300\n",
      "75/75 [==============================] - 0s 93us/sample - loss: 0.1930\n",
      "Epoch 143/300\n",
      "75/75 [==============================] - 0s 107us/sample - loss: 0.1503\n",
      "Epoch 144/300\n",
      "75/75 [==============================] - 0s 80us/sample - loss: 0.1963\n",
      "Epoch 145/300\n",
      "75/75 [==============================] - 0s 107us/sample - loss: 0.1610\n",
      "Epoch 146/300\n",
      "75/75 [==============================] - 0s 93us/sample - loss: 0.1465\n",
      "Epoch 147/300\n",
      "75/75 [==============================] - 0s 80us/sample - loss: 0.1721\n",
      "Epoch 148/300\n",
      "75/75 [==============================] - 0s 80us/sample - loss: 0.1482\n",
      "Epoch 149/300\n",
      "75/75 [==============================] - 0s 93us/sample - loss: 0.1736\n",
      "Epoch 150/300\n",
      "75/75 [==============================] - 0s 93us/sample - loss: 0.1616\n",
      "Epoch 151/300\n",
      "75/75 [==============================] - 0s 80us/sample - loss: 0.1664\n",
      "Epoch 152/300\n",
      "75/75 [==============================] - 0s 93us/sample - loss: 0.1747\n",
      "Epoch 153/300\n",
      "75/75 [==============================] - 0s 93us/sample - loss: 0.1403\n",
      "Epoch 154/300\n",
      "75/75 [==============================] - 0s 93us/sample - loss: 0.1480\n",
      "Epoch 155/300\n",
      "75/75 [==============================] - 0s 93us/sample - loss: 0.1572\n",
      "Epoch 156/300\n",
      "75/75 [==============================] - 0s 93us/sample - loss: 0.1446\n",
      "Epoch 157/300\n",
      "75/75 [==============================] - 0s 80us/sample - loss: 0.1498\n",
      "Epoch 158/300\n",
      "75/75 [==============================] - 0s 80us/sample - loss: 0.1576\n",
      "Epoch 159/300\n",
      "75/75 [==============================] - 0s 80us/sample - loss: 0.1346\n",
      "Epoch 160/300\n",
      "75/75 [==============================] - 0s 93us/sample - loss: 0.1646\n",
      "Epoch 161/300\n",
      "75/75 [==============================] - 0s 93us/sample - loss: 0.1491\n",
      "Epoch 162/300\n",
      "75/75 [==============================] - 0s 107us/sample - loss: 0.1401\n",
      "Epoch 163/300\n",
      "75/75 [==============================] - 0s 93us/sample - loss: 0.1569\n",
      "Epoch 164/300\n",
      "75/75 [==============================] - 0s 93us/sample - loss: 0.1559\n",
      "Epoch 165/300\n",
      "75/75 [==============================] - 0s 93us/sample - loss: 0.1474\n",
      "Epoch 166/300\n",
      "75/75 [==============================] - 0s 80us/sample - loss: 0.1558\n",
      "Epoch 167/300\n",
      "75/75 [==============================] - 0s 93us/sample - loss: 0.1457\n",
      "Epoch 168/300\n",
      "75/75 [==============================] - 0s 93us/sample - loss: 0.1372\n",
      "Epoch 169/300\n",
      "75/75 [==============================] - 0s 107us/sample - loss: 0.1395\n",
      "Epoch 170/300\n",
      "75/75 [==============================] - 0s 93us/sample - loss: 0.1469\n",
      "Epoch 171/300\n",
      "75/75 [==============================] - 0s 93us/sample - loss: 0.1332\n",
      "Epoch 172/300\n",
      "75/75 [==============================] - 0s 93us/sample - loss: 0.1553\n",
      "Epoch 173/300\n",
      "75/75 [==============================] - 0s 80us/sample - loss: 0.1339\n",
      "Epoch 174/300\n",
      "75/75 [==============================] - 0s 93us/sample - loss: 0.1287\n",
      "Epoch 175/300\n",
      "75/75 [==============================] - 0s 93us/sample - loss: 0.1391\n",
      "Epoch 176/300\n",
      "75/75 [==============================] - 0s 80us/sample - loss: 0.1311\n",
      "Epoch 177/300\n",
      "75/75 [==============================] - 0s 93us/sample - loss: 0.1387\n",
      "Epoch 178/300\n",
      "75/75 [==============================] - 0s 93us/sample - loss: 0.1376\n",
      "Epoch 179/300\n",
      "75/75 [==============================] - 0s 93us/sample - loss: 0.1275\n",
      "Epoch 180/300\n",
      "75/75 [==============================] - 0s 93us/sample - loss: 0.1438\n",
      "Epoch 181/300\n",
      "75/75 [==============================] - 0s 93us/sample - loss: 0.1430\n",
      "Epoch 182/300\n",
      "75/75 [==============================] - 0s 93us/sample - loss: 0.1227\n",
      "Epoch 183/300\n",
      "75/75 [==============================] - 0s 80us/sample - loss: 0.1410\n",
      "Epoch 184/300\n",
      "75/75 [==============================] - 0s 107us/sample - loss: 0.1341\n",
      "Epoch 185/300\n",
      "75/75 [==============================] - 0s 80us/sample - loss: 0.1221\n",
      "Epoch 186/300\n",
      "75/75 [==============================] - 0s 107us/sample - loss: 0.1420\n",
      "Epoch 187/300\n",
      "75/75 [==============================] - 0s 93us/sample - loss: 0.1232\n",
      "Epoch 188/300\n",
      "75/75 [==============================] - 0s 93us/sample - loss: 0.1338\n",
      "Epoch 189/300\n",
      "75/75 [==============================] - 0s 93us/sample - loss: 0.1247\n",
      "Epoch 190/300\n",
      "75/75 [==============================] - 0s 93us/sample - loss: 0.1247\n",
      "Epoch 191/300\n",
      "75/75 [==============================] - 0s 93us/sample - loss: 0.1270\n",
      "Epoch 192/300\n",
      "75/75 [==============================] - 0s 93us/sample - loss: 0.1306\n",
      "Epoch 193/300\n",
      "75/75 [==============================] - 0s 80us/sample - loss: 0.1218\n",
      "Epoch 194/300\n"
     ]
    },
    {
     "name": "stdout",
     "output_type": "stream",
     "text": [
      "75/75 [==============================] - 0s 93us/sample - loss: 0.1259\n",
      "Epoch 195/300\n",
      "75/75 [==============================] - 0s 80us/sample - loss: 0.1205\n",
      "Epoch 196/300\n",
      "75/75 [==============================] - 0s 80us/sample - loss: 0.1205\n",
      "Epoch 197/300\n",
      "75/75 [==============================] - 0s 93us/sample - loss: 0.1280\n",
      "Epoch 198/300\n",
      "75/75 [==============================] - 0s 93us/sample - loss: 0.1567\n",
      "Epoch 199/300\n",
      "75/75 [==============================] - 0s 80us/sample - loss: 0.1193\n",
      "Epoch 200/300\n",
      "75/75 [==============================] - 0s 107us/sample - loss: 0.1410\n",
      "Epoch 201/300\n",
      "75/75 [==============================] - 0s 107us/sample - loss: 0.1189\n",
      "Epoch 202/300\n",
      "75/75 [==============================] - 0s 93us/sample - loss: 0.1201\n",
      "Epoch 203/300\n",
      "75/75 [==============================] - 0s 93us/sample - loss: 0.1277\n",
      "Epoch 204/300\n",
      "75/75 [==============================] - 0s 93us/sample - loss: 0.1363\n",
      "Epoch 205/300\n",
      "75/75 [==============================] - 0s 93us/sample - loss: 0.1644\n",
      "Epoch 206/300\n",
      "75/75 [==============================] - 0s 80us/sample - loss: 0.1171\n",
      "Epoch 207/300\n",
      "75/75 [==============================] - 0s 93us/sample - loss: 0.1434\n",
      "Epoch 208/300\n",
      "75/75 [==============================] - 0s 80us/sample - loss: 0.1871\n",
      "Epoch 209/300\n",
      "75/75 [==============================] - 0s 93us/sample - loss: 0.1132\n",
      "Epoch 210/300\n",
      "75/75 [==============================] - 0s 93us/sample - loss: 0.1416\n",
      "Epoch 211/300\n",
      "75/75 [==============================] - 0s 80us/sample - loss: 0.1186\n",
      "Epoch 212/300\n",
      "75/75 [==============================] - 0s 93us/sample - loss: 0.1125\n",
      "Epoch 213/300\n",
      "75/75 [==============================] - 0s 93us/sample - loss: 0.1137\n",
      "Epoch 214/300\n",
      "75/75 [==============================] - 0s 80us/sample - loss: 0.1111\n",
      "Epoch 215/300\n",
      "75/75 [==============================] - 0s 93us/sample - loss: 0.1125\n",
      "Epoch 216/300\n",
      "75/75 [==============================] - 0s 80us/sample - loss: 0.1176\n",
      "Epoch 217/300\n",
      "75/75 [==============================] - 0s 93us/sample - loss: 0.1179\n",
      "Epoch 218/300\n",
      "75/75 [==============================] - 0s 80us/sample - loss: 0.1093\n",
      "Epoch 219/300\n",
      "75/75 [==============================] - 0s 93us/sample - loss: 0.1284\n",
      "Epoch 220/300\n",
      "75/75 [==============================] - 0s 93us/sample - loss: 0.1542\n",
      "Epoch 221/300\n",
      "75/75 [==============================] - 0s 80us/sample - loss: 0.1269\n",
      "Epoch 222/300\n",
      "75/75 [==============================] - 0s 80us/sample - loss: 0.1204\n",
      "Epoch 223/300\n",
      "75/75 [==============================] - 0s 107us/sample - loss: 0.2369\n",
      "Epoch 224/300\n",
      "75/75 [==============================] - 0s 93us/sample - loss: 0.1796\n",
      "Epoch 225/300\n",
      "75/75 [==============================] - 0s 80us/sample - loss: 0.1430\n",
      "Epoch 226/300\n",
      "75/75 [==============================] - 0s 93us/sample - loss: 0.1484\n",
      "Epoch 227/300\n",
      "75/75 [==============================] - 0s 93us/sample - loss: 0.1593\n",
      "Epoch 228/300\n",
      "75/75 [==============================] - 0s 93us/sample - loss: 0.1243\n",
      "Epoch 229/300\n",
      "75/75 [==============================] - 0s 93us/sample - loss: 0.1131\n",
      "Epoch 230/300\n",
      "75/75 [==============================] - 0s 93us/sample - loss: 0.1310\n",
      "Epoch 231/300\n",
      "75/75 [==============================] - 0s 93us/sample - loss: 0.1025\n",
      "Epoch 232/300\n",
      "75/75 [==============================] - 0s 80us/sample - loss: 0.1113\n",
      "Epoch 233/300\n",
      "75/75 [==============================] - 0s 93us/sample - loss: 0.1042\n",
      "Epoch 234/300\n",
      "75/75 [==============================] - 0s 93us/sample - loss: 0.1052\n",
      "Epoch 235/300\n",
      "75/75 [==============================] - 0s 107us/sample - loss: 0.1108\n",
      "Epoch 236/300\n",
      "75/75 [==============================] - 0s 93us/sample - loss: 0.1037\n",
      "Epoch 237/300\n",
      "75/75 [==============================] - 0s 93us/sample - loss: 0.1078\n",
      "Epoch 238/300\n",
      "75/75 [==============================] - 0s 93us/sample - loss: 0.1041\n",
      "Epoch 239/300\n",
      "75/75 [==============================] - 0s 93us/sample - loss: 0.1034\n",
      "Epoch 240/300\n",
      "75/75 [==============================] - 0s 93us/sample - loss: 0.1029\n",
      "Epoch 241/300\n",
      "75/75 [==============================] - 0s 80us/sample - loss: 0.1034\n",
      "Epoch 242/300\n",
      "75/75 [==============================] - 0s 107us/sample - loss: 0.1001\n",
      "Epoch 243/300\n",
      "75/75 [==============================] - 0s 93us/sample - loss: 0.1065\n",
      "Epoch 244/300\n",
      "75/75 [==============================] - 0s 93us/sample - loss: 0.1012\n",
      "Epoch 245/300\n",
      "75/75 [==============================] - 0s 80us/sample - loss: 0.1077\n",
      "Epoch 246/300\n",
      "75/75 [==============================] - 0s 93us/sample - loss: 0.0996\n",
      "Epoch 247/300\n",
      "75/75 [==============================] - 0s 93us/sample - loss: 0.1144\n",
      "Epoch 248/300\n",
      "75/75 [==============================] - 0s 107us/sample - loss: 0.1009\n",
      "Epoch 249/300\n",
      "75/75 [==============================] - 0s 80us/sample - loss: 0.1087\n",
      "Epoch 250/300\n",
      "75/75 [==============================] - 0s 93us/sample - loss: 0.1073\n",
      "Epoch 251/300\n",
      "75/75 [==============================] - 0s 93us/sample - loss: 0.0932\n",
      "Epoch 252/300\n",
      "75/75 [==============================] - 0s 80us/sample - loss: 0.1282\n",
      "Epoch 253/300\n",
      "75/75 [==============================] - 0s 93us/sample - loss: 0.1025\n",
      "Epoch 254/300\n",
      "75/75 [==============================] - 0s 93us/sample - loss: 0.1132\n",
      "Epoch 255/300\n",
      "75/75 [==============================] - 0s 107us/sample - loss: 0.1029\n",
      "Epoch 256/300\n",
      "75/75 [==============================] - 0s 93us/sample - loss: 0.1047\n",
      "Epoch 257/300\n",
      "75/75 [==============================] - 0s 93us/sample - loss: 0.1088\n",
      "Epoch 258/300\n",
      "75/75 [==============================] - 0s 93us/sample - loss: 0.0949\n",
      "Epoch 259/300\n",
      "75/75 [==============================] - 0s 107us/sample - loss: 0.1071\n",
      "Epoch 260/300\n",
      "75/75 [==============================] - 0s 80us/sample - loss: 0.1086\n",
      "Epoch 261/300\n",
      "75/75 [==============================] - 0s 93us/sample - loss: 0.1017\n",
      "Epoch 262/300\n",
      "75/75 [==============================] - 0s 93us/sample - loss: 0.1048\n",
      "Epoch 263/300\n",
      "75/75 [==============================] - 0s 93us/sample - loss: 0.0963\n",
      "Epoch 264/300\n",
      "75/75 [==============================] - 0s 93us/sample - loss: 0.1142\n",
      "Epoch 265/300\n",
      "75/75 [==============================] - 0s 93us/sample - loss: 0.1205\n",
      "Epoch 266/300\n",
      "75/75 [==============================] - 0s 93us/sample - loss: 0.0908\n",
      "Epoch 267/300\n",
      "75/75 [==============================] - 0s 93us/sample - loss: 0.1226\n",
      "Epoch 268/300\n",
      "75/75 [==============================] - 0s 107us/sample - loss: 0.1209\n",
      "Epoch 269/300\n",
      "75/75 [==============================] - 0s 93us/sample - loss: 0.1319\n",
      "Epoch 270/300\n",
      "75/75 [==============================] - 0s 93us/sample - loss: 0.1099\n",
      "Epoch 271/300\n",
      "75/75 [==============================] - 0s 80us/sample - loss: 0.0945\n",
      "Epoch 272/300\n",
      "75/75 [==============================] - 0s 93us/sample - loss: 0.1059\n",
      "Epoch 273/300\n",
      "75/75 [==============================] - 0s 93us/sample - loss: 0.0924\n",
      "Epoch 274/300\n",
      "75/75 [==============================] - 0s 93us/sample - loss: 0.0987\n",
      "Epoch 275/300\n",
      "75/75 [==============================] - 0s 93us/sample - loss: 0.0894\n",
      "Epoch 276/300\n",
      "75/75 [==============================] - 0s 93us/sample - loss: 0.1110\n",
      "Epoch 277/300\n",
      "75/75 [==============================] - 0s 67us/sample - loss: 0.0953\n",
      "Epoch 278/300\n",
      "75/75 [==============================] - 0s 93us/sample - loss: 0.0939\n",
      "Epoch 279/300\n",
      "75/75 [==============================] - 0s 93us/sample - loss: 0.0928\n",
      "Epoch 280/300\n",
      "75/75 [==============================] - 0s 80us/sample - loss: 0.0951\n",
      "Epoch 281/300\n",
      "75/75 [==============================] - 0s 93us/sample - loss: 0.0891\n",
      "Epoch 282/300\n",
      "75/75 [==============================] - 0s 93us/sample - loss: 0.1023\n",
      "Epoch 283/300\n",
      "75/75 [==============================] - 0s 107us/sample - loss: 0.0964\n",
      "Epoch 284/300\n",
      "75/75 [==============================] - 0s 80us/sample - loss: 0.0954\n",
      "Epoch 285/300\n",
      "75/75 [==============================] - 0s 93us/sample - loss: 0.0953\n",
      "Epoch 286/300\n",
      "75/75 [==============================] - 0s 93us/sample - loss: 0.1098\n",
      "Epoch 287/300\n",
      "75/75 [==============================] - 0s 93us/sample - loss: 0.0979\n",
      "Epoch 288/300\n",
      "75/75 [==============================] - 0s 93us/sample - loss: 0.1160\n",
      "Epoch 289/300\n",
      "75/75 [==============================] - 0s 93us/sample - loss: 0.1099\n",
      "Epoch 290/300\n"
     ]
    },
    {
     "name": "stdout",
     "output_type": "stream",
     "text": [
      "75/75 [==============================] - 0s 107us/sample - loss: 0.0921\n",
      "Epoch 291/300\n",
      "75/75 [==============================] - 0s 93us/sample - loss: 0.1049\n",
      "Epoch 292/300\n",
      "75/75 [==============================] - 0s 80us/sample - loss: 0.1190\n",
      "Epoch 293/300\n",
      "75/75 [==============================] - 0s 80us/sample - loss: 0.1422\n",
      "Epoch 294/300\n",
      "75/75 [==============================] - 0s 93us/sample - loss: 0.0952\n",
      "Epoch 295/300\n",
      "75/75 [==============================] - 0s 93us/sample - loss: 0.1113\n",
      "Epoch 296/300\n",
      "75/75 [==============================] - 0s 93us/sample - loss: 0.0878\n",
      "Epoch 297/300\n",
      "75/75 [==============================] - 0s 93us/sample - loss: 0.1085\n",
      "Epoch 298/300\n",
      "75/75 [==============================] - 0s 93us/sample - loss: 0.0911\n",
      "Epoch 299/300\n",
      "75/75 [==============================] - 0s 93us/sample - loss: 0.1262\n",
      "Epoch 300/300\n",
      "75/75 [==============================] - 0s 93us/sample - loss: 0.1235\n"
     ]
    }
   ],
   "source": [
    "# number of inputs\n",
    "input_dim = 2\n",
    "# output dimensions (classes)\n",
    "output_dim = 1\n",
    "model = build_model(input_dim, output_dim)\n",
    "\n",
    "EPOCHS = 300\n",
    "\n",
    "history = model.fit(x_train, y_train, epochs=EPOCHS)"
   ]
  },
  {
   "cell_type": "code",
   "execution_count": 12,
   "metadata": {
    "colab": {
     "base_uri": "https://localhost:8080/",
     "height": 321
    },
    "colab_type": "code",
    "id": "JGVaBZ_VSOT6",
    "outputId": "3a1ef363-10fe-4e75-a7b3-95b07930ed0c"
   },
   "outputs": [
    {
     "data": {
      "image/png": "[encoded data removed]",
      "text/plain": [
       "<Figure size 720x360 with 2 Axes>"
      ]
     },
     "metadata": {
      "needs_background": "light"
     },
     "output_type": "display_data"
    }
   ],
   "source": [
    "# make predictions\n",
    "preds = model.predict(x_test)\n",
    "\n",
    "fig, ax = plt.subplots(2, figsize=(10,5))\n",
    "\n",
    "for i in range(len(x_test)):\n",
    "  # plot real value\n",
    "  ax[0].scatter(x_test[i][0], x_test[i][1], c='blue' if y_test[i] == 1 else 'red', label='Real')\n",
    "  # plot predictions\n",
    "  ax[1].scatter(x_test[i][0], x_test[i][1], c='blue' if preds[i] >= .5 else 'red', label='Predictions')\n",
    "  "
   ]
  },
  {
   "cell_type": "code",
   "execution_count": 13,
   "metadata": {
    "colab": {
     "base_uri": "https://localhost:8080/",
     "height": 52
    },
    "colab_type": "code",
    "id": "VA27hRL5TWx1",
    "outputId": "05097b6c-550d-4788-c035-c7b549733363"
   },
   "outputs": [
    {
     "name": "stdout",
     "output_type": "stream",
     "text": [
      "(2, 1)\n",
      "(1,)\n"
     ]
    }
   ],
   "source": [
    "# draw line by obtaining weights\n",
    "\n",
    "# get weights from model\n",
    "weights = model.get_weights()\n",
    "\n",
    "# has input shape of 2, which represent our weight vector\n",
    "print(weights[0].shape)\n",
    "\n",
    "# has output shape of 1, which will represent our b\n",
    "print(weights[1].shape)"
   ]
  },
  {
   "cell_type": "code",
   "execution_count": 14,
   "metadata": {
    "colab": {
     "base_uri": "https://localhost:8080/",
     "height": 70
    },
    "colab_type": "code",
    "id": "IY_3CQ0-N9gb",
    "outputId": "dcbb1a49-85c7-49bb-be60-fe846230e80c"
   },
   "outputs": [
    {
     "name": "stdout",
     "output_type": "stream",
     "text": [
      "[[21.456509  ]\n",
      " [-0.20866756]]\n",
      "[0.9350813]\n"
     ]
    }
   ],
   "source": [
    "# these will be the weights we use to plot our graph\n",
    "# weight vector\n",
    "print(weights[0])\n",
    "\n",
    "# bias\n",
    "print(weights[1])"
   ]
  },
  {
   "cell_type": "markdown",
   "metadata": {
    "colab_type": "text",
    "id": "YtY9WmL12kH2"
   },
   "source": [
    "$x_2 = (w_1 x_1 + b) / w_2 $"
   ]
  },
  {
   "cell_type": "code",
   "execution_count": 15,
   "metadata": {
    "colab": {},
    "colab_type": "code",
    "id": "_SoR-Wsogiez"
   },
   "outputs": [],
   "source": [
    "# create an array to represent the space of our data\n",
    "d = np.linspace(0, 1)\n",
    "\n",
    "pred_line = -((weights[0][0] * d) + weights[1]) / weights[0][1]"
   ]
  },
  {
   "cell_type": "code",
   "execution_count": 16,
   "metadata": {
    "colab": {
     "base_uri": "https://localhost:8080/",
     "height": 592
    },
    "colab_type": "code",
    "id": "XAplbQLJimw9",
    "outputId": "453212f4-da52-4291-c2e5-4cbcd2248511"
   },
   "outputs": [
    {
     "data": {
      "image/png": "[encoded data removed]",
      "text/plain": [
       "<Figure size 720x720 with 1 Axes>"
      ]
     },
     "metadata": {
      "needs_background": "light"
     },
     "output_type": "display_data"
    }
   ],
   "source": [
    "# plot line\n",
    "fig, ax = plt.subplots(figsize=(10,10))\n",
    "ax.plot(d, pred_line)\n",
    "\n",
    "\n",
    "for i in range(len(x_1)):\n",
    "  # plot real value\n",
    "  ax.scatter(x_1[i], x_2[i], c='blue' if y[i] == 1 else 'red', label='Real')\n",
    "\n",
    "plt.show()"
   ]
  },
  {
   "cell_type": "markdown",
   "metadata": {
    "colab_type": "text",
    "id": "Aq70vulmbJEL"
   },
   "source": [
    "Problem 3\n",
    "\n",
    "Use numpy to implement a logistic regression model from scratch and train it with the data generated as in Problem 1.\n",
    "\n",
    "Hints: Look at the notes on logistic regression to figure out what the gradient is of the binary cross entropy loss with respect to w and b. Note that you only have to implement stochastic gradient, that is, you do not have to write vectorized code for mini-batch gradient descent.\n",
    "\n",
    "Create a plot showing the random data, the true line used to generate the data, and the separating line of the trained model.\n",
    "\n",
    "Use a heatmap to visualize the function defined by your trained model.\n",
    "\n",
    "You also have to compute the binary cross entropy loss and accuracy on the test set.\n",
    "\n",
    "https://towardsdatascience.com/logistic-regression-from-scratch-with-numpy-da4cc3121ece?gi=5969b4744006\n",
    "\n",
    "https://www.kaggle.com/emilyhorsman/basic-logistic-regression-with-numpy\n",
    "\n",
    "https://github.com/schneider128k/machine_learning_course/blob/master/slides/logistic_regression.pdf\n",
    "\n",
    "https://towardsdatascience.com/building-a-logistic-regression-in-python-301d27367c24"
   ]
  },
  {
   "cell_type": "markdown",
   "metadata": {
    "colab_type": "text",
    "id": "FWMAmBbCDL6t"
   },
   "source": [
    "# Logistic Regression Numpy Implementation\n",
    "\n",
    "$ \\hat y = \\sigma ( \\Sigma_{j=1}^{n} w_j x_j + b ) = \\sigma( \\vec w^T \\vec x + b) $"
   ]
  },
  {
   "cell_type": "code",
   "execution_count": 17,
   "metadata": {},
   "outputs": [],
   "source": [
    "# sigmoid function\n",
    "def sigmoid(z):\n",
    "    return 1 / (1 + np.exp(-z))\n",
    "\n",
    "class cantMultiply(Exception):\n",
    "  def __init__(self, matrix1, matrix2):\n",
    "    print('Cannot multiply ', matrix1, ' and ', matrix2)\n",
    "    \n",
    "# compute yhat\n",
    "def make_prediction(w, b, x):\n",
    "    return sigmoid(np.dot(w.T, x) + b)\n",
    "    "
   ]
  },
  {
   "cell_type": "markdown",
   "metadata": {},
   "source": [
    "# Computing Loss\n",
    "\n",
    "### Binary Cross Entropy Loss\n",
    "$ L_{ce} -y \\log(a) - (1 - y)\\log(1-a)$\n",
    "\n",
    "### Compute Gradients\n",
    "$ \\frac{\\delta L_{ce}}{\\delta w_j} = (a - y) \\cdot x_j $\n",
    "\n",
    "\n",
    "$  \\frac{\\delta L_{ce}}{\\delta b} = (a - y)$"
   ]
  },
  {
   "cell_type": "code",
   "execution_count": 73,
   "metadata": {},
   "outputs": [],
   "source": [
    "# compute gradient of loss function for each weight and b\n",
    "# return the new weights and b\n",
    "def gradientDescent(a, y, x, w, b, learning_rate=0.1):\n",
    "    # gradient descent for each weight\n",
    "    for j in range(len(w)):\n",
    "        w[j] -= learning_rate * ((a - y) * x[j])\n",
    "    \n",
    "    # compute b\n",
    "    b -= learning_rate * (a - y)\n",
    "    \n",
    "    return w, b"
   ]
  },
  {
   "cell_type": "code",
   "execution_count": 118,
   "metadata": {
    "colab": {},
    "colab_type": "code",
    "id": "FmCx1XIcbKN_"
   },
   "outputs": [],
   "source": [
    "class Model:\n",
    "    def __init__(self, input_dim=2, learning_rate=0.15, epochs=1000):\n",
    "        self.input_dim = input_dim\n",
    "        # weights\n",
    "        self.w = np.random.rand(input_dim)\n",
    "        self.b = np.random.rand(1)\n",
    "        # hyperparameters\n",
    "        self.learning_rate=learning_rate\n",
    "        self.epochs=epochs\n",
    "    \n",
    "    def train(self, train_x, train_y):\n",
    "        for e in range(self.epochs):\n",
    "            \n",
    "            # each example\n",
    "            for k in range(len(train_x)):\n",
    "                a = make_prediction(self.w, self.b, train_x[k])\n",
    "                y = train_y[k]\n",
    "                \n",
    "                # update weights\n",
    "                self.w, self.b = gradientDescent(a, y, train_x[k], self.w, self.b)\n",
    "                \n",
    "    def plot_line(self, x, y):\n",
    "        fig, ax = plt.subplots(figsize=(10,10))\n",
    "        d = np.linspace(0, 1)\n",
    "        \n",
    "        print(self.w)\n",
    "        pred_line = -((self.w[0] * d) + self.b) / self.w[1]\n",
    "        ax.plot(d, pred_line)\n",
    "        \n",
    "        for i in range(len(x)):\n",
    "          # plot real value\n",
    "          ax.scatter(x[i][0], x[i][1], c='blue' if y[i] == 1 else 'red', label='Real')\n",
    "            \n",
    "        plt.show()"
   ]
  },
  {
   "cell_type": "code",
   "execution_count": 119,
   "metadata": {
    "colab": {},
    "colab_type": "code",
    "id": "TchrygYSnNg3"
   },
   "outputs": [],
   "source": [
    "x_1, x_2, y = get_random_data(100,10,15,5,100)\n",
    "\n",
    "# X = (x1, x2 ... xn)T\n",
    "X = np.array([x_1, x_2]).T"
   ]
  },
  {
   "cell_type": "code",
   "execution_count": 120,
   "metadata": {
    "colab": {},
    "colab_type": "code",
    "id": "cvoBThe3N7Tl"
   },
   "outputs": [],
   "source": [
    "model = Model()"
   ]
  },
  {
   "cell_type": "code",
   "execution_count": 121,
   "metadata": {
    "colab": {
     "base_uri": "https://localhost:8080/",
     "height": 1000
    },
    "colab_type": "code",
    "id": "5spwbWfcLCic",
    "outputId": "c69833ed-8866-4c3a-b696-81f92e623653"
   },
   "outputs": [
    {
     "name": "stderr",
     "output_type": "stream",
     "text": [
      "C:\\Users\\nspee\\Anaconda3\\envs\\ML\\lib\\site-packages\\ipykernel_launcher.py:3: RuntimeWarning: overflow encountered in exp\n",
      "  This is separate from the ipykernel package so we can avoid doing imports until\n"
     ]
    }
   ],
   "source": [
    "model.train(X, y)"
   ]
  },
  {
   "cell_type": "code",
   "execution_count": 122,
   "metadata": {
    "colab": {},
    "colab_type": "code",
    "id": "Bk2WTk4LLNwB"
   },
   "outputs": [
    {
     "name": "stdout",
     "output_type": "stream",
     "text": [
      "[310.49202948  -3.50911744]\n"
     ]
    },
    {
     "data": {
      "image/png": "[encoded data removed]",
      "text/plain": [
       "<Figure size 720x720 with 1 Axes>"
      ]
     },
     "metadata": {
      "needs_background": "light"
     },
     "output_type": "display_data"
    }
   ],
   "source": [
    "model.plot_line(X,y)"
   ]
  },
  {
   "cell_type": "code",
   "execution_count": null,
   "metadata": {},
   "outputs": [],
   "source": []
  },
  {
   "cell_type": "code",
   "execution_count": null,
   "metadata": {},
   "outputs": [],
   "source": []
  }
 ],
 "metadata": {
  "colab": {
   "authorship_tag": "ABX9TyOwoUU4yUX87PeJLx2k6NdY",
   "collapsed_sections": [],
   "include_colab_link": true,
   "name": "hw3.ipynb",
   "provenance": []
  },
  "kernelspec": {
   "display_name": "Python 3",
   "language": "python",
   "name": "python3"
  },
  "language_info": {
   "codemirror_mode": {
    "name": "ipython",
    "version": 3
   },
   "file_extension": ".py",
   "mimetype": "text/x-python",
   "name": "python",
   "nbconvert_exporter": "python",
   "pygments_lexer": "ipython3",
   "version": "3.7.6"
  }
 },
 "nbformat": 4,
 "nbformat_minor": 1
}
