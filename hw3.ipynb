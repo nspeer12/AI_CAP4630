{
 "cells": [
  {
   "cell_type": "markdown",
   "metadata": {
    "colab_type": "text",
    "id": "view-in-github"
   },
   "source": [
    "<a href=\"https://colab.research.google.com/github/nspeer12/AI_CAP4630/blob/master/hw3.ipynb\" target=\"_parent\"><img src=\"https://colab.research.google.com/assets/colab-badge.svg\" alt=\"Open In Colab\"/></a>"
   ]
  },
  {
   "cell_type": "code",
   "execution_count": 70,
   "metadata": {
    "colab": {},
    "colab_type": "code",
    "id": "2Yd7IjbAu-_C"
   },
   "outputs": [],
   "source": [
    "import numpy as np\n",
    "import tensorflow as tf\n",
    "from tensorflow import keras\n",
    "from tensorflow.keras import layers\n",
    "#%tensorflow_version 2.x\n",
    "import matplotlib.pyplot as plt\n",
    "from sklearn.model_selection import train_test_split\n",
    "import math"
   ]
  },
  {
   "cell_type": "markdown",
   "metadata": {
    "colab_type": "text",
    "id": "q7AmdX8GvbAM"
   },
   "source": [
    "Implement the function get_random_data(w, b, mu, sigma, m) that generates random data for logisitic regression with two features features x_1 and x_2. This function should return the array data of shape (m, 2) and the array labels of shape (m, 1).\n",
    "\n",
    "The entries of the arrays should be generated as follows. For each row i in {0, 1, ..., m-1}:\n",
    "\n",
    "Choose class label c=0 with probability 1/2 and c=1 with probability 1/2.\n",
    "Choose the first feature x_1 uniformly at random in the interval [0, 1).\n",
    "Set the second feature x_2 to be x_2 = w * x_1 + b + (-1)^c * n, where the \"noise\" n is chosen according to the normal distribution with mean mu and standard deviation sigma.\n",
    "The ith row of the array data consists of the features x_1 and x_2.\n",
    "The ith entry of the vector labels is the class label c.\n",
    "Implement the function display_random_data that takes as input the above two arrays labels and data. It should create scatter plot of the 2D points stored in data. Use red dots to plot the points whose labels are 1 and blue dots to plot the points whose labels are 0.\n",
    "\n",
    "Hints: You should see that the 2D points (feature vectors) corresponding to different classes are approximately separated by the line y = w * x + b, where w and b are the parameters that you used to generate the data. Note that the smaller the parameter mu, the closer the points are to this line. Also, the larger the parameter sigma, the more points can be on the wrong side of this line.\n",
    "\n",
    "Experiment with different values of mu and sigma. Make sure that the parameter m is large enough so you have enough data points.\n",
    "\n",
    "Split the data/labels into a training set (80%) and a test set (20%).\n",
    "\n",
    "Links to the numpy documentation of the functions that can be used to draw samples according to the uniform and normal distributions:\n",
    "\n",
    "Normal distribution\n",
    "Uniform distribution\n",
    "You can learn more about the normal distribution on https://en.wikipedia.org/wiki/Normal_distribution. To gain some intuition, it would be helpful to plot the Gaussian function for different parameters mu and sigma in a seperate notebook (that you do not have to submit). Later in the semester, you will need to work with normal distribution to understand variational autoencoders.\n"
   ]
  },
  {
   "cell_type": "code",
   "execution_count": 71,
   "metadata": {
    "colab": {},
    "colab_type": "code",
    "id": "PxmywQ7WvRCC"
   },
   "outputs": [],
   "source": [
    "np.random.seed(999)\n",
    "\n",
    "def get_random_data(w, b, mu, sigma, m):\n",
    "  # labels 1 and 0 with probability of 1/2\n",
    "  c = [0 if np.random.rand(1) < .5 else 1 for x in range(m)]\n",
    "\n",
    "  # creating a new list for (-1)^c\n",
    "  alt_c = [(-1)**i for i in c]\n",
    "  noise = np.multiply(alt_c, np.random.normal(loc=mu, scale=sigma, size=m)) \n",
    "  \n",
    "  # uniform distribution [0, 1)\n",
    "  x_1 = np.random.uniform(low=0, high=1, size=m)\n",
    "\n",
    "  listy = np.multiply(w, x_1)\n",
    "  x_2 = np.add(listy, noise)\n",
    "  \n",
    "  # create an array for the colors for each class\n",
    "  \n",
    "  return x_1, x_2, c"
   ]
  },
  {
   "cell_type": "code",
   "execution_count": 72,
   "metadata": {
    "colab": {
     "base_uri": "https://localhost:8080/",
     "height": 355
    },
    "colab_type": "code",
    "id": "ajKZIqjLvsba",
    "outputId": "c74c5f36-3c9b-4ce6-e8ca-60692e4868d5"
   },
   "outputs": [
    {
     "data": {
      "image/png": "[encoded data removed]",
      "text/plain": [
       "<Figure size 360x360 with 1 Axes>"
      ]
     },
     "metadata": {
      "needs_background": "light"
     },
     "output_type": "display_data"
    },
    {
     "data": {
      "text/plain": [
       "(<Figure size 360x360 with 1 Axes>,\n",
       " <matplotlib.axes._subplots.AxesSubplot at 0x220590b6b08>)"
      ]
     },
     "execution_count": 72,
     "metadata": {},
     "output_type": "execute_result"
    }
   ],
   "source": [
    "def graph_random_data(w, b, mu, sigma, m):\n",
    "  x_1, x_2, c = get_random_data(w, b, mu, sigma, m)\n",
    "  fig, ax = plt.subplots(figsize=(5,5))\n",
    "\n",
    "  colors = ['blue' if c[x] == 1 else 'red' for x in range(m)]\n",
    "\n",
    "  ax.scatter(x_1, x_2, c=colors)\n",
    "  plt.show()\n",
    "  return fig, ax\n",
    "\n",
    "graph_random_data(50,10,15,5,100)"
   ]
  },
  {
   "cell_type": "markdown",
   "metadata": {
    "colab_type": "text",
    "id": "FcoboTTZCcb6"
   },
   "source": [
    "**Problem 2**\n",
    "\n",
    "Create a Keras to implement logistic regression with two features and train it with the data generated in Problem 1. The loss should be the binary cross entropy loss. \n",
    "\n",
    "How well does the trained model separate the red and blue dots?  You can obtain the separating line determined by the model by extracting the weights from the dense layer using the function ```get_weights```. See [https://keras.io/layers/about-keras-layers/](https://keras.io/layers/about-keras-layers/).  \n",
    "\n",
    "Create a plot showing the random data, the true line used to generate the data, and the separating line of the trained model. Make sure that you describe in detail in your notebook how you proceed to obtain the separating line.\n",
    "\n",
    "Note that you have to carry out some simple steps to obtain the separating line from the model weights (the two weights and the bias term of the dense layer).  This is not immediately obvious.  It maybe helpful to take a look at the heatmap below.\n",
    "\n",
    "The trained model realizes function ```f : R^2 -> R``` that takes two features as input and outputs a number in the interval ```[0, 1]```. Use a heatmap to visualize this function.  \n",
    "\n",
    "---"
   ]
  },
  {
   "cell_type": "code",
   "execution_count": 73,
   "metadata": {
    "colab": {},
    "colab_type": "code",
    "id": "RE9I4pX2R9OF"
   },
   "outputs": [],
   "source": [
    "# get data and test train split\n",
    "x_1, x_2, y = get_random_data(100,10,15,5,100)\n",
    "\n",
    "# X = (x1, x2 ... xn)T\n",
    "X = np.array([x_1, x_2]).T\n",
    "\n",
    "y = np.array(y)\n",
    "x_train, x_test, y_train, y_test = train_test_split(X, y)"
   ]
  },
  {
   "cell_type": "code",
   "execution_count": 74,
   "metadata": {
    "colab": {},
    "colab_type": "code",
    "id": "Kh-gUK6aN0y4"
   },
   "outputs": [],
   "source": [
    "def build_model(input_dim, output_dim):\n",
    "  model = keras.Sequential()\n",
    "  model.add(tf.keras.layers.Dense(output_dim, input_dim=input_dim, activation='sigmoid'))\n",
    "  optimizer = tf.keras.optimizers.Adam(learning_rate=0.1)\n",
    "  model.compile(loss=tf.keras.losses.BinaryCrossentropy(), optimizer=optimizer)\n",
    "\n",
    "  return model\n",
    "\n"
   ]
  },
  {
   "cell_type": "code",
   "execution_count": 75,
   "metadata": {
    "colab": {
     "base_uri": "https://localhost:8080/",
     "height": 1000
    },
    "colab_type": "code",
    "id": "0a7uegBsDIiM",
    "outputId": "189e5acb-3465-4129-d875-46b66a862f41"
   },
   "outputs": [
    {
     "name": "stdout",
     "output_type": "stream",
     "text": [
      "Train on 75 samples\n",
      "Epoch 1/300\n",
      "75/75 [==============================] - 0s 3ms/sample - loss: 36.9652\n",
      "Epoch 2/300\n",
      "75/75 [==============================] - 0s 80us/sample - loss: 25.8836\n",
      "Epoch 3/300\n",
      "75/75 [==============================] - 0s 80us/sample - loss: 15.4575\n",
      "Epoch 4/300\n",
      "75/75 [==============================] - 0s 94us/sample - loss: 5.0029\n",
      "Epoch 5/300\n",
      "75/75 [==============================] - 0s 80us/sample - loss: 3.0310\n",
      "Epoch 6/300\n",
      "75/75 [==============================] - 0s 120us/sample - loss: 5.6103\n",
      "Epoch 7/300\n",
      "75/75 [==============================] - 0s 80us/sample - loss: 6.8314\n",
      "Epoch 8/300\n",
      "75/75 [==============================] - 0s 107us/sample - loss: 6.8668\n",
      "Epoch 9/300\n",
      "75/75 [==============================] - 0s 80us/sample - loss: 5.9196\n",
      "Epoch 10/300\n",
      "75/75 [==============================] - 0s 94us/sample - loss: 4.2421\n",
      "Epoch 11/300\n",
      "75/75 [==============================] - 0s 80us/sample - loss: 1.9974\n",
      "Epoch 12/300\n",
      "75/75 [==============================] - 0s 93us/sample - loss: 1.7747\n",
      "Epoch 13/300\n",
      "75/75 [==============================] - 0s 93us/sample - loss: 2.7609\n",
      "Epoch 14/300\n",
      "75/75 [==============================] - 0s 80us/sample - loss: 0.8540\n",
      "Epoch 15/300\n",
      "75/75 [==============================] - 0s 93us/sample - loss: 1.5896\n",
      "Epoch 16/300\n",
      "75/75 [==============================] - 0s 80us/sample - loss: 1.6241\n",
      "Epoch 17/300\n",
      "75/75 [==============================] - 0s 93us/sample - loss: 0.9038\n",
      "Epoch 18/300\n",
      "75/75 [==============================] - 0s 80us/sample - loss: 1.2057\n",
      "Epoch 19/300\n",
      "75/75 [==============================] - 0s 93us/sample - loss: 0.7701\n",
      "Epoch 20/300\n",
      "75/75 [==============================] - 0s 80us/sample - loss: 1.0902\n",
      "Epoch 21/300\n",
      "75/75 [==============================] - 0s 93us/sample - loss: 0.8080\n",
      "Epoch 22/300\n",
      "75/75 [==============================] - 0s 107us/sample - loss: 0.9092\n",
      "Epoch 23/300\n",
      "75/75 [==============================] - 0s 93us/sample - loss: 0.6811\n",
      "Epoch 24/300\n",
      "75/75 [==============================] - 0s 80us/sample - loss: 0.9743\n",
      "Epoch 25/300\n",
      "75/75 [==============================] - 0s 94us/sample - loss: 0.8040\n",
      "Epoch 26/300\n",
      "75/75 [==============================] - 0s 93us/sample - loss: 0.6423\n",
      "Epoch 27/300\n",
      "75/75 [==============================] - ETA: 0s - loss: 0.781 - 0s 93us/sample - loss: 0.7165\n",
      "Epoch 28/300\n",
      "75/75 [==============================] - 0s 93us/sample - loss: 0.6664\n",
      "Epoch 29/300\n",
      "75/75 [==============================] - 0s 107us/sample - loss: 0.6493\n",
      "Epoch 30/300\n",
      "75/75 [==============================] - 0s 93us/sample - loss: 0.6257\n",
      "Epoch 31/300\n",
      "75/75 [==============================] - 0s 93us/sample - loss: 0.5996\n",
      "Epoch 32/300\n",
      "75/75 [==============================] - 0s 93us/sample - loss: 0.5994\n",
      "Epoch 33/300\n",
      "75/75 [==============================] - 0s 107us/sample - loss: 0.5936\n",
      "Epoch 34/300\n",
      "75/75 [==============================] - 0s 93us/sample - loss: 0.5812\n",
      "Epoch 35/300\n",
      "75/75 [==============================] - 0s 93us/sample - loss: 0.5944\n",
      "Epoch 36/300\n",
      "75/75 [==============================] - 0s 120us/sample - loss: 0.5692\n",
      "Epoch 37/300\n",
      "75/75 [==============================] - 0s 93us/sample - loss: 0.5844\n",
      "Epoch 38/300\n",
      "75/75 [==============================] - 0s 94us/sample - loss: 0.5719\n",
      "Epoch 39/300\n",
      "75/75 [==============================] - 0s 93us/sample - loss: 0.5989\n",
      "Epoch 40/300\n",
      "75/75 [==============================] - 0s 93us/sample - loss: 0.6111\n",
      "Epoch 41/300\n",
      "75/75 [==============================] - 0s 93us/sample - loss: 0.5606\n",
      "Epoch 42/300\n",
      "75/75 [==============================] - 0s 93us/sample - loss: 0.6068\n",
      "Epoch 43/300\n",
      "75/75 [==============================] - 0s 107us/sample - loss: 0.5284\n",
      "Epoch 44/300\n",
      "75/75 [==============================] - 0s 107us/sample - loss: 0.5835\n",
      "Epoch 45/300\n",
      "75/75 [==============================] - 0s 107us/sample - loss: 0.5712\n",
      "Epoch 46/300\n",
      "75/75 [==============================] - 0s 80us/sample - loss: 0.5041\n",
      "Epoch 47/300\n",
      "75/75 [==============================] - 0s 107us/sample - loss: 0.6614\n",
      "Epoch 48/300\n",
      "75/75 [==============================] - 0s 87us/sample - loss: 0.5242\n",
      "Epoch 49/300\n",
      "75/75 [==============================] - 0s 102us/sample - loss: 0.5609\n",
      "Epoch 50/300\n",
      "75/75 [==============================] - 0s 93us/sample - loss: 0.5111\n",
      "Epoch 51/300\n",
      "75/75 [==============================] - 0s 120us/sample - loss: 0.5106\n",
      "Epoch 52/300\n",
      "75/75 [==============================] - 0s 93us/sample - loss: 0.5175\n",
      "Epoch 53/300\n",
      "75/75 [==============================] - 0s 107us/sample - loss: 0.4783\n",
      "Epoch 54/300\n",
      "75/75 [==============================] - 0s 93us/sample - loss: 0.4931\n",
      "Epoch 55/300\n",
      "75/75 [==============================] - 0s 107us/sample - loss: 0.4944\n",
      "Epoch 56/300\n",
      "75/75 [==============================] - 0s 93us/sample - loss: 0.4722\n",
      "Epoch 57/300\n",
      "75/75 [==============================] - 0s 107us/sample - loss: 0.5040\n",
      "Epoch 58/300\n",
      "75/75 [==============================] - 0s 80us/sample - loss: 0.5380\n",
      "Epoch 59/300\n",
      "75/75 [==============================] - 0s 93us/sample - loss: 0.5380\n",
      "Epoch 60/300\n",
      "75/75 [==============================] - 0s 93us/sample - loss: 0.4760\n",
      "Epoch 61/300\n",
      "75/75 [==============================] - 0s 120us/sample - loss: 0.4742\n",
      "Epoch 62/300\n",
      "75/75 [==============================] - 0s 93us/sample - loss: 0.4694\n",
      "Epoch 63/300\n",
      "75/75 [==============================] - 0s 93us/sample - loss: 0.4512\n",
      "Epoch 64/300\n",
      "75/75 [==============================] - 0s 93us/sample - loss: 0.4357\n",
      "Epoch 65/300\n",
      "75/75 [==============================] - 0s 107us/sample - loss: 0.4356\n",
      "Epoch 66/300\n",
      "75/75 [==============================] - 0s 80us/sample - loss: 0.4259\n",
      "Epoch 67/300\n",
      "75/75 [==============================] - 0s 107us/sample - loss: 0.4236\n",
      "Epoch 68/300\n",
      "75/75 [==============================] - 0s 107us/sample - loss: 0.4199\n",
      "Epoch 69/300\n",
      "75/75 [==============================] - 0s 93us/sample - loss: 0.4227\n",
      "Epoch 70/300\n",
      "75/75 [==============================] - 0s 107us/sample - loss: 0.4375\n",
      "Epoch 71/300\n",
      "75/75 [==============================] - 0s 93us/sample - loss: 0.4058\n",
      "Epoch 72/300\n",
      "75/75 [==============================] - 0s 93us/sample - loss: 0.4406\n",
      "Epoch 73/300\n",
      "75/75 [==============================] - 0s 93us/sample - loss: 0.4096\n",
      "Epoch 74/300\n",
      "75/75 [==============================] - 0s 93us/sample - loss: 0.4053\n",
      "Epoch 75/300\n",
      "75/75 [==============================] - 0s 93us/sample - loss: 0.4348\n",
      "Epoch 76/300\n",
      "75/75 [==============================] - 0s 107us/sample - loss: 0.3913\n",
      "Epoch 77/300\n",
      "75/75 [==============================] - 0s 80us/sample - loss: 0.3855\n",
      "Epoch 78/300\n",
      "75/75 [==============================] - 0s 80us/sample - loss: 0.4084\n",
      "Epoch 79/300\n",
      "75/75 [==============================] - 0s 80us/sample - loss: 0.3715\n",
      "Epoch 80/300\n",
      "75/75 [==============================] - 0s 93us/sample - loss: 0.4085\n",
      "Epoch 81/300\n",
      "75/75 [==============================] - 0s 93us/sample - loss: 0.3694\n",
      "Epoch 82/300\n",
      "75/75 [==============================] - 0s 93us/sample - loss: 0.4205\n",
      "Epoch 83/300\n",
      "75/75 [==============================] - 0s 80us/sample - loss: 0.3770\n",
      "Epoch 84/300\n",
      "75/75 [==============================] - 0s 93us/sample - loss: 0.3807\n",
      "Epoch 85/300\n",
      "75/75 [==============================] - 0s 93us/sample - loss: 0.3887\n",
      "Epoch 86/300\n",
      "75/75 [==============================] - 0s 107us/sample - loss: 0.3534\n",
      "Epoch 87/300\n",
      "75/75 [==============================] - 0s 93us/sample - loss: 0.3853\n",
      "Epoch 88/300\n",
      "75/75 [==============================] - 0s 93us/sample - loss: 0.4261\n",
      "Epoch 89/300\n",
      "75/75 [==============================] - 0s 93us/sample - loss: 0.3637\n",
      "Epoch 90/300\n",
      "75/75 [==============================] - 0s 107us/sample - loss: 0.4020\n",
      "Epoch 91/300\n",
      "75/75 [==============================] - 0s 107us/sample - loss: 0.3737\n",
      "Epoch 92/300\n",
      "75/75 [==============================] - 0s 133us/sample - loss: 0.3559\n",
      "Epoch 93/300\n",
      "75/75 [==============================] - 0s 120us/sample - loss: 0.3300\n",
      "Epoch 94/300\n",
      "75/75 [==============================] - 0s 107us/sample - loss: 0.3589\n",
      "Epoch 95/300\n",
      "75/75 [==============================] - 0s 107us/sample - loss: 0.3322\n",
      "Epoch 96/300\n",
      "75/75 [==============================] - 0s 107us/sample - loss: 0.3227\n",
      "Epoch 97/300\n"
     ]
    },
    {
     "name": "stdout",
     "output_type": "stream",
     "text": [
      "75/75 [==============================] - 0s 107us/sample - loss: 0.3251\n",
      "Epoch 98/300\n",
      "75/75 [==============================] - 0s 107us/sample - loss: 0.3217\n",
      "Epoch 99/300\n",
      "75/75 [==============================] - 0s 107us/sample - loss: 0.3184\n",
      "Epoch 100/300\n",
      "75/75 [==============================] - 0s 93us/sample - loss: 0.3153\n",
      "Epoch 101/300\n",
      "75/75 [==============================] - 0s 107us/sample - loss: 0.3127\n",
      "Epoch 102/300\n",
      "75/75 [==============================] - 0s 80us/sample - loss: 0.3106\n",
      "Epoch 103/300\n",
      "75/75 [==============================] - 0s 93us/sample - loss: 0.3094\n",
      "Epoch 104/300\n",
      "75/75 [==============================] - 0s 93us/sample - loss: 0.3207\n",
      "Epoch 105/300\n",
      "75/75 [==============================] - 0s 107us/sample - loss: 0.3035\n",
      "Epoch 106/300\n",
      "75/75 [==============================] - 0s 107us/sample - loss: 0.3149\n",
      "Epoch 107/300\n",
      "75/75 [==============================] - 0s 93us/sample - loss: 0.2999\n",
      "Epoch 108/300\n",
      "75/75 [==============================] - 0s 93us/sample - loss: 0.2991\n",
      "Epoch 109/300\n",
      "75/75 [==============================] - 0s 93us/sample - loss: 0.2982\n",
      "Epoch 110/300\n",
      "75/75 [==============================] - 0s 93us/sample - loss: 0.3025\n",
      "Epoch 111/300\n",
      "75/75 [==============================] - 0s 93us/sample - loss: 0.3056\n",
      "Epoch 112/300\n",
      "75/75 [==============================] - 0s 93us/sample - loss: 0.2955\n",
      "Epoch 113/300\n",
      "75/75 [==============================] - 0s 93us/sample - loss: 0.2785\n",
      "Epoch 114/300\n",
      "75/75 [==============================] - 0s 93us/sample - loss: 0.3161\n",
      "Epoch 115/300\n",
      "75/75 [==============================] - 0s 93us/sample - loss: 0.2927\n",
      "Epoch 116/300\n",
      "75/75 [==============================] - 0s 93us/sample - loss: 0.2972\n",
      "Epoch 117/300\n",
      "75/75 [==============================] - 0s 107us/sample - loss: 0.2787\n",
      "Epoch 118/300\n",
      "75/75 [==============================] - 0s 80us/sample - loss: 0.2821\n",
      "Epoch 119/300\n",
      "75/75 [==============================] - 0s 107us/sample - loss: 0.2910\n",
      "Epoch 120/300\n",
      "75/75 [==============================] - 0s 93us/sample - loss: 0.2785\n",
      "Epoch 121/300\n",
      "75/75 [==============================] - 0s 107us/sample - loss: 0.2699\n",
      "Epoch 122/300\n",
      "75/75 [==============================] - 0s 93us/sample - loss: 0.2706\n",
      "Epoch 123/300\n",
      "75/75 [==============================] - 0s 107us/sample - loss: 0.2746\n",
      "Epoch 124/300\n",
      "75/75 [==============================] - 0s 93us/sample - loss: 0.2641\n",
      "Epoch 125/300\n",
      "75/75 [==============================] - 0s 93us/sample - loss: 0.2568\n",
      "Epoch 126/300\n",
      "75/75 [==============================] - 0s 93us/sample - loss: 0.2649\n",
      "Epoch 127/300\n",
      "75/75 [==============================] - 0s 107us/sample - loss: 0.2841\n",
      "Epoch 128/300\n",
      "75/75 [==============================] - 0s 107us/sample - loss: 0.2653\n",
      "Epoch 129/300\n",
      "75/75 [==============================] - 0s 107us/sample - loss: 0.2606\n",
      "Epoch 130/300\n",
      "75/75 [==============================] - 0s 107us/sample - loss: 0.3109\n",
      "Epoch 131/300\n",
      "75/75 [==============================] - 0s 93us/sample - loss: 0.2605\n",
      "Epoch 132/300\n",
      "75/75 [==============================] - 0s 107us/sample - loss: 0.2589\n",
      "Epoch 133/300\n",
      "75/75 [==============================] - 0s 107us/sample - loss: 0.2555\n",
      "Epoch 134/300\n",
      "75/75 [==============================] - 0s 107us/sample - loss: 0.2692\n",
      "Epoch 135/300\n",
      "75/75 [==============================] - 0s 93us/sample - loss: 0.2532\n",
      "Epoch 136/300\n",
      "75/75 [==============================] - 0s 107us/sample - loss: 0.2544\n",
      "Epoch 137/300\n",
      "75/75 [==============================] - 0s 93us/sample - loss: 0.2538\n",
      "Epoch 138/300\n",
      "75/75 [==============================] - 0s 93us/sample - loss: 0.2413\n",
      "Epoch 139/300\n",
      "75/75 [==============================] - 0s 107us/sample - loss: 0.2413\n",
      "Epoch 140/300\n",
      "75/75 [==============================] - 0s 107us/sample - loss: 0.2450\n",
      "Epoch 141/300\n",
      "75/75 [==============================] - 0s 107us/sample - loss: 0.2384\n",
      "Epoch 142/300\n",
      "75/75 [==============================] - 0s 107us/sample - loss: 0.2308\n",
      "Epoch 143/300\n",
      "75/75 [==============================] - 0s 93us/sample - loss: 0.2359\n",
      "Epoch 144/300\n",
      "75/75 [==============================] - 0s 107us/sample - loss: 0.2451\n",
      "Epoch 145/300\n",
      "75/75 [==============================] - 0s 93us/sample - loss: 0.2153\n",
      "Epoch 146/300\n",
      "75/75 [==============================] - 0s 107us/sample - loss: 0.2832\n",
      "Epoch 147/300\n",
      "75/75 [==============================] - 0s 107us/sample - loss: 0.2256\n",
      "Epoch 148/300\n",
      "75/75 [==============================] - 0s 93us/sample - loss: 0.2660\n",
      "Epoch 149/300\n",
      "75/75 [==============================] - 0s 93us/sample - loss: 0.3195\n",
      "Epoch 150/300\n",
      "75/75 [==============================] - 0s 120us/sample - loss: 0.2626\n",
      "Epoch 151/300\n",
      "75/75 [==============================] - 0s 107us/sample - loss: 0.2544\n",
      "Epoch 152/300\n",
      "75/75 [==============================] - 0s 107us/sample - loss: 0.3016\n",
      "Epoch 153/300\n",
      "75/75 [==============================] - 0s 107us/sample - loss: 0.2596\n",
      "Epoch 154/300\n",
      "75/75 [==============================] - 0s 106us/sample - loss: 0.2144\n",
      "Epoch 155/300\n",
      "75/75 [==============================] - 0s 93us/sample - loss: 0.2816\n",
      "Epoch 156/300\n",
      "75/75 [==============================] - 0s 107us/sample - loss: 0.2333\n",
      "Epoch 157/300\n",
      "75/75 [==============================] - 0s 93us/sample - loss: 0.2300\n",
      "Epoch 158/300\n",
      "75/75 [==============================] - 0s 93us/sample - loss: 0.2285\n",
      "Epoch 159/300\n",
      "75/75 [==============================] - 0s 93us/sample - loss: 0.2105\n",
      "Epoch 160/300\n",
      "75/75 [==============================] - 0s 93us/sample - loss: 0.2246\n",
      "Epoch 161/300\n",
      "75/75 [==============================] - 0s 80us/sample - loss: 0.2110\n",
      "Epoch 162/300\n",
      "75/75 [==============================] - 0s 96us/sample - loss: 0.2120\n",
      "Epoch 163/300\n",
      "75/75 [==============================] - 0s 93us/sample - loss: 0.2166\n",
      "Epoch 164/300\n",
      "75/75 [==============================] - 0s 94us/sample - loss: 0.2094\n",
      "Epoch 165/300\n",
      "75/75 [==============================] - 0s 93us/sample - loss: 0.2131\n",
      "Epoch 166/300\n",
      "75/75 [==============================] - 0s 93us/sample - loss: 0.2110\n",
      "Epoch 167/300\n",
      "75/75 [==============================] - 0s 82us/sample - loss: 0.2007\n",
      "Epoch 168/300\n",
      "75/75 [==============================] - 0s 80us/sample - loss: 0.2478\n",
      "Epoch 169/300\n",
      "75/75 [==============================] - 0s 95us/sample - loss: 0.2007\n",
      "Epoch 170/300\n",
      "75/75 [==============================] - 0s 93us/sample - loss: 0.2104\n",
      "Epoch 171/300\n",
      "75/75 [==============================] - 0s 107us/sample - loss: 0.1922\n",
      "Epoch 172/300\n",
      "75/75 [==============================] - 0s 80us/sample - loss: 0.2127\n",
      "Epoch 173/300\n",
      "75/75 [==============================] - 0s 120us/sample - loss: 0.1870\n",
      "Epoch 174/300\n",
      "75/75 [==============================] - 0s 106us/sample - loss: 0.1949\n",
      "Epoch 175/300\n",
      "75/75 [==============================] - 0s 107us/sample - loss: 0.1880\n",
      "Epoch 176/300\n",
      "75/75 [==============================] - 0s 107us/sample - loss: 0.1858\n",
      "Epoch 177/300\n",
      "75/75 [==============================] - 0s 93us/sample - loss: 0.1855\n",
      "Epoch 178/300\n",
      "75/75 [==============================] - 0s 93us/sample - loss: 0.1875\n",
      "Epoch 179/300\n",
      "75/75 [==============================] - 0s 107us/sample - loss: 0.1892\n",
      "Epoch 180/300\n",
      "75/75 [==============================] - 0s 93us/sample - loss: 0.2022\n",
      "Epoch 181/300\n",
      "75/75 [==============================] - 0s 107us/sample - loss: 0.2135\n",
      "Epoch 182/300\n",
      "75/75 [==============================] - 0s 107us/sample - loss: 0.2035\n",
      "Epoch 183/300\n",
      "75/75 [==============================] - 0s 93us/sample - loss: 0.1863\n",
      "Epoch 184/300\n",
      "75/75 [==============================] - 0s 93us/sample - loss: 0.1879\n",
      "Epoch 185/300\n",
      "75/75 [==============================] - 0s 107us/sample - loss: 0.1841\n",
      "Epoch 186/300\n",
      "75/75 [==============================] - 0s 93us/sample - loss: 0.1771\n",
      "Epoch 187/300\n",
      "75/75 [==============================] - 0s 107us/sample - loss: 0.1761\n",
      "Epoch 188/300\n",
      "75/75 [==============================] - 0s 107us/sample - loss: 0.1839\n",
      "Epoch 189/300\n",
      "75/75 [==============================] - 0s 120us/sample - loss: 0.1875\n",
      "Epoch 190/300\n",
      "75/75 [==============================] - 0s 105us/sample - loss: 0.1894\n",
      "Epoch 191/300\n",
      "75/75 [==============================] - 0s 108us/sample - loss: 0.1914\n",
      "Epoch 192/300\n",
      "75/75 [==============================] - 0s 93us/sample - loss: 0.1816\n",
      "Epoch 193/300\n"
     ]
    },
    {
     "name": "stdout",
     "output_type": "stream",
     "text": [
      "75/75 [==============================] - 0s 105us/sample - loss: 0.1886\n",
      "Epoch 194/300\n",
      "75/75 [==============================] - 0s 108us/sample - loss: 0.1904\n",
      "Epoch 195/300\n",
      "75/75 [==============================] - 0s 120us/sample - loss: 0.1820\n",
      "Epoch 196/300\n",
      "75/75 [==============================] - 0s 93us/sample - loss: 0.1766\n",
      "Epoch 197/300\n",
      "75/75 [==============================] - 0s 93us/sample - loss: 0.1780\n",
      "Epoch 198/300\n",
      "75/75 [==============================] - 0s 107us/sample - loss: 0.1727\n",
      "Epoch 199/300\n",
      "75/75 [==============================] - 0s 80us/sample - loss: 0.1663\n",
      "Epoch 200/300\n",
      "75/75 [==============================] - 0s 93us/sample - loss: 0.1700\n",
      "Epoch 201/300\n",
      "75/75 [==============================] - 0s 107us/sample - loss: 0.1667\n",
      "Epoch 202/300\n",
      "75/75 [==============================] - 0s 93us/sample - loss: 0.1677\n",
      "Epoch 203/300\n",
      "75/75 [==============================] - 0s 107us/sample - loss: 0.1609\n",
      "Epoch 204/300\n",
      "75/75 [==============================] - 0s 93us/sample - loss: 0.1673\n",
      "Epoch 205/300\n",
      "75/75 [==============================] - 0s 93us/sample - loss: 0.1673\n",
      "Epoch 206/300\n",
      "75/75 [==============================] - 0s 94us/sample - loss: 0.1679\n",
      "Epoch 207/300\n",
      "75/75 [==============================] - 0s 92us/sample - loss: 0.1623\n",
      "Epoch 208/300\n",
      "75/75 [==============================] - 0s 93us/sample - loss: 0.1631\n",
      "Epoch 209/300\n",
      "75/75 [==============================] - 0s 93us/sample - loss: 0.1801\n",
      "Epoch 210/300\n",
      "75/75 [==============================] - 0s 93us/sample - loss: 0.1675\n",
      "Epoch 211/300\n",
      "75/75 [==============================] - 0s 107us/sample - loss: 0.1563\n",
      "Epoch 212/300\n",
      "75/75 [==============================] - 0s 107us/sample - loss: 0.1610\n",
      "Epoch 213/300\n",
      "75/75 [==============================] - 0s 93us/sample - loss: 0.1562\n",
      "Epoch 214/300\n",
      "75/75 [==============================] - 0s 93us/sample - loss: 0.1710\n",
      "Epoch 215/300\n",
      "75/75 [==============================] - 0s 93us/sample - loss: 0.1619\n",
      "Epoch 216/300\n",
      "75/75 [==============================] - 0s 93us/sample - loss: 0.1734\n",
      "Epoch 217/300\n",
      "75/75 [==============================] - 0s 93us/sample - loss: 0.1789\n",
      "Epoch 218/300\n",
      "75/75 [==============================] - 0s 93us/sample - loss: 0.1894\n",
      "Epoch 219/300\n",
      "75/75 [==============================] - 0s 93us/sample - loss: 0.1651\n",
      "Epoch 220/300\n",
      "75/75 [==============================] - 0s 107us/sample - loss: 0.1675\n",
      "Epoch 221/300\n",
      "75/75 [==============================] - 0s 93us/sample - loss: 0.1703\n",
      "Epoch 222/300\n",
      "75/75 [==============================] - 0s 93us/sample - loss: 0.1456\n",
      "Epoch 223/300\n",
      "75/75 [==============================] - 0s 93us/sample - loss: 0.1739\n",
      "Epoch 224/300\n",
      "75/75 [==============================] - 0s 107us/sample - loss: 0.1515\n",
      "Epoch 225/300\n",
      "75/75 [==============================] - 0s 107us/sample - loss: 0.1608\n",
      "Epoch 226/300\n",
      "75/75 [==============================] - 0s 107us/sample - loss: 0.1553\n",
      "Epoch 227/300\n",
      "75/75 [==============================] - 0s 93us/sample - loss: 0.1672\n",
      "Epoch 228/300\n",
      "75/75 [==============================] - 0s 107us/sample - loss: 0.1543\n",
      "Epoch 229/300\n",
      "75/75 [==============================] - 0s 93us/sample - loss: 0.1477\n",
      "Epoch 230/300\n",
      "75/75 [==============================] - 0s 107us/sample - loss: 0.1455\n",
      "Epoch 231/300\n",
      "75/75 [==============================] - 0s 80us/sample - loss: 0.1440\n",
      "Epoch 232/300\n",
      "75/75 [==============================] - 0s 93us/sample - loss: 0.1431\n",
      "Epoch 233/300\n",
      "75/75 [==============================] - 0s 93us/sample - loss: 0.1441\n",
      "Epoch 234/300\n",
      "75/75 [==============================] - 0s 107us/sample - loss: 0.1574\n",
      "Epoch 235/300\n",
      "75/75 [==============================] - 0s 107us/sample - loss: 0.1713\n",
      "Epoch 236/300\n",
      "75/75 [==============================] - 0s 93us/sample - loss: 0.1496\n",
      "Epoch 237/300\n",
      "75/75 [==============================] - 0s 93us/sample - loss: 0.1885\n",
      "Epoch 238/300\n",
      "75/75 [==============================] - 0s 107us/sample - loss: 0.1960\n",
      "Epoch 239/300\n",
      "75/75 [==============================] - 0s 93us/sample - loss: 0.1608\n",
      "Epoch 240/300\n",
      "75/75 [==============================] - 0s 93us/sample - loss: 0.1804\n",
      "Epoch 241/300\n",
      "75/75 [==============================] - 0s 80us/sample - loss: 0.1576\n",
      "Epoch 242/300\n",
      "75/75 [==============================] - 0s 93us/sample - loss: 0.1420\n",
      "Epoch 243/300\n",
      "75/75 [==============================] - 0s 93us/sample - loss: 0.1544\n",
      "Epoch 244/300\n",
      "75/75 [==============================] - 0s 93us/sample - loss: 0.1372\n",
      "Epoch 245/300\n",
      "75/75 [==============================] - 0s 93us/sample - loss: 0.1375\n",
      "Epoch 246/300\n",
      "75/75 [==============================] - 0s 93us/sample - loss: 0.1449\n",
      "Epoch 247/300\n",
      "75/75 [==============================] - 0s 93us/sample - loss: 0.1544\n",
      "Epoch 248/300\n",
      "75/75 [==============================] - 0s 93us/sample - loss: 0.1398\n",
      "Epoch 249/300\n",
      "75/75 [==============================] - 0s 93us/sample - loss: 0.1433\n",
      "Epoch 250/300\n",
      "75/75 [==============================] - 0s 93us/sample - loss: 0.1351\n",
      "Epoch 251/300\n",
      "75/75 [==============================] - 0s 93us/sample - loss: 0.1328\n",
      "Epoch 252/300\n",
      "75/75 [==============================] - 0s 93us/sample - loss: 0.1349\n",
      "Epoch 253/300\n",
      "75/75 [==============================] - 0s 93us/sample - loss: 0.1557\n",
      "Epoch 254/300\n",
      "75/75 [==============================] - 0s 93us/sample - loss: 0.1245\n",
      "Epoch 255/300\n",
      "75/75 [==============================] - 0s 93us/sample - loss: 0.1965\n",
      "Epoch 256/300\n",
      "75/75 [==============================] - 0s 93us/sample - loss: 0.1846\n",
      "Epoch 257/300\n",
      "75/75 [==============================] - 0s 80us/sample - loss: 0.1986\n",
      "Epoch 258/300\n",
      "75/75 [==============================] - 0s 93us/sample - loss: 0.1684\n",
      "Epoch 259/300\n",
      "75/75 [==============================] - 0s 80us/sample - loss: 0.1540\n",
      "Epoch 260/300\n",
      "75/75 [==============================] - 0s 104us/sample - loss: 0.1648\n",
      "Epoch 261/300\n",
      "75/75 [==============================] - 0s 93us/sample - loss: 0.1607\n",
      "Epoch 262/300\n",
      "75/75 [==============================] - 0s 107us/sample - loss: 0.1353\n",
      "Epoch 263/300\n",
      "75/75 [==============================] - 0s 80us/sample - loss: 0.1282\n",
      "Epoch 264/300\n",
      "75/75 [==============================] - 0s 93us/sample - loss: 0.1433\n",
      "Epoch 265/300\n",
      "75/75 [==============================] - 0s 105us/sample - loss: 0.1379\n",
      "Epoch 266/300\n",
      "75/75 [==============================] - 0s 93us/sample - loss: 0.1567\n",
      "Epoch 267/300\n",
      "75/75 [==============================] - 0s 93us/sample - loss: 0.1214\n",
      "Epoch 268/300\n",
      "75/75 [==============================] - 0s 93us/sample - loss: 0.1838\n",
      "Epoch 269/300\n",
      "75/75 [==============================] - 0s 93us/sample - loss: 0.1241\n",
      "Epoch 270/300\n",
      "75/75 [==============================] - 0s 93us/sample - loss: 0.1400\n",
      "Epoch 271/300\n",
      "75/75 [==============================] - 0s 93us/sample - loss: 0.1390\n",
      "Epoch 272/300\n",
      "75/75 [==============================] - 0s 95us/sample - loss: 0.1390\n",
      "Epoch 273/300\n",
      "75/75 [==============================] - 0s 107us/sample - loss: 0.1341\n",
      "Epoch 274/300\n",
      "75/75 [==============================] - 0s 96us/sample - loss: 0.1353\n",
      "Epoch 275/300\n",
      "75/75 [==============================] - 0s 107us/sample - loss: 0.1283\n",
      "Epoch 276/300\n",
      "75/75 [==============================] - 0s 93us/sample - loss: 0.1354\n",
      "Epoch 277/300\n",
      "75/75 [==============================] - 0s 93us/sample - loss: 0.1277\n",
      "Epoch 278/300\n",
      "75/75 [==============================] - 0s 93us/sample - loss: 0.1285\n",
      "Epoch 279/300\n",
      "75/75 [==============================] - 0s 93us/sample - loss: 0.1200\n",
      "Epoch 280/300\n",
      "75/75 [==============================] - 0s 93us/sample - loss: 0.1231\n",
      "Epoch 281/300\n",
      "75/75 [==============================] - 0s 80us/sample - loss: 0.1231\n",
      "Epoch 282/300\n",
      "75/75 [==============================] - 0s 93us/sample - loss: 0.1208\n",
      "Epoch 283/300\n",
      "75/75 [==============================] - 0s 93us/sample - loss: 0.1219\n",
      "Epoch 284/300\n",
      "75/75 [==============================] - 0s 94us/sample - loss: 0.1279\n",
      "Epoch 285/300\n",
      "75/75 [==============================] - 0s 93us/sample - loss: 0.1194\n",
      "Epoch 286/300\n",
      "75/75 [==============================] - 0s 80us/sample - loss: 0.1211\n",
      "Epoch 287/300\n",
      "75/75 [==============================] - 0s 107us/sample - loss: 0.1234\n",
      "Epoch 288/300\n",
      "75/75 [==============================] - 0s 93us/sample - loss: 0.1176\n",
      "Epoch 289/300\n"
     ]
    },
    {
     "name": "stdout",
     "output_type": "stream",
     "text": [
      "75/75 [==============================] - 0s 94us/sample - loss: 0.1257\n",
      "Epoch 290/300\n",
      "75/75 [==============================] - 0s 93us/sample - loss: 0.1165\n",
      "Epoch 291/300\n",
      "75/75 [==============================] - 0s 93us/sample - loss: 0.1324\n",
      "Epoch 292/300\n",
      "75/75 [==============================] - 0s 107us/sample - loss: 0.1159\n",
      "Epoch 293/300\n",
      "75/75 [==============================] - 0s 107us/sample - loss: 0.1221\n",
      "Epoch 294/300\n",
      "75/75 [==============================] - 0s 93us/sample - loss: 0.1142\n",
      "Epoch 295/300\n",
      "75/75 [==============================] - 0s 93us/sample - loss: 0.1238\n",
      "Epoch 296/300\n",
      "75/75 [==============================] - 0s 107us/sample - loss: 0.1431\n",
      "Epoch 297/300\n",
      "75/75 [==============================] - 0s 80us/sample - loss: 0.1234\n",
      "Epoch 298/300\n",
      "75/75 [==============================] - 0s 107us/sample - loss: 0.1653\n",
      "Epoch 299/300\n",
      "75/75 [==============================] - 0s 93us/sample - loss: 0.2180\n",
      "Epoch 300/300\n",
      "75/75 [==============================] - 0s 93us/sample - loss: 0.1432\n"
     ]
    }
   ],
   "source": [
    "# number of inputs\n",
    "input_dim = 2\n",
    "# output dimensions (classes)\n",
    "output_dim = 1\n",
    "model = build_model(input_dim, output_dim)\n",
    "\n",
    "EPOCHS = 300\n",
    "\n",
    "history = model.fit(x_train, y_train, epochs=EPOCHS)"
   ]
  },
  {
   "cell_type": "code",
   "execution_count": 77,
   "metadata": {
    "colab": {
     "base_uri": "https://localhost:8080/",
     "height": 321
    },
    "colab_type": "code",
    "id": "JGVaBZ_VSOT6",
    "outputId": "3a1ef363-10fe-4e75-a7b3-95b07930ed0c"
   },
   "outputs": [
    {
     "data": {
      "image/png": "[encoded data removed]",
      "text/plain": [
       "<Figure size 720x360 with 2 Axes>"
      ]
     },
     "metadata": {
      "needs_background": "light"
     },
     "output_type": "display_data"
    }
   ],
   "source": [
    "# make predictions\n",
    "preds = model.predict(x_test)\n",
    "\n",
    "fig, ax = plt.subplots(2, figsize=(10,5))\n",
    "\n",
    "for i in range(len(x_test)):\n",
    "  # plot real value\n",
    "  ax[0].scatter(x_test[i][0], x_test[i][1], c='blue' if y_test[i] == 1 else 'red', label='Real')\n",
    "  # plot predictions\n",
    "  ax[1].scatter(x_test[i][0], x_test[i][1], c='blue' if preds[i] >= .5 else 'red', label='Predictions')\n",
    "  "
   ]
  },
  {
   "cell_type": "code",
   "execution_count": 78,
   "metadata": {
    "colab": {
     "base_uri": "https://localhost:8080/",
     "height": 52
    },
    "colab_type": "code",
    "id": "VA27hRL5TWx1",
    "outputId": "05097b6c-550d-4788-c035-c7b549733363"
   },
   "outputs": [
    {
     "name": "stdout",
     "output_type": "stream",
     "text": [
      "(2, 1)\n",
      "(1,)\n"
     ]
    }
   ],
   "source": [
    "# draw line by obtaining weights\n",
    "\n",
    "# get weights from model\n",
    "weights = model.get_weights()\n",
    "\n",
    "# has input shape of 2, which represent our weight vector\n",
    "print(weights[0].shape)\n",
    "\n",
    "# has output shape of 1, which will represent our b\n",
    "print(weights[1].shape)"
   ]
  },
  {
   "cell_type": "code",
   "execution_count": 80,
   "metadata": {
    "colab": {
     "base_uri": "https://localhost:8080/",
     "height": 70
    },
    "colab_type": "code",
    "id": "IY_3CQ0-N9gb",
    "outputId": "dcbb1a49-85c7-49bb-be60-fe846230e80c"
   },
   "outputs": [
    {
     "name": "stdout",
     "output_type": "stream",
     "text": [
      "[[17.786581  ]\n",
      " [-0.24418426]]\n",
      "[0.7244214]\n"
     ]
    }
   ],
   "source": [
    "# these will be the weights we use to plot our graph\n",
    "# weight vector\n",
    "print(weights[0])\n",
    "\n",
    "# bias\n",
    "print(weights[1])"
   ]
  },
  {
   "cell_type": "markdown",
   "metadata": {
    "colab_type": "text",
    "id": "YtY9WmL12kH2"
   },
   "source": [
    "# Obtaining Dividing Line\n",
    "\n",
    "\n",
    "\n",
    "Currently our predictions are in the form\n",
    "$ \\hat y = \\sigma ( w_1 x_1 +w_2 x_2 + b )$\n",
    "\n",
    "To obtain our dividing line, we are trying to get our weights in the form of\n",
    "\n",
    "$y = mx + b $\n",
    "\n",
    "or rather \n",
    "\n",
    "$x_2 = (w_1 x_1 + b) / w_2 $"
   ]
  },
  {
   "cell_type": "code",
   "execution_count": 81,
   "metadata": {
    "colab": {},
    "colab_type": "code",
    "id": "_SoR-Wsogiez"
   },
   "outputs": [],
   "source": [
    "# create an array to represent the space of our data\n",
    "d = np.linspace(0, 1)\n",
    "\n",
    "pred_line = -((weights[0][0] * d) + weights[1]) / weights[0][1]"
   ]
  },
  {
   "cell_type": "code",
   "execution_count": 82,
   "metadata": {
    "colab": {
     "base_uri": "https://localhost:8080/",
     "height": 592
    },
    "colab_type": "code",
    "id": "XAplbQLJimw9",
    "outputId": "453212f4-da52-4291-c2e5-4cbcd2248511"
   },
   "outputs": [
    {
     "data": {
      "image/png": "[encoded data removed]",
      "text/plain": [
       "<Figure size 720x720 with 1 Axes>"
      ]
     },
     "metadata": {
      "needs_background": "light"
     },
     "output_type": "display_data"
    }
   ],
   "source": [
    "# plot line\n",
    "fig, ax = plt.subplots(figsize=(10,10))\n",
    "ax.plot(d, pred_line)\n",
    "\n",
    "\n",
    "for i in range(len(x_1)):\n",
    "  # plot real value\n",
    "  ax.scatter(x_1[i], x_2[i], c='blue' if y[i] == 1 else 'red', label='Real')\n",
    "\n",
    "plt.show()"
   ]
  },
  {
   "cell_type": "code",
   "execution_count": 152,
   "metadata": {},
   "outputs": [
    {
     "name": "stdout",
     "output_type": "stream",
     "text": [
      "-22.121631417792216 114.99792872768761\n",
      "(50, 50)\n"
     ]
    }
   ],
   "source": [
    "def sigmoid(z):\n",
    "    return 1 / (1 + math.exp(-z))\n",
    "\n",
    "def make_prediction(w, b, x):\n",
    "    return sigmoid(np.dot(w.T, x) + b)\n",
    "\n",
    "# heat map\n",
    "\n",
    "# find range of x2\n",
    "range_min = min(x_2)\n",
    "range_max = max(x_2)\n",
    "print(range_min, range_max)\n",
    "xv, yv = np.meshgrid(np.linspace(0,1), np.linspace(range_min, range_max))\n",
    "xv = xv[0]\n",
    "yv = [yv[i][0] for i in range(len(yv))]\n",
    "\n",
    "d = np.array([xv,yv]).T\n",
    "\n",
    "map = np.zeros((50,50))\n",
    "\n",
    "for k in range(len(xv)):\n",
    "    for j in range(len(yv)):\n",
    "        map[j][k] = make_prediction(weights[0], weights[1], [xv[k], yv[j]])"
   ]
  },
  {
   "cell_type": "code",
   "execution_count": 155,
   "metadata": {},
   "outputs": [
    {
     "data": {
      "image/png": "[encoded data removed]",
      "text/plain": [
       "<Figure size 720x720 with 1 Axes>"
      ]
     },
     "metadata": {
      "needs_background": "light"
     },
     "output_type": "display_data"
    }
   ],
   "source": [
    "fig, ax = plt.subplots(figsize=(10,10))\n",
    "ax.pcolormesh(xv, yv, map, shading='gourand', cmap=plt.cm.plasma)\n",
    "plt.show()"
   ]
  },
  {
   "cell_type": "markdown",
   "metadata": {
    "colab_type": "text",
    "id": "Aq70vulmbJEL"
   },
   "source": [
    "Problem 3\n",
    "\n",
    "Use numpy to implement a logistic regression model from scratch and train it with the data generated as in Problem 1.\n",
    "\n",
    "Hints: Look at the notes on logistic regression to figure out what the gradient is of the binary cross entropy loss with respect to w and b. Note that you only have to implement stochastic gradient, that is, you do not have to write vectorized code for mini-batch gradient descent.\n",
    "\n",
    "Create a plot showing the random data, the true line used to generate the data, and the separating line of the trained model.\n",
    "\n",
    "Use a heatmap to visualize the function defined by your trained model.\n",
    "\n",
    "You also have to compute the binary cross entropy loss and accuracy on the test set.\n",
    "\n",
    "https://towardsdatascience.com/logistic-regression-from-scratch-with-numpy-da4cc3121ece?gi=5969b4744006\n",
    "\n",
    "https://www.kaggle.com/emilyhorsman/basic-logistic-regression-with-numpy\n",
    "\n",
    "https://github.com/schneider128k/machine_learning_course/blob/master/slides/logistic_regression.pdf\n",
    "\n",
    "https://towardsdatascience.com/building-a-logistic-regression-in-python-301d27367c24"
   ]
  },
  {
   "cell_type": "markdown",
   "metadata": {
    "colab_type": "text",
    "id": "FWMAmBbCDL6t"
   },
   "source": [
    "# Logistic Regression Numpy Implementation\n",
    "\n",
    "$ \\hat y = \\sigma ( \\Sigma_{j=1}^{n} w_j x_j + b ) = \\sigma( \\vec w^T \\vec x + b) $"
   ]
  },
  {
   "cell_type": "code",
   "execution_count": 69,
   "metadata": {},
   "outputs": [],
   "source": [
    "# sigmoid function\n",
    "def sigmoid(z):\n",
    "    return 1 / (1 + math.exp(-z))\n",
    "\n",
    "class cantMultiply(Exception):\n",
    "  def __init__(self, matrix1, matrix2):\n",
    "    print('Cannot multiply ', matrix1, ' and ', matrix2)\n",
    "    \n",
    "# compute yhat\n",
    "def make_prediction(w, b, x):\n",
    "    return sigmoid(np.dot(w.T, x) + b)\n",
    "    "
   ]
  },
  {
   "cell_type": "markdown",
   "metadata": {},
   "source": [
    "# Computing Loss\n",
    "\n",
    "### Binary Cross Entropy Loss\n",
    "$ L_{ce} -y \\log(a) - (1 - y)\\log(1-a)$\n",
    "\n",
    "### Compute Gradients\n",
    "$ \\frac{\\delta L_{ce}}{\\delta w_j} = (a - y) \\cdot x_j $\n",
    "\n",
    "\n",
    "$  \\frac{\\delta L_{ce}}{\\delta b} = (a - y)$"
   ]
  },
  {
   "cell_type": "code",
   "execution_count": 21,
   "metadata": {},
   "outputs": [],
   "source": [
    "# compute gradient of loss function for each weight and b\n",
    "# return the new weights and b\n",
    "def gradientDescent(a, y, x, w, b, learning_rate=0.1):\n",
    "    # gradient descent for each weight\n",
    "    w -= learning_rate * ((a - y) * x)\n",
    "    \n",
    "    # compute b\n",
    "    b -= learning_rate * (a - y)\n",
    "    \n",
    "    return w, b"
   ]
  },
  {
   "cell_type": "code",
   "execution_count": 62,
   "metadata": {
    "colab": {},
    "colab_type": "code",
    "id": "FmCx1XIcbKN_"
   },
   "outputs": [],
   "source": [
    "class Model:\n",
    "    def __init__(self, input_dim=2, learning_rate=0.1  , epochs=300):\n",
    "        self.input_dim = input_dim\n",
    "        # weights\n",
    "        self.w = np.random.rand(input_dim)\n",
    "        self.b = np.random.rand(1)\n",
    "        # hyperparameters\n",
    "        self.learning_rate=learning_rate\n",
    "        self.epochs=epochs\n",
    "        self.history = [[self.w[0], self.w[1], self.b[0]]]\n",
    "    \n",
    "    def train(self, train_x, train_y): \n",
    "        for e in range(self.epochs):\n",
    "            \n",
    "            # each example\n",
    "            for k in range(len(train_x)):\n",
    "                a = make_prediction(self.w, self.b, train_x[k])\n",
    "                y = train_y[k]\n",
    "                \n",
    "                # update weights\n",
    "                self.w, self.b = gradientDescent(a, y, train_x[k], self.w, self.b)\n",
    "                self.history.append([self.w[0], self.w[1], self.b[0]])\n",
    "                \n",
    "    def plot_line(self, x, y):\n",
    "        fig, ax = plt.subplots(figsize=(10,10))\n",
    "        d = np.linspace(0, 1)\n",
    "        \n",
    "        print(self.w)\n",
    "        pred_line = -((self.w[0] * d) + self.b) / self.w[1]\n",
    "        ax.plot(d, pred_line)\n",
    "        \n",
    "        for i in range(len(x)):\n",
    "          # plot real value\n",
    "          ax.scatter(x[i][0], x[i][1], c='blue' if y[i] == 1 else 'red', label='Real')\n",
    "            \n",
    "        plt.show()\n",
    "        \n",
    "    def plot_history(self, x, y):\n",
    "        fig, ax = plt.subplots(figsize=(10,10))\n",
    "        d = np.linspace(0, 1)\n",
    "        for h in self.history:\n",
    "            pred_line = -((h[0] * d) + h[2]) / h[1]\n",
    "            ax.plot(d, pred_line)\n",
    "            #print(h)\n",
    "        \n",
    "        for i in range(len(x)):\n",
    "          # plot real value\n",
    "          ax.scatter(x[i][0], x[i][1], c='blue' if y[i] == 1 else 'red', label='Real')\n",
    "        \n",
    "        print(self.history[0]) \n",
    "        plt.show()"
   ]
  },
  {
   "cell_type": "code",
   "execution_count": 63,
   "metadata": {
    "colab": {},
    "colab_type": "code",
    "id": "TchrygYSnNg3"
   },
   "outputs": [],
   "source": [
    "x_1, x_2, y = get_random_data(100,10,15,5,100)\n",
    "\n",
    "# X = (x1, x2 ... xn)T\n",
    "X = np.array([x_1, x_2]).T"
   ]
  },
  {
   "cell_type": "code",
   "execution_count": 64,
   "metadata": {
    "colab": {},
    "colab_type": "code",
    "id": "cvoBThe3N7Tl"
   },
   "outputs": [],
   "source": [
    "model = Model()"
   ]
  },
  {
   "cell_type": "code",
   "execution_count": 65,
   "metadata": {
    "colab": {
     "base_uri": "https://localhost:8080/",
     "height": 1000
    },
    "colab_type": "code",
    "id": "5spwbWfcLCic",
    "outputId": "c69833ed-8866-4c3a-b696-81f92e623653"
   },
   "outputs": [
    {
     "name": "stderr",
     "output_type": "stream",
     "text": [
      "C:\\Users\\nspee\\Anaconda3\\envs\\ML\\lib\\site-packages\\ipykernel_launcher.py:3: RuntimeWarning: overflow encountered in exp\n",
      "  This is separate from the ipykernel package so we can avoid doing imports until\n"
     ]
    }
   ],
   "source": [
    "model.train(X, y)"
   ]
  },
  {
   "cell_type": "code",
   "execution_count": 66,
   "metadata": {
    "colab": {},
    "colab_type": "code",
    "id": "Bk2WTk4LLNwB"
   },
   "outputs": [
    {
     "name": "stdout",
     "output_type": "stream",
     "text": [
      "[0.23775906526916868, 0.05041878515062903, 0.7523806567186244]\n"
     ]
    },
    {
     "data": {
      "image/png": "[encoded data removed]",
      "text/plain": [
       "<Figure size 720x720 with 1 Axes>"
      ]
     },
     "metadata": {
      "needs_background": "light"
     },
     "output_type": "display_data"
    }
   ],
   "source": [
    "#model.plot_line(X,y)\n",
    "model.plot_history(X, y)"
   ]
  },
  {
   "cell_type": "code",
   "execution_count": null,
   "metadata": {},
   "outputs": [],
   "source": []
  },
  {
   "cell_type": "code",
   "execution_count": null,
   "metadata": {},
   "outputs": [],
   "source": []
  }
 ],
 "metadata": {
  "colab": {
   "authorship_tag": "ABX9TyOwoUU4yUX87PeJLx2k6NdY",
   "collapsed_sections": [],
   "include_colab_link": true,
   "name": "hw3.ipynb",
   "provenance": []
  },
  "kernelspec": {
   "display_name": "Python 3",
   "language": "python",
   "name": "python3"
  },
  "language_info": {
   "codemirror_mode": {
    "name": "ipython",
    "version": 3
   },
   "file_extension": ".py",
   "mimetype": "text/x-python",
   "name": "python",
   "nbconvert_exporter": "python",
   "pygments_lexer": "ipython3",
   "version": "3.7.6"
  }
 },
 "nbformat": 4,
 "nbformat_minor": 1
}
